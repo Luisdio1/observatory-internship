{
 "cells": [
  {
   "cell_type": "code",
   "execution_count": 72,
   "id": "prescribed-reduction",
   "metadata": {
    "tags": []
   },
   "outputs": [],
   "source": [
    "# Import required libraries\n",
    "import xarray as xr\n",
    "from pathlib import Path\n",
    "import numpy as np\n",
    "import datetime\n",
    "import pandas as pd\n",
    "import cfgrib\n",
    "import os\n",
    "import shutil\n",
    "from datetime import datetime\n",
    "import matplotlib.pyplot as plt"
   ]
  },
  {
   "cell_type": "code",
   "execution_count": 73,
   "id": "built-toolbox",
   "metadata": {},
   "outputs": [],
   "source": [
    "bolam_cube = xr.open_dataset(Path.home() / 'hdd1/diogenis/observatory/bolam_meteo.nc')"
   ]
  },
  {
   "cell_type": "code",
   "execution_count": 74,
   "id": "spoken-agenda",
   "metadata": {},
   "outputs": [
    {
     "data": {
      "text/html": [
       "<div><svg style=\"position: absolute; width: 0; height: 0; overflow: hidden\">\n",
       "<defs>\n",
       "<symbol id=\"icon-database\" viewBox=\"0 0 32 32\">\n",
       "<path d=\"M16 0c-8.837 0-16 2.239-16 5v4c0 2.761 7.163 5 16 5s16-2.239 16-5v-4c0-2.761-7.163-5-16-5z\"></path>\n",
       "<path d=\"M16 17c-8.837 0-16-2.239-16-5v6c0 2.761 7.163 5 16 5s16-2.239 16-5v-6c0 2.761-7.163 5-16 5z\"></path>\n",
       "<path d=\"M16 26c-8.837 0-16-2.239-16-5v6c0 2.761 7.163 5 16 5s16-2.239 16-5v-6c0 2.761-7.163 5-16 5z\"></path>\n",
       "</symbol>\n",
       "<symbol id=\"icon-file-text2\" viewBox=\"0 0 32 32\">\n",
       "<path d=\"M28.681 7.159c-0.694-0.947-1.662-2.053-2.724-3.116s-2.169-2.030-3.116-2.724c-1.612-1.182-2.393-1.319-2.841-1.319h-15.5c-1.378 0-2.5 1.121-2.5 2.5v27c0 1.378 1.122 2.5 2.5 2.5h23c1.378 0 2.5-1.122 2.5-2.5v-19.5c0-0.448-0.137-1.23-1.319-2.841zM24.543 5.457c0.959 0.959 1.712 1.825 2.268 2.543h-4.811v-4.811c0.718 0.556 1.584 1.309 2.543 2.268zM28 29.5c0 0.271-0.229 0.5-0.5 0.5h-23c-0.271 0-0.5-0.229-0.5-0.5v-27c0-0.271 0.229-0.5 0.5-0.5 0 0 15.499-0 15.5 0v7c0 0.552 0.448 1 1 1h7v19.5z\"></path>\n",
       "<path d=\"M23 26h-14c-0.552 0-1-0.448-1-1s0.448-1 1-1h14c0.552 0 1 0.448 1 1s-0.448 1-1 1z\"></path>\n",
       "<path d=\"M23 22h-14c-0.552 0-1-0.448-1-1s0.448-1 1-1h14c0.552 0 1 0.448 1 1s-0.448 1-1 1z\"></path>\n",
       "<path d=\"M23 18h-14c-0.552 0-1-0.448-1-1s0.448-1 1-1h14c0.552 0 1 0.448 1 1s-0.448 1-1 1z\"></path>\n",
       "</symbol>\n",
       "</defs>\n",
       "</svg>\n",
       "<style>/* CSS stylesheet for displaying xarray objects in jupyterlab.\n",
       " *\n",
       " */\n",
       "\n",
       ":root {\n",
       "  --xr-font-color0: var(--jp-content-font-color0, rgba(0, 0, 0, 1));\n",
       "  --xr-font-color2: var(--jp-content-font-color2, rgba(0, 0, 0, 0.54));\n",
       "  --xr-font-color3: var(--jp-content-font-color3, rgba(0, 0, 0, 0.38));\n",
       "  --xr-border-color: var(--jp-border-color2, #e0e0e0);\n",
       "  --xr-disabled-color: var(--jp-layout-color3, #bdbdbd);\n",
       "  --xr-background-color: var(--jp-layout-color0, white);\n",
       "  --xr-background-color-row-even: var(--jp-layout-color1, white);\n",
       "  --xr-background-color-row-odd: var(--jp-layout-color2, #eeeeee);\n",
       "}\n",
       "\n",
       "html[theme=dark],\n",
       "body.vscode-dark {\n",
       "  --xr-font-color0: rgba(255, 255, 255, 1);\n",
       "  --xr-font-color2: rgba(255, 255, 255, 0.54);\n",
       "  --xr-font-color3: rgba(255, 255, 255, 0.38);\n",
       "  --xr-border-color: #1F1F1F;\n",
       "  --xr-disabled-color: #515151;\n",
       "  --xr-background-color: #111111;\n",
       "  --xr-background-color-row-even: #111111;\n",
       "  --xr-background-color-row-odd: #313131;\n",
       "}\n",
       "\n",
       ".xr-wrap {\n",
       "  display: block;\n",
       "  min-width: 300px;\n",
       "  max-width: 700px;\n",
       "}\n",
       "\n",
       ".xr-text-repr-fallback {\n",
       "  /* fallback to plain text repr when CSS is not injected (untrusted notebook) */\n",
       "  display: none;\n",
       "}\n",
       "\n",
       ".xr-header {\n",
       "  padding-top: 6px;\n",
       "  padding-bottom: 6px;\n",
       "  margin-bottom: 4px;\n",
       "  border-bottom: solid 1px var(--xr-border-color);\n",
       "}\n",
       "\n",
       ".xr-header > div,\n",
       ".xr-header > ul {\n",
       "  display: inline;\n",
       "  margin-top: 0;\n",
       "  margin-bottom: 0;\n",
       "}\n",
       "\n",
       ".xr-obj-type,\n",
       ".xr-array-name {\n",
       "  margin-left: 2px;\n",
       "  margin-right: 10px;\n",
       "}\n",
       "\n",
       ".xr-obj-type {\n",
       "  color: var(--xr-font-color2);\n",
       "}\n",
       "\n",
       ".xr-sections {\n",
       "  padding-left: 0 !important;\n",
       "  display: grid;\n",
       "  grid-template-columns: 150px auto auto 1fr 20px 20px;\n",
       "}\n",
       "\n",
       ".xr-section-item {\n",
       "  display: contents;\n",
       "}\n",
       "\n",
       ".xr-section-item input {\n",
       "  display: none;\n",
       "}\n",
       "\n",
       ".xr-section-item input + label {\n",
       "  color: var(--xr-disabled-color);\n",
       "}\n",
       "\n",
       ".xr-section-item input:enabled + label {\n",
       "  cursor: pointer;\n",
       "  color: var(--xr-font-color2);\n",
       "}\n",
       "\n",
       ".xr-section-item input:enabled + label:hover {\n",
       "  color: var(--xr-font-color0);\n",
       "}\n",
       "\n",
       ".xr-section-summary {\n",
       "  grid-column: 1;\n",
       "  color: var(--xr-font-color2);\n",
       "  font-weight: 500;\n",
       "}\n",
       "\n",
       ".xr-section-summary > span {\n",
       "  display: inline-block;\n",
       "  padding-left: 0.5em;\n",
       "}\n",
       "\n",
       ".xr-section-summary-in:disabled + label {\n",
       "  color: var(--xr-font-color2);\n",
       "}\n",
       "\n",
       ".xr-section-summary-in + label:before {\n",
       "  display: inline-block;\n",
       "  content: '►';\n",
       "  font-size: 11px;\n",
       "  width: 15px;\n",
       "  text-align: center;\n",
       "}\n",
       "\n",
       ".xr-section-summary-in:disabled + label:before {\n",
       "  color: var(--xr-disabled-color);\n",
       "}\n",
       "\n",
       ".xr-section-summary-in:checked + label:before {\n",
       "  content: '▼';\n",
       "}\n",
       "\n",
       ".xr-section-summary-in:checked + label > span {\n",
       "  display: none;\n",
       "}\n",
       "\n",
       ".xr-section-summary,\n",
       ".xr-section-inline-details {\n",
       "  padding-top: 4px;\n",
       "  padding-bottom: 4px;\n",
       "}\n",
       "\n",
       ".xr-section-inline-details {\n",
       "  grid-column: 2 / -1;\n",
       "}\n",
       "\n",
       ".xr-section-details {\n",
       "  display: none;\n",
       "  grid-column: 1 / -1;\n",
       "  margin-bottom: 5px;\n",
       "}\n",
       "\n",
       ".xr-section-summary-in:checked ~ .xr-section-details {\n",
       "  display: contents;\n",
       "}\n",
       "\n",
       ".xr-array-wrap {\n",
       "  grid-column: 1 / -1;\n",
       "  display: grid;\n",
       "  grid-template-columns: 20px auto;\n",
       "}\n",
       "\n",
       ".xr-array-wrap > label {\n",
       "  grid-column: 1;\n",
       "  vertical-align: top;\n",
       "}\n",
       "\n",
       ".xr-preview {\n",
       "  color: var(--xr-font-color3);\n",
       "}\n",
       "\n",
       ".xr-array-preview,\n",
       ".xr-array-data {\n",
       "  padding: 0 5px !important;\n",
       "  grid-column: 2;\n",
       "}\n",
       "\n",
       ".xr-array-data,\n",
       ".xr-array-in:checked ~ .xr-array-preview {\n",
       "  display: none;\n",
       "}\n",
       "\n",
       ".xr-array-in:checked ~ .xr-array-data,\n",
       ".xr-array-preview {\n",
       "  display: inline-block;\n",
       "}\n",
       "\n",
       ".xr-dim-list {\n",
       "  display: inline-block !important;\n",
       "  list-style: none;\n",
       "  padding: 0 !important;\n",
       "  margin: 0;\n",
       "}\n",
       "\n",
       ".xr-dim-list li {\n",
       "  display: inline-block;\n",
       "  padding: 0;\n",
       "  margin: 0;\n",
       "}\n",
       "\n",
       ".xr-dim-list:before {\n",
       "  content: '(';\n",
       "}\n",
       "\n",
       ".xr-dim-list:after {\n",
       "  content: ')';\n",
       "}\n",
       "\n",
       ".xr-dim-list li:not(:last-child):after {\n",
       "  content: ',';\n",
       "  padding-right: 5px;\n",
       "}\n",
       "\n",
       ".xr-has-index {\n",
       "  font-weight: bold;\n",
       "}\n",
       "\n",
       ".xr-var-list,\n",
       ".xr-var-item {\n",
       "  display: contents;\n",
       "}\n",
       "\n",
       ".xr-var-item > div,\n",
       ".xr-var-item label,\n",
       ".xr-var-item > .xr-var-name span {\n",
       "  background-color: var(--xr-background-color-row-even);\n",
       "  margin-bottom: 0;\n",
       "}\n",
       "\n",
       ".xr-var-item > .xr-var-name:hover span {\n",
       "  padding-right: 5px;\n",
       "}\n",
       "\n",
       ".xr-var-list > li:nth-child(odd) > div,\n",
       ".xr-var-list > li:nth-child(odd) > label,\n",
       ".xr-var-list > li:nth-child(odd) > .xr-var-name span {\n",
       "  background-color: var(--xr-background-color-row-odd);\n",
       "}\n",
       "\n",
       ".xr-var-name {\n",
       "  grid-column: 1;\n",
       "}\n",
       "\n",
       ".xr-var-dims {\n",
       "  grid-column: 2;\n",
       "}\n",
       "\n",
       ".xr-var-dtype {\n",
       "  grid-column: 3;\n",
       "  text-align: right;\n",
       "  color: var(--xr-font-color2);\n",
       "}\n",
       "\n",
       ".xr-var-preview {\n",
       "  grid-column: 4;\n",
       "}\n",
       "\n",
       ".xr-var-name,\n",
       ".xr-var-dims,\n",
       ".xr-var-dtype,\n",
       ".xr-preview,\n",
       ".xr-attrs dt {\n",
       "  white-space: nowrap;\n",
       "  overflow: hidden;\n",
       "  text-overflow: ellipsis;\n",
       "  padding-right: 10px;\n",
       "}\n",
       "\n",
       ".xr-var-name:hover,\n",
       ".xr-var-dims:hover,\n",
       ".xr-var-dtype:hover,\n",
       ".xr-attrs dt:hover {\n",
       "  overflow: visible;\n",
       "  width: auto;\n",
       "  z-index: 1;\n",
       "}\n",
       "\n",
       ".xr-var-attrs,\n",
       ".xr-var-data {\n",
       "  display: none;\n",
       "  background-color: var(--xr-background-color) !important;\n",
       "  padding-bottom: 5px !important;\n",
       "}\n",
       "\n",
       ".xr-var-attrs-in:checked ~ .xr-var-attrs,\n",
       ".xr-var-data-in:checked ~ .xr-var-data {\n",
       "  display: block;\n",
       "}\n",
       "\n",
       ".xr-var-data > table {\n",
       "  float: right;\n",
       "}\n",
       "\n",
       ".xr-var-name span,\n",
       ".xr-var-data,\n",
       ".xr-attrs {\n",
       "  padding-left: 25px !important;\n",
       "}\n",
       "\n",
       ".xr-attrs,\n",
       ".xr-var-attrs,\n",
       ".xr-var-data {\n",
       "  grid-column: 1 / -1;\n",
       "}\n",
       "\n",
       "dl.xr-attrs {\n",
       "  padding: 0;\n",
       "  margin: 0;\n",
       "  display: grid;\n",
       "  grid-template-columns: 125px auto;\n",
       "}\n",
       "\n",
       ".xr-attrs dt,\n",
       ".xr-attrs dd {\n",
       "  padding: 0;\n",
       "  margin: 0;\n",
       "  float: left;\n",
       "  padding-right: 10px;\n",
       "  width: auto;\n",
       "}\n",
       "\n",
       ".xr-attrs dt {\n",
       "  font-weight: normal;\n",
       "  grid-column: 1;\n",
       "}\n",
       "\n",
       ".xr-attrs dt:hover span {\n",
       "  display: inline-block;\n",
       "  background: var(--xr-background-color);\n",
       "  padding-right: 10px;\n",
       "}\n",
       "\n",
       ".xr-attrs dd {\n",
       "  grid-column: 2;\n",
       "  white-space: pre-wrap;\n",
       "  word-break: break-all;\n",
       "}\n",
       "\n",
       ".xr-icon-database,\n",
       ".xr-icon-file-text2 {\n",
       "  display: inline-block;\n",
       "  vertical-align: middle;\n",
       "  width: 1em;\n",
       "  height: 1.5em !important;\n",
       "  stroke-width: 0;\n",
       "  stroke: currentColor;\n",
       "  fill: currentColor;\n",
       "}\n",
       "</style><pre class='xr-text-repr-fallback'>&lt;xarray.Dataset&gt;\n",
       "Dimensions:         (time: 183, y: 983, x: 1253)\n",
       "Coordinates:\n",
       "  * time            (time) datetime64[ns] 2021-05-01 2021-05-02 ... 2021-10-31\n",
       "  * x               (x) float64 18.7 18.71 18.72 18.73 ... 28.88 28.89 28.9\n",
       "  * y               (y) float64 42.3 42.29 42.28 42.27 ... 34.32 34.31 34.3\n",
       "Data variables:\n",
       "    max_t2m         (time, y, x) float32 ...\n",
       "    min_relhum_2m   (time, y, x) float32 ...\n",
       "    max_d2m         (time, y, x) float32 ...\n",
       "    max_wind_speed  (time, y, x) float32 ...\n",
       "    max_apcp        (time, y, x) float32 ...</pre><div class='xr-wrap' hidden><div class='xr-header'><div class='xr-obj-type'>xarray.Dataset</div></div><ul class='xr-sections'><li class='xr-section-item'><input id='section-f29df2bb-e0be-431d-a5e9-ae9ef9bfd1e1' class='xr-section-summary-in' type='checkbox' disabled ><label for='section-f29df2bb-e0be-431d-a5e9-ae9ef9bfd1e1' class='xr-section-summary'  title='Expand/collapse section'>Dimensions:</label><div class='xr-section-inline-details'><ul class='xr-dim-list'><li><span class='xr-has-index'>time</span>: 183</li><li><span class='xr-has-index'>y</span>: 983</li><li><span class='xr-has-index'>x</span>: 1253</li></ul></div><div class='xr-section-details'></div></li><li class='xr-section-item'><input id='section-cc30d2e6-7dfa-43ff-ab9d-3f718af08a56' class='xr-section-summary-in' type='checkbox'  checked><label for='section-cc30d2e6-7dfa-43ff-ab9d-3f718af08a56' class='xr-section-summary' >Coordinates: <span>(3)</span></label><div class='xr-section-inline-details'></div><div class='xr-section-details'><ul class='xr-var-list'><li class='xr-var-item'><div class='xr-var-name'><span class='xr-has-index'>time</span></div><div class='xr-var-dims'>(time)</div><div class='xr-var-dtype'>datetime64[ns]</div><div class='xr-var-preview xr-preview'>2021-05-01 ... 2021-10-31</div><input id='attrs-58563f2b-e054-468b-ab5e-a5f33ad44c91' class='xr-var-attrs-in' type='checkbox' disabled><label for='attrs-58563f2b-e054-468b-ab5e-a5f33ad44c91' title='Show/Hide attributes'><svg class='icon xr-icon-file-text2'><use xlink:href='#icon-file-text2'></use></svg></label><input id='data-dcd6e7e5-2822-4aa7-8788-ee266678a075' class='xr-var-data-in' type='checkbox'><label for='data-dcd6e7e5-2822-4aa7-8788-ee266678a075' title='Show/Hide data repr'><svg class='icon xr-icon-database'><use xlink:href='#icon-database'></use></svg></label><div class='xr-var-attrs'><dl class='xr-attrs'></dl></div><div class='xr-var-data'><pre>array([&#x27;2021-05-01T00:00:00.000000000&#x27;, &#x27;2021-05-02T00:00:00.000000000&#x27;,\n",
       "       &#x27;2021-05-03T00:00:00.000000000&#x27;, &#x27;2021-05-04T00:00:00.000000000&#x27;,\n",
       "       &#x27;2021-05-05T00:00:00.000000000&#x27;, &#x27;2021-05-06T00:00:00.000000000&#x27;,\n",
       "       &#x27;2021-05-07T00:00:00.000000000&#x27;, &#x27;2021-05-08T00:00:00.000000000&#x27;,\n",
       "       &#x27;2021-05-09T00:00:00.000000000&#x27;, &#x27;2021-05-10T00:00:00.000000000&#x27;,\n",
       "       &#x27;2021-05-11T00:00:00.000000000&#x27;, &#x27;2021-05-12T00:00:00.000000000&#x27;,\n",
       "       &#x27;2021-05-13T00:00:00.000000000&#x27;, &#x27;2021-05-14T00:00:00.000000000&#x27;,\n",
       "       &#x27;2021-05-15T00:00:00.000000000&#x27;, &#x27;2021-05-16T00:00:00.000000000&#x27;,\n",
       "       &#x27;2021-05-17T00:00:00.000000000&#x27;, &#x27;2021-05-18T00:00:00.000000000&#x27;,\n",
       "       &#x27;2021-05-19T00:00:00.000000000&#x27;, &#x27;2021-05-20T00:00:00.000000000&#x27;,\n",
       "       &#x27;2021-05-21T00:00:00.000000000&#x27;, &#x27;2021-05-22T00:00:00.000000000&#x27;,\n",
       "       &#x27;2021-05-23T00:00:00.000000000&#x27;, &#x27;2021-05-24T00:00:00.000000000&#x27;,\n",
       "       &#x27;2021-05-25T00:00:00.000000000&#x27;, &#x27;2021-05-26T00:00:00.000000000&#x27;,\n",
       "       &#x27;2021-05-27T00:00:00.000000000&#x27;, &#x27;2021-05-28T00:00:00.000000000&#x27;,\n",
       "       &#x27;2021-05-29T00:00:00.000000000&#x27;, &#x27;2021-05-30T00:00:00.000000000&#x27;,\n",
       "       &#x27;2021-05-31T00:00:00.000000000&#x27;, &#x27;2021-06-01T00:00:00.000000000&#x27;,\n",
       "       &#x27;2021-06-02T00:00:00.000000000&#x27;, &#x27;2021-06-03T00:00:00.000000000&#x27;,\n",
       "       &#x27;2021-06-04T00:00:00.000000000&#x27;, &#x27;2021-06-05T00:00:00.000000000&#x27;,\n",
       "       &#x27;2021-06-06T00:00:00.000000000&#x27;, &#x27;2021-06-07T00:00:00.000000000&#x27;,\n",
       "       &#x27;2021-06-08T00:00:00.000000000&#x27;, &#x27;2021-06-09T00:00:00.000000000&#x27;,\n",
       "       &#x27;2021-06-10T00:00:00.000000000&#x27;, &#x27;2021-06-11T00:00:00.000000000&#x27;,\n",
       "       &#x27;2021-06-12T00:00:00.000000000&#x27;, &#x27;2021-06-13T00:00:00.000000000&#x27;,\n",
       "       &#x27;2021-06-14T00:00:00.000000000&#x27;, &#x27;2021-06-15T00:00:00.000000000&#x27;,\n",
       "       &#x27;2021-06-16T00:00:00.000000000&#x27;, &#x27;2021-06-17T00:00:00.000000000&#x27;,\n",
       "       &#x27;2021-06-18T00:00:00.000000000&#x27;, &#x27;2021-06-19T00:00:00.000000000&#x27;,\n",
       "       &#x27;2021-06-20T00:00:00.000000000&#x27;, &#x27;2021-06-21T00:00:00.000000000&#x27;,\n",
       "       &#x27;2021-06-22T00:00:00.000000000&#x27;, &#x27;2021-06-23T00:00:00.000000000&#x27;,\n",
       "       &#x27;2021-06-24T00:00:00.000000000&#x27;, &#x27;2021-06-25T00:00:00.000000000&#x27;,\n",
       "       &#x27;2021-06-26T00:00:00.000000000&#x27;, &#x27;2021-06-27T00:00:00.000000000&#x27;,\n",
       "       &#x27;2021-06-28T00:00:00.000000000&#x27;, &#x27;2021-06-29T00:00:00.000000000&#x27;,\n",
       "       &#x27;2021-06-30T00:00:00.000000000&#x27;, &#x27;2021-07-01T00:00:00.000000000&#x27;,\n",
       "       &#x27;2021-07-02T00:00:00.000000000&#x27;, &#x27;2021-07-03T00:00:00.000000000&#x27;,\n",
       "       &#x27;2021-07-04T00:00:00.000000000&#x27;, &#x27;2021-07-05T00:00:00.000000000&#x27;,\n",
       "       &#x27;2021-07-06T00:00:00.000000000&#x27;, &#x27;2021-07-07T00:00:00.000000000&#x27;,\n",
       "       &#x27;2021-07-08T00:00:00.000000000&#x27;, &#x27;2021-07-09T00:00:00.000000000&#x27;,\n",
       "       &#x27;2021-07-10T00:00:00.000000000&#x27;, &#x27;2021-07-11T00:00:00.000000000&#x27;,\n",
       "       &#x27;2021-07-12T00:00:00.000000000&#x27;, &#x27;2021-07-13T00:00:00.000000000&#x27;,\n",
       "       &#x27;2021-07-14T00:00:00.000000000&#x27;, &#x27;2021-07-15T00:00:00.000000000&#x27;,\n",
       "       &#x27;2021-07-16T00:00:00.000000000&#x27;, &#x27;2021-07-17T00:00:00.000000000&#x27;,\n",
       "       &#x27;2021-07-18T00:00:00.000000000&#x27;, &#x27;2021-07-19T00:00:00.000000000&#x27;,\n",
       "       &#x27;2021-07-20T00:00:00.000000000&#x27;, &#x27;2021-07-21T00:00:00.000000000&#x27;,\n",
       "       &#x27;2021-07-22T00:00:00.000000000&#x27;, &#x27;2021-07-23T00:00:00.000000000&#x27;,\n",
       "       &#x27;2021-07-24T00:00:00.000000000&#x27;, &#x27;2021-07-25T00:00:00.000000000&#x27;,\n",
       "       &#x27;2021-07-26T00:00:00.000000000&#x27;, &#x27;2021-07-27T00:00:00.000000000&#x27;,\n",
       "       &#x27;2021-07-28T00:00:00.000000000&#x27;, &#x27;2021-07-29T00:00:00.000000000&#x27;,\n",
       "       &#x27;2021-07-30T00:00:00.000000000&#x27;, &#x27;2021-07-31T00:00:00.000000000&#x27;,\n",
       "       &#x27;2021-08-01T00:00:00.000000000&#x27;, &#x27;2021-08-02T00:00:00.000000000&#x27;,\n",
       "       &#x27;2021-08-03T00:00:00.000000000&#x27;, &#x27;2021-08-04T00:00:00.000000000&#x27;,\n",
       "       &#x27;2021-08-05T00:00:00.000000000&#x27;, &#x27;2021-08-06T00:00:00.000000000&#x27;,\n",
       "       &#x27;2021-08-07T00:00:00.000000000&#x27;, &#x27;2021-08-08T00:00:00.000000000&#x27;,\n",
       "       &#x27;2021-08-09T00:00:00.000000000&#x27;, &#x27;2021-08-10T00:00:00.000000000&#x27;,\n",
       "       &#x27;2021-08-11T00:00:00.000000000&#x27;, &#x27;2021-08-12T00:00:00.000000000&#x27;,\n",
       "       &#x27;2021-08-13T00:00:00.000000000&#x27;, &#x27;2021-08-14T00:00:00.000000000&#x27;,\n",
       "       &#x27;2021-08-15T00:00:00.000000000&#x27;, &#x27;2021-08-16T00:00:00.000000000&#x27;,\n",
       "       &#x27;2021-08-17T00:00:00.000000000&#x27;, &#x27;2021-08-18T00:00:00.000000000&#x27;,\n",
       "       &#x27;2021-08-19T00:00:00.000000000&#x27;, &#x27;2021-08-20T00:00:00.000000000&#x27;,\n",
       "       &#x27;2021-08-21T00:00:00.000000000&#x27;, &#x27;2021-08-22T00:00:00.000000000&#x27;,\n",
       "       &#x27;2021-08-23T00:00:00.000000000&#x27;, &#x27;2021-08-24T00:00:00.000000000&#x27;,\n",
       "       &#x27;2021-08-25T00:00:00.000000000&#x27;, &#x27;2021-08-26T00:00:00.000000000&#x27;,\n",
       "       &#x27;2021-08-27T00:00:00.000000000&#x27;, &#x27;2021-08-28T00:00:00.000000000&#x27;,\n",
       "       &#x27;2021-08-29T00:00:00.000000000&#x27;, &#x27;2021-08-30T00:00:00.000000000&#x27;,\n",
       "       &#x27;2021-08-31T00:00:00.000000000&#x27;, &#x27;2021-09-01T00:00:00.000000000&#x27;,\n",
       "       &#x27;2021-09-02T00:00:00.000000000&#x27;, &#x27;2021-09-03T00:00:00.000000000&#x27;,\n",
       "       &#x27;2021-09-04T00:00:00.000000000&#x27;, &#x27;2021-09-05T00:00:00.000000000&#x27;,\n",
       "       &#x27;2021-09-06T00:00:00.000000000&#x27;, &#x27;2021-09-07T00:00:00.000000000&#x27;,\n",
       "       &#x27;2021-09-08T00:00:00.000000000&#x27;, &#x27;2021-09-09T00:00:00.000000000&#x27;,\n",
       "       &#x27;2021-09-10T00:00:00.000000000&#x27;, &#x27;2021-09-11T00:00:00.000000000&#x27;,\n",
       "       &#x27;2021-09-12T00:00:00.000000000&#x27;, &#x27;2021-09-13T00:00:00.000000000&#x27;,\n",
       "       &#x27;2021-09-14T00:00:00.000000000&#x27;, &#x27;2021-09-16T00:00:00.000000000&#x27;,\n",
       "       &#x27;2021-09-17T00:00:00.000000000&#x27;, &#x27;2021-09-18T00:00:00.000000000&#x27;,\n",
       "       &#x27;2021-09-19T00:00:00.000000000&#x27;, &#x27;2021-09-20T00:00:00.000000000&#x27;,\n",
       "       &#x27;2021-09-21T00:00:00.000000000&#x27;, &#x27;2021-09-22T00:00:00.000000000&#x27;,\n",
       "       &#x27;2021-09-23T00:00:00.000000000&#x27;, &#x27;2021-09-24T00:00:00.000000000&#x27;,\n",
       "       &#x27;2021-09-25T00:00:00.000000000&#x27;, &#x27;2021-09-26T00:00:00.000000000&#x27;,\n",
       "       &#x27;2021-09-27T00:00:00.000000000&#x27;, &#x27;2021-09-28T00:00:00.000000000&#x27;,\n",
       "       &#x27;2021-09-29T00:00:00.000000000&#x27;, &#x27;2021-09-30T00:00:00.000000000&#x27;,\n",
       "       &#x27;2021-10-01T00:00:00.000000000&#x27;, &#x27;2021-10-02T00:00:00.000000000&#x27;,\n",
       "       &#x27;2021-10-03T00:00:00.000000000&#x27;, &#x27;2021-10-04T00:00:00.000000000&#x27;,\n",
       "       &#x27;2021-10-05T00:00:00.000000000&#x27;, &#x27;2021-10-06T00:00:00.000000000&#x27;,\n",
       "       &#x27;2021-10-07T00:00:00.000000000&#x27;, &#x27;2021-10-08T00:00:00.000000000&#x27;,\n",
       "       &#x27;2021-10-09T00:00:00.000000000&#x27;, &#x27;2021-10-10T00:00:00.000000000&#x27;,\n",
       "       &#x27;2021-10-11T00:00:00.000000000&#x27;, &#x27;2021-10-12T00:00:00.000000000&#x27;,\n",
       "       &#x27;2021-10-13T00:00:00.000000000&#x27;, &#x27;2021-10-14T00:00:00.000000000&#x27;,\n",
       "       &#x27;2021-10-15T00:00:00.000000000&#x27;, &#x27;2021-10-16T00:00:00.000000000&#x27;,\n",
       "       &#x27;2021-10-17T00:00:00.000000000&#x27;, &#x27;2021-10-18T00:00:00.000000000&#x27;,\n",
       "       &#x27;2021-10-19T00:00:00.000000000&#x27;, &#x27;2021-10-20T00:00:00.000000000&#x27;,\n",
       "       &#x27;2021-10-21T00:00:00.000000000&#x27;, &#x27;2021-10-22T00:00:00.000000000&#x27;,\n",
       "       &#x27;2021-10-23T00:00:00.000000000&#x27;, &#x27;2021-10-24T00:00:00.000000000&#x27;,\n",
       "       &#x27;2021-10-25T00:00:00.000000000&#x27;, &#x27;2021-10-26T00:00:00.000000000&#x27;,\n",
       "       &#x27;2021-10-27T00:00:00.000000000&#x27;, &#x27;2021-10-28T00:00:00.000000000&#x27;,\n",
       "       &#x27;2021-10-29T00:00:00.000000000&#x27;, &#x27;2021-10-30T00:00:00.000000000&#x27;,\n",
       "       &#x27;2021-10-31T00:00:00.000000000&#x27;], dtype=&#x27;datetime64[ns]&#x27;)</pre></div></li><li class='xr-var-item'><div class='xr-var-name'><span class='xr-has-index'>x</span></div><div class='xr-var-dims'>(x)</div><div class='xr-var-dtype'>float64</div><div class='xr-var-preview xr-preview'>18.7 18.71 18.72 ... 28.89 28.9</div><input id='attrs-7d8a8c8f-7db6-474b-9804-9fd83f198116' class='xr-var-attrs-in' type='checkbox' disabled><label for='attrs-7d8a8c8f-7db6-474b-9804-9fd83f198116' title='Show/Hide attributes'><svg class='icon xr-icon-file-text2'><use xlink:href='#icon-file-text2'></use></svg></label><input id='data-b219c58d-c093-4528-b0fb-82ca5080dcdf' class='xr-var-data-in' type='checkbox'><label for='data-b219c58d-c093-4528-b0fb-82ca5080dcdf' title='Show/Hide data repr'><svg class='icon xr-icon-database'><use xlink:href='#icon-database'></use></svg></label><div class='xr-var-attrs'><dl class='xr-attrs'></dl></div><div class='xr-var-data'><pre>array([18.702116, 18.710261, 18.718406, ..., 28.88298 , 28.891124, 28.899269])</pre></div></li><li class='xr-var-item'><div class='xr-var-name'><span class='xr-has-index'>y</span></div><div class='xr-var-dims'>(y)</div><div class='xr-var-dtype'>float64</div><div class='xr-var-preview xr-preview'>42.3 42.29 42.28 ... 34.31 34.3</div><input id='attrs-8f5e69f6-4f5c-4402-8b86-8ab55c5a1632' class='xr-var-attrs-in' type='checkbox' disabled><label for='attrs-8f5e69f6-4f5c-4402-8b86-8ab55c5a1632' title='Show/Hide attributes'><svg class='icon xr-icon-file-text2'><use xlink:href='#icon-file-text2'></use></svg></label><input id='data-988af33f-bcdd-46f1-a87f-20919accd04b' class='xr-var-data-in' type='checkbox'><label for='data-988af33f-bcdd-46f1-a87f-20919accd04b' title='Show/Hide data repr'><svg class='icon xr-icon-database'><use xlink:href='#icon-database'></use></svg></label><div class='xr-var-attrs'><dl class='xr-attrs'></dl></div><div class='xr-var-data'><pre>array([42.299195, 42.29105 , 42.282905, ..., 34.317398, 34.309253, 34.301109])</pre></div></li></ul></div></li><li class='xr-section-item'><input id='section-6b90d5d3-b7fc-41bb-b9d9-b7c9a9d8b950' class='xr-section-summary-in' type='checkbox'  checked><label for='section-6b90d5d3-b7fc-41bb-b9d9-b7c9a9d8b950' class='xr-section-summary' >Data variables: <span>(5)</span></label><div class='xr-section-inline-details'></div><div class='xr-section-details'><ul class='xr-var-list'><li class='xr-var-item'><div class='xr-var-name'><span>max_t2m</span></div><div class='xr-var-dims'>(time, y, x)</div><div class='xr-var-dtype'>float32</div><div class='xr-var-preview xr-preview'>...</div><input id='attrs-00835034-dcf3-4a5e-9ccc-c6ad9c9bdc77' class='xr-var-attrs-in' type='checkbox' disabled><label for='attrs-00835034-dcf3-4a5e-9ccc-c6ad9c9bdc77' title='Show/Hide attributes'><svg class='icon xr-icon-file-text2'><use xlink:href='#icon-file-text2'></use></svg></label><input id='data-5fc53aad-bf60-41a7-896f-0e3d9c2f7119' class='xr-var-data-in' type='checkbox'><label for='data-5fc53aad-bf60-41a7-896f-0e3d9c2f7119' title='Show/Hide data repr'><svg class='icon xr-icon-database'><use xlink:href='#icon-database'></use></svg></label><div class='xr-var-attrs'><dl class='xr-attrs'></dl></div><div class='xr-var-data'><pre>[225400917 values with dtype=float32]</pre></div></li><li class='xr-var-item'><div class='xr-var-name'><span>min_relhum_2m</span></div><div class='xr-var-dims'>(time, y, x)</div><div class='xr-var-dtype'>float32</div><div class='xr-var-preview xr-preview'>...</div><input id='attrs-b05931bc-b846-4518-b12e-eae4d5a8642b' class='xr-var-attrs-in' type='checkbox' disabled><label for='attrs-b05931bc-b846-4518-b12e-eae4d5a8642b' title='Show/Hide attributes'><svg class='icon xr-icon-file-text2'><use xlink:href='#icon-file-text2'></use></svg></label><input id='data-b88b37d3-e8cc-4097-99db-8c32ebe109b0' class='xr-var-data-in' type='checkbox'><label for='data-b88b37d3-e8cc-4097-99db-8c32ebe109b0' title='Show/Hide data repr'><svg class='icon xr-icon-database'><use xlink:href='#icon-database'></use></svg></label><div class='xr-var-attrs'><dl class='xr-attrs'></dl></div><div class='xr-var-data'><pre>[225400917 values with dtype=float32]</pre></div></li><li class='xr-var-item'><div class='xr-var-name'><span>max_d2m</span></div><div class='xr-var-dims'>(time, y, x)</div><div class='xr-var-dtype'>float32</div><div class='xr-var-preview xr-preview'>...</div><input id='attrs-7984b43b-89d8-4d3b-91b3-583e9a85cb2f' class='xr-var-attrs-in' type='checkbox' disabled><label for='attrs-7984b43b-89d8-4d3b-91b3-583e9a85cb2f' title='Show/Hide attributes'><svg class='icon xr-icon-file-text2'><use xlink:href='#icon-file-text2'></use></svg></label><input id='data-ac357ecf-13d5-4a69-a7be-03e2dd389f45' class='xr-var-data-in' type='checkbox'><label for='data-ac357ecf-13d5-4a69-a7be-03e2dd389f45' title='Show/Hide data repr'><svg class='icon xr-icon-database'><use xlink:href='#icon-database'></use></svg></label><div class='xr-var-attrs'><dl class='xr-attrs'></dl></div><div class='xr-var-data'><pre>[225400917 values with dtype=float32]</pre></div></li><li class='xr-var-item'><div class='xr-var-name'><span>max_wind_speed</span></div><div class='xr-var-dims'>(time, y, x)</div><div class='xr-var-dtype'>float32</div><div class='xr-var-preview xr-preview'>...</div><input id='attrs-82786519-2481-4cab-bdcb-5f78cebfdd98' class='xr-var-attrs-in' type='checkbox' disabled><label for='attrs-82786519-2481-4cab-bdcb-5f78cebfdd98' title='Show/Hide attributes'><svg class='icon xr-icon-file-text2'><use xlink:href='#icon-file-text2'></use></svg></label><input id='data-a6b3e358-8c0f-448d-ae96-32f89eb937c9' class='xr-var-data-in' type='checkbox'><label for='data-a6b3e358-8c0f-448d-ae96-32f89eb937c9' title='Show/Hide data repr'><svg class='icon xr-icon-database'><use xlink:href='#icon-database'></use></svg></label><div class='xr-var-attrs'><dl class='xr-attrs'></dl></div><div class='xr-var-data'><pre>[225400917 values with dtype=float32]</pre></div></li><li class='xr-var-item'><div class='xr-var-name'><span>max_apcp</span></div><div class='xr-var-dims'>(time, y, x)</div><div class='xr-var-dtype'>float32</div><div class='xr-var-preview xr-preview'>...</div><input id='attrs-58cd63b9-e915-4165-b55d-fc969d4fe490' class='xr-var-attrs-in' type='checkbox' disabled><label for='attrs-58cd63b9-e915-4165-b55d-fc969d4fe490' title='Show/Hide attributes'><svg class='icon xr-icon-file-text2'><use xlink:href='#icon-file-text2'></use></svg></label><input id='data-527be17c-0ee1-43ae-851b-90e6fc9fc60b' class='xr-var-data-in' type='checkbox'><label for='data-527be17c-0ee1-43ae-851b-90e6fc9fc60b' title='Show/Hide data repr'><svg class='icon xr-icon-database'><use xlink:href='#icon-database'></use></svg></label><div class='xr-var-attrs'><dl class='xr-attrs'></dl></div><div class='xr-var-data'><pre>[225400917 values with dtype=float32]</pre></div></li></ul></div></li><li class='xr-section-item'><input id='section-387db5c7-e40a-4801-9d98-117984bc1928' class='xr-section-summary-in' type='checkbox' disabled ><label for='section-387db5c7-e40a-4801-9d98-117984bc1928' class='xr-section-summary'  title='Expand/collapse section'>Attributes: <span>(0)</span></label><div class='xr-section-inline-details'></div><div class='xr-section-details'><dl class='xr-attrs'></dl></div></li></ul></div></div>"
      ],
      "text/plain": [
       "<xarray.Dataset>\n",
       "Dimensions:         (time: 183, y: 983, x: 1253)\n",
       "Coordinates:\n",
       "  * time            (time) datetime64[ns] 2021-05-01 2021-05-02 ... 2021-10-31\n",
       "  * x               (x) float64 18.7 18.71 18.72 18.73 ... 28.88 28.89 28.9\n",
       "  * y               (y) float64 42.3 42.29 42.28 42.27 ... 34.32 34.31 34.3\n",
       "Data variables:\n",
       "    max_t2m         (time, y, x) float32 ...\n",
       "    min_relhum_2m   (time, y, x) float32 ...\n",
       "    max_d2m         (time, y, x) float32 ...\n",
       "    max_wind_speed  (time, y, x) float32 ...\n",
       "    max_apcp        (time, y, x) float32 ..."
      ]
     },
     "execution_count": 74,
     "metadata": {},
     "output_type": "execute_result"
    }
   ],
   "source": [
    "bolam_cube"
   ]
  },
  {
   "cell_type": "code",
   "execution_count": null,
   "id": "digital-portfolio",
   "metadata": {},
   "outputs": [],
   "source": [
    "def copy_files_bolam(path, label, src):\n",
    "    if src == 'bolam':\n",
    "        if label == 'positives':\n",
    "            destination_folder = Path.home() / 'hdd1/diogenis/observatory/positives_bolam'\n",
    "        else:\n",
    "            destination_folder = Path.home() / 'hdd1/diogenis/observatory/negatives_bolam'\n",
    "    else:\n",
    "        if label == 'positives':\n",
    "            destination_folder = Path.home() / 'hdd1/diogenis/observatory/positives_era5_bolam'\n",
    "        else:\n",
    "            destination_folder = Path.home() / 'hdd1/diogenis/observatory/negatives_era5_bolam'\n",
    "        \n",
    "    #For Every file\n",
    "    for file_name in os.listdir(path):\n",
    "        #Get the date from the file name\n",
    "        file_date = file_name.split('_')[0][:4] + '/' + file_name.split('_')[0][4:6] + '/' + file_name.split('_')[0][6:]\n",
    "        \n",
    "        #Convert from string to datetime\n",
    "        file_date = datetime.strptime(file_date, '%Y/%m/%d')\n",
    "        \n",
    "        #If the year is 2021\n",
    "        if file_date.year == 2021:\n",
    "            \n",
    "            #Check for the month and the day\n",
    "            if (file_date.month ==5 and file_date.day >=10) or (file_date.month >=6 and file_date.month <= 10):\n",
    "                \n",
    "                #We don't care about the mode.npy files\n",
    "                if file_name.split('_')[3] == 'static.npy' or file_name.split('_')[3] == 'dynamic.npy' or file_name.split('_')[4] == 'vec.npy':\n",
    "                    source = path / file_name\n",
    "                    destination = destination_folder / file_name\n",
    "                    if os.path.isfile(source):\n",
    "                        shutil.copy(source, destination)"
   ]
  },
  {
   "cell_type": "code",
   "execution_count": null,
   "id": "threaded-ability",
   "metadata": {},
   "outputs": [],
   "source": [
    "path = Path.home() / 'hdd1/iprapas/uc3/datasets_v4/npy/temporal/positives'\n",
    "copy_files_bolam(path, 'positives','bolam')"
   ]
  },
  {
   "cell_type": "code",
   "execution_count": null,
   "id": "executive-saint",
   "metadata": {},
   "outputs": [],
   "source": [
    "copy_files_bolam(path, 'positives', 'era5')"
   ]
  },
  {
   "cell_type": "code",
   "execution_count": null,
   "id": "colonial-sydney",
   "metadata": {},
   "outputs": [],
   "source": [
    "path = Path.home() / 'hdd1/iprapas/uc3/datasets_v5/npy/temporal/negatives_clc'\n",
    "copy_files_bolam(path, 'negatives', 'bolam')"
   ]
  },
  {
   "cell_type": "code",
   "execution_count": null,
   "id": "coastal-prophet",
   "metadata": {},
   "outputs": [],
   "source": [
    "copy_files_bolam(path, 'negatives', 'era5')"
   ]
  },
  {
   "cell_type": "code",
   "execution_count": 75,
   "id": "molecular-superintendent",
   "metadata": {},
   "outputs": [],
   "source": [
    "values_t2m_era5 = []\n",
    "values_wind_speed_era5 = []\n",
    "values_tp_era5 = []\n",
    "values_rh_era5 = []\n",
    "values_d2m_era5 = []\n",
    "\n",
    "values_t2m_positives_era5 = []\n",
    "values_wind_speed_positives_era5 = []\n",
    "values_tp_positives_era5 = []\n",
    "values_rh_positives_era5 = []\n",
    "values_d2m_positives_era5 = []\n",
    "\n",
    "values_t2m_negatives_era5 = []\n",
    "values_wind_speed_negatives_era5 = []\n",
    "values_tp_negatives_era5 = []\n",
    "values_rh_negatives_era5 = []\n",
    "values_d2m_negatives_era5 = []\n",
    "    \n",
    "values_t2m_bolam = []\n",
    "values_wind_speed_bolam = []\n",
    "values_tp_bolam = []\n",
    "values_rh_bolam = []\n",
    "values_d2m_bolam = []\n",
    "\n",
    "values_t2m_positives_bolam = []\n",
    "values_wind_speed_positives_bolam = []\n",
    "values_tp_positives_bolam = []\n",
    "values_rh_positives_bolam = []\n",
    "values_d2m_positives_bolam = []\n",
    "\n",
    "values_t2m_negatives_bolam = []\n",
    "values_wind_speed_negatives_bolam = []\n",
    "values_tp_negatives_bolam = []\n",
    "values_rh_negatives_bolam = []\n",
    "values_d2m_negatives_bolam = []"
   ]
  },
  {
   "cell_type": "code",
   "execution_count": 76,
   "id": "looking-hamilton",
   "metadata": {},
   "outputs": [],
   "source": [
    "def change_npy_files(path):\n",
    "    #For every file\n",
    "    for file_name in os.listdir(path):\n",
    "        \n",
    "        #Only if the file is dynamic.npy\n",
    "        if file_name.split('_')[3] == 'dynamic.npy':\n",
    "            \n",
    "            #Get the date\n",
    "            file_date = file_name.split('_')[0][:4] + '/' + file_name.split('_')[0][4:6] + '/' + file_name.split('_')[0][6:]\n",
    "            file_date = datetime.strptime(file_date, '%Y/%m/%d')\n",
    "            file_date = np.datetime64(file_date)\n",
    "            \n",
    "            #Add 12 hours so it matches the dimension in our datacube\n",
    "            # file_date = file_date + np.timedelta64(12, 'h')\n",
    "            \n",
    "            #Get the lat and lon\n",
    "            x_index = file_name.split('_')[1]\n",
    "            x_index = int(x_index)\n",
    "            y_index = file_name.split('_')[2]\n",
    "            y_index = int(y_index)\n",
    "\n",
    "            #Open the file\n",
    "            test = np.load(path / file_name)\n",
    "            \n",
    "            values_t2m_era5.append(test[9][10])\n",
    "            values_wind_speed_era5.append(test[9][30])\n",
    "            values_tp_era5.append(test[9][12])\n",
    "            values_rh_era5.append(test[9][33])\n",
    "            values_d2m_era5.append(test[9][9])\n",
    "            \n",
    "            if path.parts[-1] == 'positives_bolam':\n",
    "                values_t2m_positives_era5.append(test[9][10])\n",
    "                values_wind_speed_positives_era5.append(test[9][30])\n",
    "                values_tp_positives_era5.append(test[9][12])\n",
    "                values_rh_positives_era5.append(test[9][33])\n",
    "                values_d2m_positives_era5.append(test[9][9])\n",
    "            else:\n",
    "                values_t2m_negatives_era5.append(test[9][10])\n",
    "                values_wind_speed_negatives_era5.append(test[9][30])\n",
    "                values_tp_negatives_era5.append(test[9][12])\n",
    "                values_rh_negatives_era5.append(test[9][33])\n",
    "                values_d2m_negatives_era5.append(test[9][9])\n",
    "            \n",
    "            #For every day in the file\n",
    "            for i in range(10):\n",
    "                \n",
    "                #Get the appropriate date\n",
    "                tmp = file_date - np.timedelta64(9-i,'D')\n",
    "                \n",
    "                #Get the values from the datacube\n",
    "                bolam_max_t2m = bolam_cube.sel(time = tmp).isel(x = x_index, y = y_index).max_t2m.values\n",
    "                bolam_max_tp = bolam_cube.sel(time = tmp).isel(x = x_index, y = y_index).max_apcp.values        \n",
    "                bolam_max_wind_speed = bolam_cube.sel(time = tmp).isel(x = x_index, y = y_index).max_wind_speed.values\n",
    "                bolam_min_rh = bolam_cube.sel(time = tmp).isel(x = x_index, y = y_index).min_relhum_2m.values\n",
    "                bolam_max_d2m = bolam_cube.sel(time = tmp).isel(x = x_index, y = y_index).max_d2m.values\n",
    "                \n",
    "                if i == 9:\n",
    "                    values_t2m_bolam.append(bolam_max_t2m)\n",
    "                    values_wind_speed_bolam.append(bolam_max_wind_speed)\n",
    "                    values_tp_bolam.append(bolam_max_tp)\n",
    "                    values_rh_bolam.append(bolam_min_rh)\n",
    "                    values_d2m_bolam.append(bolam_max_d2m)\n",
    "                    \n",
    "                    if path.parts[-1] == 'positives_bolam':\n",
    "                        values_t2m_positives_bolam.append(bolam_max_t2m)\n",
    "                        values_wind_speed_positives_bolam.append(bolam_max_wind_speed)\n",
    "                        values_tp_positives_bolam.append(bolam_max_tp)\n",
    "                        values_rh_positives_bolam.append(bolam_min_rh)\n",
    "                        values_d2m_positives_bolam.append(bolam_max_d2m)\n",
    "                    else:\n",
    "                        values_t2m_negatives_bolam.append(bolam_max_t2m)\n",
    "                        values_wind_speed_negatives_bolam.append(bolam_max_wind_speed)\n",
    "                        values_tp_negatives_bolam.append(bolam_max_tp)\n",
    "                        values_rh_negatives_bolam.append(bolam_min_rh)\n",
    "                        values_d2m_negatives_bolam.append(bolam_max_d2m)\n",
    "            \n",
    "                #Change the values in the file\n",
    "                test[i][10] = bolam_max_t2m\n",
    "                test[i][12] = bolam_max_tp\n",
    "                test[i][30] = bolam_max_wind_speed\n",
    "                test[i][33] = bolam_min_rh\n",
    "                test[i][9] = bolam_max_d2m\n",
    "            \n",
    "            #Save the new values to the file\n",
    "            np.save(path / file_name, test)"
   ]
  },
  {
   "cell_type": "code",
   "execution_count": 77,
   "id": "rental-yugoslavia",
   "metadata": {},
   "outputs": [],
   "source": [
    "path = Path.home() / 'hdd1/diogenis/observatory/positives_bolam'\n",
    "change_npy_files(path)"
   ]
  },
  {
   "cell_type": "code",
   "execution_count": 78,
   "id": "broadband-fellow",
   "metadata": {},
   "outputs": [],
   "source": [
    "path = Path.home() / 'hdd1/diogenis/observatory/negatives_bolam'\n",
    "change_npy_files(path)"
   ]
  },
  {
   "cell_type": "code",
   "execution_count": 79,
   "id": "stuffed-chester",
   "metadata": {},
   "outputs": [],
   "source": [
    "values_t2m_era5 = np.array(values_t2m_era5)\n",
    "values_wind_speed_era5 = np.array(values_wind_speed_era5)\n",
    "values_tp_era5 = np.array(values_tp_era5)\n",
    "values_rh_era5 = np.array(values_rh_era5)\n",
    "values_d2m_era5 = np.array(values_d2m_era5)\n",
    "\n",
    "values_t2m_positives_era5 = np.array(values_t2m_positives_era5)\n",
    "values_wind_speed_positives_era5 = np.array(values_wind_speed_positives_era5)\n",
    "values_tp_positives_era5 = np.array(values_tp_positives_era5)\n",
    "values_rh_positives_era5 = np.array(values_rh_positives_era5)\n",
    "values_d2m_positives_era5 = np.array(values_d2m_positives_era5)\n",
    "\n",
    "values_t2m_negatives_era5 = np.array(values_t2m_negatives_era5)\n",
    "values_wind_speed_negatives_era5 = np.array(values_wind_speed_negatives_era5)\n",
    "values_tp_negatives_era5 = np.array(values_tp_negatives_era5)\n",
    "values_rh_negatives_era5 = np.array(values_rh_negatives_era5)\n",
    "values_d2m_negatives_era5 = np.array(values_d2m_negatives_era5)\n",
    "\n",
    "values_t2m_bolam = np.array(values_t2m_bolam)\n",
    "values_wind_speed_bolam = np.array(values_wind_speed_bolam)\n",
    "values_tp_bolam = np.array(values_tp_bolam)\n",
    "values_rh_bolam = np.array(values_rh_bolam)\n",
    "values_d2m_bolam = np.array(values_d2m_bolam)\n",
    "\n",
    "values_t2m_positives_bolam = np.array(values_t2m_positives_bolam)\n",
    "values_wind_speed_positives_bolam = np.array(values_wind_speed_positives_bolam)\n",
    "values_tp_positives_bolam = np.array(values_tp_positives_bolam)\n",
    "values_rh_positives_bolam = np.array(values_rh_positives_bolam)\n",
    "values_d2m_positives_bolam = np.array(values_d2m_positives_bolam)\n",
    "\n",
    "values_t2m_negatives_bolam = np.array(values_t2m_negatives_bolam)\n",
    "values_wind_speed_negatives_bolam = np.array(values_wind_speed_negatives_bolam)\n",
    "values_tp_negatives_bolam = np.array(values_tp_negatives_bolam)\n",
    "values_rh_negatives_bolam = np.array(values_rh_negatives_bolam)\n",
    "values_d2m_negatives_bolam = np.array(values_d2m_negatives_bolam)"
   ]
  },
  {
   "cell_type": "code",
   "execution_count": 80,
   "id": "pediatric-cartridge",
   "metadata": {},
   "outputs": [],
   "source": [
    "t2m_difference = values_t2m_era5 - values_t2m_bolam\n",
    "wind_speed_difference = values_wind_speed_era5 - values_wind_speed_bolam\n",
    "tp_difference = values_tp_era5 - values_tp_bolam\n",
    "rh_difference = values_rh_era5 - values_rh_bolam\n",
    "d2m_difference = values_d2m_era5 - values_d2m_bolam\n",
    "\n",
    "t2m_positives_difference = values_t2m_positives_era5 - values_t2m_positives_bolam\n",
    "tp_positives_difference = values_tp_positives_era5 - values_tp_positives_bolam\n",
    "wind_speed_positives_difference = values_wind_speed_positives_era5 - values_wind_speed_positives_bolam\n",
    "rh_positives_difference = values_rh_positives_era5 - values_rh_positives_bolam\n",
    "d2m_positives_difference = values_d2m_positives_era5 - values_d2m_positives_bolam\n",
    "\n",
    "t2m_negatives_difference = values_t2m_negatives_era5 - values_t2m_negatives_bolam\n",
    "tp_negatives_difference = values_tp_negatives_era5 - values_tp_negatives_bolam\n",
    "wind_speed_negatives_difference = values_wind_speed_negatives_era5 - values_wind_speed_negatives_bolam\n",
    "rh_negatives_difference = values_rh_negatives_era5 - values_rh_negatives_bolam\n",
    "d2m_negatives_difference = values_d2m_negatives_era5 - values_d2m_negatives_bolam"
   ]
  },
  {
   "cell_type": "code",
   "execution_count": 81,
   "id": "comparative-caution",
   "metadata": {},
   "outputs": [],
   "source": [
    "def compare_stats(era5, bolam, stat):\n",
    "    era5_max = era5.max()\n",
    "    bolam_max = bolam.max()\n",
    "    print('The era5 max ' + stat + ' is: ' + str(era5_max))\n",
    "    print('The bolam max ' + stat + ' is: ' + str(bolam_max))\n",
    "    \n",
    "    era5_min = era5.min()\n",
    "    bolam_min = bolam.min()\n",
    "    print('The era5 min ' + stat + ' is: ' + str(era5_min))\n",
    "    print('The bolam min ' + stat + ' is: ' + str(bolam_min))\n",
    "    \n",
    "    era5_avg = era5.mean()\n",
    "    bolam_avg = bolam.mean()\n",
    "    print('The era5 avg ' + stat + ' is: ' + str(era5_avg))\n",
    "    print('The bolam avg ' + stat + ' is: ' + str(bolam_avg))\n",
    "    \n",
    "    era5_std = era5.std()\n",
    "    bolam_std = bolam.std()\n",
    "    print('The era5 std ' + stat + ' is: ' + str(era5_std))\n",
    "    print('The bolam std ' + stat + ' is: ' + str(bolam_std))"
   ]
  },
  {
   "cell_type": "code",
   "execution_count": 82,
   "id": "worldwide-geology",
   "metadata": {},
   "outputs": [
    {
     "name": "stdout",
     "output_type": "stream",
     "text": [
      "The era5 max t2m is: 314.914\n",
      "The bolam max t2m is: 316.86026\n",
      "The era5 min t2m is: 278.28073\n",
      "The bolam min t2m is: 277.28278\n",
      "The era5 avg t2m is: 300.15372\n",
      "The bolam avg t2m is: 300.5235\n",
      "The era5 std t2m is: 6.8909235\n",
      "The bolam std t2m is: 7.259073\n"
     ]
    }
   ],
   "source": [
    "compare_stats(values_t2m_era5, values_t2m_bolam, 't2m')"
   ]
  },
  {
   "cell_type": "code",
   "execution_count": 83,
   "id": "occupied-beatles",
   "metadata": {},
   "outputs": [
    {
     "name": "stdout",
     "output_type": "stream",
     "text": [
      "The era5 max wind speed is: 13.134581\n",
      "The bolam max wind speed is: 15.236929\n",
      "The era5 min wind speed is: 0.5270471\n",
      "The bolam min wind speed is: 0.9129815\n",
      "The era5 avg wind speed is: 3.4763775\n",
      "The bolam avg wind speed is: 5.006407\n",
      "The era5 std wind speed is: 1.7795994\n",
      "The bolam std wind speed is: 1.8075546\n"
     ]
    }
   ],
   "source": [
    "compare_stats(values_wind_speed_era5, values_wind_speed_bolam, 'wind speed')"
   ]
  },
  {
   "cell_type": "code",
   "execution_count": 84,
   "id": "delayed-seminar",
   "metadata": {},
   "outputs": [
    {
     "name": "stdout",
     "output_type": "stream",
     "text": [
      "The era5 max tp is: 0.04634493\n",
      "The bolam max tp is: 0.09817847\n",
      "The era5 min tp is: 0.0\n",
      "The bolam min tp is: 0.0\n",
      "The era5 avg tp is: 0.001818625\n",
      "The bolam avg tp is: 0.001240206\n",
      "The era5 std tp is: 0.0038594927\n",
      "The bolam std tp is: 0.0043375734\n"
     ]
    }
   ],
   "source": [
    "compare_stats(values_tp_era5, values_tp_bolam, 'tp')"
   ]
  },
  {
   "cell_type": "code",
   "execution_count": 85,
   "id": "useful-ceramic",
   "metadata": {},
   "outputs": [
    {
     "name": "stdout",
     "output_type": "stream",
     "text": [
      "The era5 max rh is: 0.87368745\n",
      "The bolam max rh is: 0.97347814\n",
      "The era5 min rh is: 0.080229394\n",
      "The bolam min rh is: 0.06794826\n",
      "The era5 avg rh is: 0.3936601\n",
      "The bolam avg rh is: 0.34078538\n",
      "The era5 std rh is: 0.1678525\n",
      "The bolam std rh is: 0.14691897\n"
     ]
    }
   ],
   "source": [
    "compare_stats(values_rh_era5, values_rh_bolam, 'rh')"
   ]
  },
  {
   "cell_type": "code",
   "execution_count": 86,
   "id": "hazardous-commander",
   "metadata": {},
   "outputs": [
    {
     "name": "stdout",
     "output_type": "stream",
     "text": [
      "The era5 max d2m is: 298.0342\n",
      "The bolam max d2m is: 299.97635\n",
      "The era5 min d2m is: 272.93335\n",
      "The bolam min d2m is: 272.28638\n",
      "The era5 avg d2m is: 287.49414\n",
      "The bolam avg d2m is: 286.38812\n",
      "The era5 std d2m is: 4.0416446\n",
      "The bolam std d2m is: 4.3022003\n"
     ]
    }
   ],
   "source": [
    "compare_stats(values_d2m_era5, values_d2m_bolam, 'd2m')"
   ]
  },
  {
   "cell_type": "code",
   "execution_count": 87,
   "id": "arctic-village",
   "metadata": {},
   "outputs": [
    {
     "name": "stdout",
     "output_type": "stream",
     "text": [
      "The era5 max t2m positives is: 314.914\n",
      "The bolam max t2m positives is: 316.86026\n",
      "The era5 min t2m positives is: 293.74472\n",
      "The bolam min t2m positives is: 292.14432\n",
      "The era5 avg t2m positives is: 308.34396\n",
      "The bolam avg t2m positives is: 309.00955\n",
      "The era5 std t2m positives is: 3.985268\n",
      "The bolam std t2m positives is: 4.8140917\n"
     ]
    }
   ],
   "source": [
    "compare_stats(values_t2m_positives_era5, values_t2m_positives_bolam, 't2m positives')"
   ]
  },
  {
   "cell_type": "code",
   "execution_count": 88,
   "id": "enclosed-indonesia",
   "metadata": {},
   "outputs": [
    {
     "name": "stdout",
     "output_type": "stream",
     "text": [
      "The era5 max wind speed positives is: 12.721206\n",
      "The bolam max wind speed positives is: 14.716552\n",
      "The era5 min wind speed positives is: 1.2105005\n",
      "The bolam min wind speed positives is: 1.1234492\n",
      "The era5 avg wind speed positives is: 4.4714346\n",
      "The bolam avg wind speed positives is: 5.340211\n",
      "The era5 std wind speed positives is: 1.782837\n",
      "The bolam std wind speed positives is: 2.2475188\n"
     ]
    }
   ],
   "source": [
    "compare_stats(values_wind_speed_positives_era5, values_wind_speed_positives_bolam, 'wind speed positives')"
   ]
  },
  {
   "cell_type": "code",
   "execution_count": 89,
   "id": "limiting-assignment",
   "metadata": {},
   "outputs": [
    {
     "name": "stdout",
     "output_type": "stream",
     "text": [
      "The era5 max tp positives is: 0.003579609\n",
      "The bolam max tp positives is: 0.0004868164\n",
      "The era5 min tp positives is: 0.0\n",
      "The bolam min tp positives is: 0.0\n",
      "The era5 avg tp positives is: 4.2008323e-05\n",
      "The bolam avg tp positives is: 1.2865854e-06\n",
      "The era5 std tp positives is: 0.00015412967\n",
      "The bolam std tp positives is: 2.0491261e-05\n"
     ]
    }
   ],
   "source": [
    "compare_stats(values_tp_positives_era5, values_tp_positives_bolam, 'tp positives')"
   ]
  },
  {
   "cell_type": "code",
   "execution_count": 90,
   "id": "private-parker",
   "metadata": {},
   "outputs": [
    {
     "name": "stdout",
     "output_type": "stream",
     "text": [
      "The era5 max rh positives is: 0.75800014\n",
      "The bolam max rh positives is: 0.61947095\n",
      "The era5 min rh positives is: 0.080229394\n",
      "The bolam min rh positives is: 0.06828726\n",
      "The era5 avg rh positives is: 0.22031657\n",
      "The bolam avg rh positives is: 0.19177416\n",
      "The era5 std rh positives is: 0.113313034\n",
      "The bolam std rh positives is: 0.0879316\n"
     ]
    }
   ],
   "source": [
    "compare_stats(values_rh_positives_era5, values_rh_positives_bolam, 'rh positives')"
   ]
  },
  {
   "cell_type": "code",
   "execution_count": 91,
   "id": "intimate-match",
   "metadata": {},
   "outputs": [
    {
     "name": "stdout",
     "output_type": "stream",
     "text": [
      "The era5 max d2m positives is: 298.0342\n",
      "The bolam max d2m positives is: 299.97635\n",
      "The era5 min d2m positives is: 280.0141\n",
      "The bolam min d2m positives is: 277.54977\n",
      "The era5 avg d2m positives is: 288.85107\n",
      "The bolam avg d2m positives is: 286.78925\n",
      "The era5 std d2m positives is: 3.77205\n",
      "The bolam std d2m positives is: 5.5792885\n"
     ]
    }
   ],
   "source": [
    "compare_stats(values_d2m_positives_era5, values_d2m_positives_bolam, 'd2m positives')"
   ]
  },
  {
   "cell_type": "code",
   "execution_count": 92,
   "id": "outdoor-monroe",
   "metadata": {},
   "outputs": [
    {
     "name": "stdout",
     "output_type": "stream",
     "text": [
      "The era5 max t2m negatives is: 313.61798\n",
      "The bolam max t2m negatives is: 315.61066\n",
      "The era5 min t2m negatives is: 278.28073\n",
      "The bolam min t2m negatives is: 277.28278\n",
      "The era5 avg t2m negatives is: 297.47183\n",
      "The bolam avg t2m negatives is: 297.74478\n",
      "The era5 std t2m negatives is: 5.3549447\n",
      "The bolam std t2m negatives is: 5.5729904\n"
     ]
    }
   ],
   "source": [
    "compare_stats(values_t2m_negatives_era5, values_t2m_negatives_bolam, 't2m negatives')"
   ]
  },
  {
   "cell_type": "code",
   "execution_count": 93,
   "id": "coastal-chemical",
   "metadata": {},
   "outputs": [
    {
     "name": "stdout",
     "output_type": "stream",
     "text": [
      "The era5 max wind speed negatives is: 13.134581\n",
      "The bolam max wind speed negatives is: 15.236929\n",
      "The era5 min wind speed negatives is: 0.5270471\n",
      "The bolam min wind speed negatives is: 0.9129815\n",
      "The era5 avg wind speed negatives is: 3.150551\n",
      "The bolam avg wind speed negatives is: 4.8971047\n",
      "The era5 std wind speed negatives is: 1.6531239\n",
      "The bolam std wind speed negatives is: 1.6231545\n"
     ]
    }
   ],
   "source": [
    "compare_stats(values_wind_speed_negatives_era5, values_wind_speed_negatives_bolam, 'wind speed negatives')"
   ]
  },
  {
   "cell_type": "code",
   "execution_count": 94,
   "id": "growing-immune",
   "metadata": {},
   "outputs": [
    {
     "name": "stdout",
     "output_type": "stream",
     "text": [
      "The era5 max tp negatives is: 0.04634493\n",
      "The bolam max tp negatives is: 0.09817847\n",
      "The era5 min tp negatives is: 0.0\n",
      "The bolam min tp negatives is: 0.0\n",
      "The era5 avg tp negatives is: 0.0024003694\n",
      "The bolam avg tp negatives is: 0.001645884\n",
      "The era5 std tp negatives is: 0.00428876\n",
      "The bolam std tp negatives is: 0.00493031\n"
     ]
    }
   ],
   "source": [
    "compare_stats(values_tp_negatives_era5, values_tp_negatives_bolam, 'tp negatives')"
   ]
  },
  {
   "cell_type": "code",
   "execution_count": 95,
   "id": "wooden-voltage",
   "metadata": {},
   "outputs": [
    {
     "name": "stdout",
     "output_type": "stream",
     "text": [
      "The era5 max rh negatives is: 0.87368745\n",
      "The bolam max rh negatives is: 0.97347814\n",
      "The era5 min rh negatives is: 0.089775786\n",
      "The bolam min rh negatives is: 0.06794826\n",
      "The era5 avg rh negatives is: 0.45042062\n",
      "The bolam avg rh negatives is: 0.3895783\n",
      "The era5 std rh negatives is: 0.14189745\n",
      "The bolam std rh negatives is: 0.12833509\n"
     ]
    }
   ],
   "source": [
    "compare_stats(values_rh_negatives_era5, values_rh_negatives_bolam, 'rh negatives')"
   ]
  },
  {
   "cell_type": "code",
   "execution_count": 96,
   "id": "laden-madrid",
   "metadata": {},
   "outputs": [
    {
     "name": "stdout",
     "output_type": "stream",
     "text": [
      "The era5 max d2m negatives is: 297.8686\n",
      "The bolam max d2m negatives is: 297.89294\n",
      "The era5 min d2m negatives is: 272.93335\n",
      "The bolam min d2m negatives is: 272.28638\n",
      "The era5 avg d2m negatives is: 287.0498\n",
      "The bolam avg d2m negatives is: 286.25677\n",
      "The era5 std d2m negatives is: 4.0279427\n",
      "The bolam std d2m negatives is: 3.7824311\n"
     ]
    }
   ],
   "source": [
    "compare_stats(values_d2m_negatives_era5, values_d2m_negatives_bolam, 'd2m negatives')"
   ]
  },
  {
   "cell_type": "code",
   "execution_count": 97,
   "id": "limiting-purple",
   "metadata": {},
   "outputs": [],
   "source": [
    "def calculate_difference_stats(arr, stat):\n",
    "    print(\"The max of \" + stat + ' difference is ' + str(arr.max()))\n",
    "    print(\"The min of \" + stat + ' difference is ' + str(arr.min()))\n",
    "    print(\"The avg of \" + stat + ' difference is ' + str(arr.mean()))\n",
    "    print(\"The std of \" + stat + ' difference is ' + str(arr.std()))"
   ]
  },
  {
   "cell_type": "code",
   "execution_count": 98,
   "id": "floppy-sociology",
   "metadata": {},
   "outputs": [
    {
     "name": "stdout",
     "output_type": "stream",
     "text": [
      "The max of t2m difference is 10.07489\n",
      "The min of t2m difference is -12.840607\n",
      "The avg of t2m difference is -0.36976865\n",
      "The std of t2m difference is 2.9226072\n"
     ]
    }
   ],
   "source": [
    "calculate_difference_stats(t2m_difference, 't2m')"
   ]
  },
  {
   "cell_type": "code",
   "execution_count": 99,
   "id": "pleasant-share",
   "metadata": {},
   "outputs": [
    {
     "name": "stdout",
     "output_type": "stream",
     "text": [
      "The max of wind speed difference is 8.796373\n",
      "The min of wind speed difference is -10.113092\n",
      "The avg of wind speed difference is -1.5300297\n",
      "The std of wind speed difference is 2.0743308\n"
     ]
    }
   ],
   "source": [
    "calculate_difference_stats(wind_speed_difference, 'wind speed')"
   ]
  },
  {
   "cell_type": "code",
   "execution_count": 100,
   "id": "israeli-shape",
   "metadata": {},
   "outputs": [
    {
     "name": "stdout",
     "output_type": "stream",
     "text": [
      "The max of tp difference is 0.045586996\n",
      "The min of tp difference is -0.07807895\n",
      "The avg of tp difference is 0.00057841913\n",
      "The std of tp difference is 0.004088155\n"
     ]
    }
   ],
   "source": [
    "calculate_difference_stats(tp_difference, 'tp')"
   ]
  },
  {
   "cell_type": "code",
   "execution_count": 101,
   "id": "possible-quarterly",
   "metadata": {},
   "outputs": [
    {
     "name": "stdout",
     "output_type": "stream",
     "text": [
      "The max of rh difference is 0.57704234\n",
      "The min of rh difference is -0.51218015\n",
      "The avg of rh difference is 0.05287477\n",
      "The std of rh difference is 0.123221494\n"
     ]
    }
   ],
   "source": [
    "calculate_difference_stats(rh_difference, 'rh')"
   ]
  },
  {
   "cell_type": "code",
   "execution_count": 102,
   "id": "statewide-charge",
   "metadata": {},
   "outputs": [
    {
     "name": "stdout",
     "output_type": "stream",
     "text": [
      "The max of d2m difference is 13.613831\n",
      "The min of d2m difference is -10.25824\n",
      "The avg of d2m difference is 1.1059853\n",
      "The std of d2m difference is 3.0321553\n"
     ]
    }
   ],
   "source": [
    "calculate_difference_stats(d2m_difference, 'd2m')"
   ]
  },
  {
   "cell_type": "code",
   "execution_count": 103,
   "id": "cosmetic-treatment",
   "metadata": {},
   "outputs": [
    {
     "name": "stdout",
     "output_type": "stream",
     "text": [
      "The max of t2m positives difference is 8.586456\n",
      "The min of t2m positives difference is -11.75592\n",
      "The avg of t2m positives difference is -0.6655746\n",
      "The std of t2m positives difference is 3.240374\n"
     ]
    }
   ],
   "source": [
    "calculate_difference_stats(t2m_positives_difference, 't2m positives')"
   ]
  },
  {
   "cell_type": "code",
   "execution_count": 104,
   "id": "streaming-factor",
   "metadata": {},
   "outputs": [
    {
     "name": "stdout",
     "output_type": "stream",
     "text": [
      "The max of tp positives difference is 0.003579487\n",
      "The min of tp positives difference is -0.00037788146\n",
      "The avg of tp positives difference is 4.0721738e-05\n",
      "The std of tp positives difference is 0.00015366892\n"
     ]
    }
   ],
   "source": [
    "calculate_difference_stats(tp_positives_difference, 'tp positives')"
   ]
  },
  {
   "cell_type": "code",
   "execution_count": 105,
   "id": "metallic-means",
   "metadata": {},
   "outputs": [
    {
     "name": "stdout",
     "output_type": "stream",
     "text": [
      "The max of wind speed positives difference is 8.796373\n",
      "The min of wind speed positives difference is -9.9545555\n",
      "The avg of wind speed positives difference is -0.8687765\n",
      "The std of wind speed positives difference is 2.6970034\n"
     ]
    }
   ],
   "source": [
    "calculate_difference_stats(wind_speed_positives_difference, 'wind speed positives')"
   ]
  },
  {
   "cell_type": "code",
   "execution_count": 106,
   "id": "valuable-contrast",
   "metadata": {},
   "outputs": [
    {
     "name": "stdout",
     "output_type": "stream",
     "text": [
      "The max of rh positives difference is 0.44240975\n",
      "The min of rh positives difference is -0.2237905\n",
      "The avg of rh positives difference is 0.028542416\n",
      "The std of rh positives difference is 0.10651214\n"
     ]
    }
   ],
   "source": [
    "calculate_difference_stats(rh_positives_difference, 'rh positives')"
   ]
  },
  {
   "cell_type": "code",
   "execution_count": 107,
   "id": "loved-florence",
   "metadata": {},
   "outputs": [
    {
     "name": "stdout",
     "output_type": "stream",
     "text": [
      "The max of d2m positives difference is 12.444489\n",
      "The min of d2m positives difference is -9.555786\n",
      "The avg of d2m positives difference is 2.0618072\n",
      "The std of d2m positives difference is 3.9886184\n"
     ]
    }
   ],
   "source": [
    "calculate_difference_stats(d2m_positives_difference, 'd2m positives')"
   ]
  },
  {
   "cell_type": "code",
   "execution_count": 108,
   "id": "iraqi-prisoner",
   "metadata": {},
   "outputs": [
    {
     "name": "stdout",
     "output_type": "stream",
     "text": [
      "The max of t2m negatives difference is 10.07489\n",
      "The min of t2m negatives difference is -12.840607\n",
      "The avg of t2m negatives difference is -0.27290845\n",
      "The std of t2m negatives difference is 2.8039854\n"
     ]
    }
   ],
   "source": [
    "calculate_difference_stats(t2m_negatives_difference, 't2m negatives')"
   ]
  },
  {
   "cell_type": "code",
   "execution_count": 109,
   "id": "wireless-collectible",
   "metadata": {},
   "outputs": [
    {
     "name": "stdout",
     "output_type": "stream",
     "text": [
      "The max of tp negatives difference is 0.045586996\n",
      "The min of tp negatives difference is -0.07807895\n",
      "The avg of tp negatives difference is 0.0007544854\n",
      "The std of tp negatives difference is 0.0046959775\n"
     ]
    }
   ],
   "source": [
    "calculate_difference_stats(tp_negatives_difference, 'tp negatives')"
   ]
  },
  {
   "cell_type": "code",
   "execution_count": 110,
   "id": "vulnerable-jefferson",
   "metadata": {},
   "outputs": [
    {
     "name": "stdout",
     "output_type": "stream",
     "text": [
      "The max of wind speed negatives difference is 7.884736\n",
      "The min of wind speed negatives difference is -10.113092\n",
      "The avg of wind speed negatives difference is -1.7465537\n",
      "The std of wind speed negatives difference is 1.7719921\n"
     ]
    }
   ],
   "source": [
    "calculate_difference_stats(wind_speed_negatives_difference, 'wind speed negatives')"
   ]
  },
  {
   "cell_type": "code",
   "execution_count": 111,
   "id": "worldwide-adolescent",
   "metadata": {},
   "outputs": [
    {
     "name": "stdout",
     "output_type": "stream",
     "text": [
      "The max of rh negatives difference is 0.57704234\n",
      "The min of rh negatives difference is -0.51218015\n",
      "The avg of rh negatives difference is 0.060842283\n",
      "The std of rh negatives difference is 0.12721302\n"
     ]
    }
   ],
   "source": [
    "calculate_difference_stats(rh_negatives_difference, 'rh negatives')"
   ]
  },
  {
   "cell_type": "code",
   "execution_count": 112,
   "id": "nasty-economics",
   "metadata": {},
   "outputs": [
    {
     "name": "stdout",
     "output_type": "stream",
     "text": [
      "The max of d2m negatives difference is 13.613831\n",
      "The min of d2m negatives difference is -10.25824\n",
      "The avg of d2m negatives difference is 0.79300624\n",
      "The std of d2m negatives difference is 2.5686631\n"
     ]
    }
   ],
   "source": [
    "calculate_difference_stats(d2m_negatives_difference, 'd2m negatives')"
   ]
  },
  {
   "cell_type": "code",
   "execution_count": 113,
   "id": "african-quality",
   "metadata": {},
   "outputs": [
    {
     "data": {
      "image/png": "[encoded data removed]",
      "text/plain": [
       "<Figure size 864x576 with 1 Axes>"
      ]
     },
     "metadata": {
      "needs_background": "light"
     },
     "output_type": "display_data"
    }
   ],
   "source": [
    "plt.figure(figsize=(12,8))\n",
    "plt.title(\"Max t2m\")\n",
    "plt.hist([values_t2m_era5, values_t2m_bolam], label=['era5', 'bolam'])\n",
    "plt.legend(loc='upper right')\n",
    "plt.show()"
   ]
  },
  {
   "cell_type": "code",
   "execution_count": 114,
   "id": "major-potter",
   "metadata": {},
   "outputs": [
    {
     "data": {
      "image/png": "[encoded data removed]",
      "text/plain": [
       "<Figure size 864x576 with 1 Axes>"
      ]
     },
     "metadata": {
      "needs_background": "light"
     },
     "output_type": "display_data"
    }
   ],
   "source": [
    "plt.figure(figsize=(12,8))\n",
    "plt.title(\"Max wind speed\")\n",
    "plt.hist([values_wind_speed_era5, values_wind_speed_bolam], label=['era5', 'bolam'])\n",
    "plt.legend(loc='upper right')\n",
    "plt.show()"
   ]
  },
  {
   "cell_type": "code",
   "execution_count": 115,
   "id": "rapid-advice",
   "metadata": {},
   "outputs": [
    {
     "data": {
      "image/png": "[encoded data removed]",
      "text/plain": [
       "<Figure size 864x576 with 1 Axes>"
      ]
     },
     "metadata": {
      "needs_background": "light"
     },
     "output_type": "display_data"
    }
   ],
   "source": [
    "plt.figure(figsize=(12,8))\n",
    "plt.title(\"Max tp\")\n",
    "plt.hist([values_tp_era5, values_tp_bolam], label=['era5', 'bolam'])\n",
    "plt.legend(loc='upper right')\n",
    "plt.show()"
   ]
  },
  {
   "cell_type": "code",
   "execution_count": 116,
   "id": "assured-asthma",
   "metadata": {},
   "outputs": [
    {
     "data": {
      "image/png": "[encoded data removed]",
      "text/plain": [
       "<Figure size 864x576 with 1 Axes>"
      ]
     },
     "metadata": {
      "needs_background": "light"
     },
     "output_type": "display_data"
    }
   ],
   "source": [
    "plt.figure(figsize=(12,8))\n",
    "plt.title(\"Min rh\")\n",
    "plt.hist([values_rh_era5, values_rh_bolam], label=['era5', 'bolam'])\n",
    "plt.legend(loc='upper right')\n",
    "plt.show()"
   ]
  },
  {
   "cell_type": "code",
   "execution_count": 117,
   "id": "emerging-luther",
   "metadata": {},
   "outputs": [
    {
     "data": {
      "image/png": "[encoded data removed]",
      "text/plain": [
       "<Figure size 864x576 with 1 Axes>"
      ]
     },
     "metadata": {
      "needs_background": "light"
     },
     "output_type": "display_data"
    }
   ],
   "source": [
    "plt.figure(figsize=(12,8))\n",
    "plt.title(\"Max d2m\")\n",
    "plt.hist([values_d2m_era5, values_d2m_bolam], label=['era5', 'bolam'])\n",
    "plt.legend(loc='upper right')\n",
    "plt.show()"
   ]
  },
  {
   "cell_type": "code",
   "execution_count": 118,
   "id": "public-baker",
   "metadata": {},
   "outputs": [
    {
     "data": {
      "image/png": "[encoded data removed]",
      "text/plain": [
       "<Figure size 864x576 with 1 Axes>"
      ]
     },
     "metadata": {
      "needs_background": "light"
     },
     "output_type": "display_data"
    }
   ],
   "source": [
    "plt.figure(figsize=(12,8))\n",
    "plt.title(\"Max t2m in positives\")\n",
    "plt.hist([values_t2m_positives_era5, values_t2m_positives_bolam], label=['era5', 'bolam'])\n",
    "plt.legend(loc='upper right')\n",
    "plt.show()"
   ]
  },
  {
   "cell_type": "code",
   "execution_count": 119,
   "id": "pleased-irrigation",
   "metadata": {},
   "outputs": [
    {
     "data": {
      "image/png": "[encoded data removed]",
      "text/plain": [
       "<Figure size 864x576 with 1 Axes>"
      ]
     },
     "metadata": {
      "needs_background": "light"
     },
     "output_type": "display_data"
    }
   ],
   "source": [
    "plt.figure(figsize=(12,8))\n",
    "plt.title(\"Max wind speed in positives\")\n",
    "plt.hist([values_wind_speed_positives_era5, values_wind_speed_positives_bolam], label=['era5', 'bolam'])\n",
    "plt.legend(loc='upper right')\n",
    "plt.show()"
   ]
  },
  {
   "cell_type": "code",
   "execution_count": 120,
   "id": "hundred-height",
   "metadata": {},
   "outputs": [
    {
     "data": {
      "image/png": "[encoded data removed]",
      "text/plain": [
       "<Figure size 864x576 with 1 Axes>"
      ]
     },
     "metadata": {
      "needs_background": "light"
     },
     "output_type": "display_data"
    }
   ],
   "source": [
    "plt.figure(figsize=(12,8))\n",
    "plt.title(\"Max tp in positives\")\n",
    "plt.hist([values_tp_positives_era5, values_tp_positives_bolam], label=['era5', 'bolam'])\n",
    "plt.legend(loc='upper right')\n",
    "plt.show()"
   ]
  },
  {
   "cell_type": "code",
   "execution_count": 121,
   "id": "angry-aquarium",
   "metadata": {},
   "outputs": [
    {
     "data": {
      "image/png": "[encoded data removed]",
      "text/plain": [
       "<Figure size 864x576 with 1 Axes>"
      ]
     },
     "metadata": {
      "needs_background": "light"
     },
     "output_type": "display_data"
    }
   ],
   "source": [
    "plt.figure(figsize=(12,8))\n",
    "plt.title(\"Min rh in positives\")\n",
    "plt.hist([values_rh_positives_era5, values_rh_positives_bolam], label=['era5', 'bolam'])\n",
    "plt.legend(loc='upper right')\n",
    "plt.show()"
   ]
  },
  {
   "cell_type": "code",
   "execution_count": 122,
   "id": "covered-familiar",
   "metadata": {},
   "outputs": [
    {
     "data": {
      "image/png": "[encoded data removed]",
      "text/plain": [
       "<Figure size 864x576 with 1 Axes>"
      ]
     },
     "metadata": {
      "needs_background": "light"
     },
     "output_type": "display_data"
    }
   ],
   "source": [
    "plt.figure(figsize=(12,8))\n",
    "plt.title(\"Max d2m in positives\")\n",
    "plt.hist([values_d2m_positives_era5, values_d2m_positives_bolam], label=['era5', 'bolam'])\n",
    "plt.legend(loc='upper right')\n",
    "plt.show()"
   ]
  },
  {
   "cell_type": "code",
   "execution_count": 123,
   "id": "declared-short",
   "metadata": {},
   "outputs": [
    {
     "data": {
      "image/png": "[encoded data removed]",
      "text/plain": [
       "<Figure size 864x576 with 1 Axes>"
      ]
     },
     "metadata": {
      "needs_background": "light"
     },
     "output_type": "display_data"
    }
   ],
   "source": [
    "plt.figure(figsize=(12,8))\n",
    "plt.title(\"Max t2m in negatives\")\n",
    "plt.hist([values_t2m_negatives_era5, values_t2m_negatives_bolam], label=['era5', 'bolam'])\n",
    "plt.legend(loc='upper right')\n",
    "plt.show()"
   ]
  },
  {
   "cell_type": "code",
   "execution_count": 124,
   "id": "beautiful-quick",
   "metadata": {},
   "outputs": [
    {
     "data": {
      "image/png": "[encoded data removed]",
      "text/plain": [
       "<Figure size 864x576 with 1 Axes>"
      ]
     },
     "metadata": {
      "needs_background": "light"
     },
     "output_type": "display_data"
    }
   ],
   "source": [
    "plt.figure(figsize=(12,8))\n",
    "plt.title(\"Max wind speed in negatives\")\n",
    "plt.hist([values_wind_speed_negatives_era5, values_wind_speed_negatives_bolam], label=['era5', 'bolam'])\n",
    "plt.legend(loc='upper right')\n",
    "plt.show()"
   ]
  },
  {
   "cell_type": "code",
   "execution_count": 125,
   "id": "aerial-macro",
   "metadata": {},
   "outputs": [
    {
     "data": {
      "image/png": "[encoded data removed]",
      "text/plain": [
       "<Figure size 864x576 with 1 Axes>"
      ]
     },
     "metadata": {
      "needs_background": "light"
     },
     "output_type": "display_data"
    }
   ],
   "source": [
    "plt.figure(figsize=(12,8))\n",
    "plt.title(\"Max tp in negatives\")\n",
    "plt.hist([values_tp_negatives_era5, values_tp_negatives_bolam], label=['era5', 'bolam'])\n",
    "plt.legend(loc='upper right')\n",
    "plt.show()"
   ]
  },
  {
   "cell_type": "code",
   "execution_count": 126,
   "id": "bacterial-amount",
   "metadata": {},
   "outputs": [
    {
     "data": {
      "image/png": "[encoded data removed]",
      "text/plain": [
       "<Figure size 864x576 with 1 Axes>"
      ]
     },
     "metadata": {
      "needs_background": "light"
     },
     "output_type": "display_data"
    }
   ],
   "source": [
    "plt.figure(figsize=(12,8))\n",
    "plt.title(\"Min rh in negatives\")\n",
    "plt.hist([values_rh_negatives_era5, values_rh_negatives_bolam], label=['era5', 'bolam'])\n",
    "plt.legend(loc='upper right')\n",
    "plt.show()"
   ]
  },
  {
   "cell_type": "code",
   "execution_count": 127,
   "id": "nuclear-cloud",
   "metadata": {},
   "outputs": [
    {
     "data": {
      "image/png": "[encoded data removed]",
      "text/plain": [
       "<Figure size 864x576 with 1 Axes>"
      ]
     },
     "metadata": {
      "needs_background": "light"
     },
     "output_type": "display_data"
    }
   ],
   "source": [
    "plt.figure(figsize=(12,8))\n",
    "plt.title(\"Max d2m in negatives\")\n",
    "plt.hist([values_d2m_negatives_era5, values_d2m_negatives_bolam], label=['era5', 'bolam'])\n",
    "plt.legend(loc='upper right')\n",
    "plt.show()"
   ]
  },
  {
   "cell_type": "code",
   "execution_count": 128,
   "id": "fuzzy-potato",
   "metadata": {},
   "outputs": [
    {
     "data": {
      "image/png": "[encoded data removed]",
      "text/plain": [
       "<Figure size 864x576 with 1 Axes>"
      ]
     },
     "metadata": {
      "needs_background": "light"
     },
     "output_type": "display_data"
    }
   ],
   "source": [
    "plt.figure(figsize=(12,8))\n",
    "plt.title(\"t2m differences\")\n",
    "plt.hist(t2m_difference)\n",
    "plt.show()"
   ]
  },
  {
   "cell_type": "code",
   "execution_count": 129,
   "id": "overhead-understanding",
   "metadata": {},
   "outputs": [
    {
     "data": {
      "image/png": "[encoded data removed]",
      "text/plain": [
       "<Figure size 864x576 with 1 Axes>"
      ]
     },
     "metadata": {
      "needs_background": "light"
     },
     "output_type": "display_data"
    }
   ],
   "source": [
    "plt.figure(figsize=(12,8))\n",
    "plt.title(\"wind speed differences\")\n",
    "plt.hist(wind_speed_difference)\n",
    "plt.show()"
   ]
  },
  {
   "cell_type": "code",
   "execution_count": 130,
   "id": "thrown-berlin",
   "metadata": {},
   "outputs": [
    {
     "data": {
      "image/png": "[encoded data removed]",
      "text/plain": [
       "<Figure size 864x576 with 1 Axes>"
      ]
     },
     "metadata": {
      "needs_background": "light"
     },
     "output_type": "display_data"
    }
   ],
   "source": [
    "plt.figure(figsize=(12,8))\n",
    "plt.title(\"tp differences\")\n",
    "plt.hist(tp_difference)\n",
    "plt.show()"
   ]
  },
  {
   "cell_type": "code",
   "execution_count": 131,
   "id": "varied-administrator",
   "metadata": {},
   "outputs": [
    {
     "data": {
      "image/png": "[encoded data removed]",
      "text/plain": [
       "<Figure size 864x576 with 1 Axes>"
      ]
     },
     "metadata": {
      "needs_background": "light"
     },
     "output_type": "display_data"
    }
   ],
   "source": [
    "plt.figure(figsize=(12,8))\n",
    "plt.title(\"rh differences\")\n",
    "plt.hist(rh_difference)\n",
    "plt.show()"
   ]
  },
  {
   "cell_type": "code",
   "execution_count": 132,
   "id": "organizational-blogger",
   "metadata": {},
   "outputs": [
    {
     "data": {
      "image/png": "[encoded data removed]",
      "text/plain": [
       "<Figure size 864x576 with 1 Axes>"
      ]
     },
     "metadata": {
      "needs_background": "light"
     },
     "output_type": "display_data"
    }
   ],
   "source": [
    "plt.figure(figsize=(12,8))\n",
    "plt.title(\"d2m differences\")\n",
    "plt.hist(d2m_difference)\n",
    "plt.show()"
   ]
  },
  {
   "cell_type": "code",
   "execution_count": 133,
   "id": "fancy-change",
   "metadata": {},
   "outputs": [
    {
     "data": {
      "image/png": "[encoded data removed]",
      "text/plain": [
       "<Figure size 864x576 with 1 Axes>"
      ]
     },
     "metadata": {
      "needs_background": "light"
     },
     "output_type": "display_data"
    }
   ],
   "source": [
    "plt.figure(figsize=(12,8))\n",
    "plt.title(\"t2m positives differences\")\n",
    "plt.hist(t2m_positives_difference)\n",
    "plt.show()"
   ]
  },
  {
   "cell_type": "code",
   "execution_count": 134,
   "id": "living-tender",
   "metadata": {},
   "outputs": [
    {
     "data": {
      "image/png": "[encoded data removed]",
      "text/plain": [
       "<Figure size 864x576 with 1 Axes>"
      ]
     },
     "metadata": {
      "needs_background": "light"
     },
     "output_type": "display_data"
    }
   ],
   "source": [
    "plt.figure(figsize=(12,8))\n",
    "plt.title(\"wind speed positives differences\")\n",
    "plt.hist(wind_speed_positives_difference)\n",
    "plt.show()"
   ]
  },
  {
   "cell_type": "code",
   "execution_count": 135,
   "id": "renewable-thought",
   "metadata": {},
   "outputs": [
    {
     "data": {
      "image/png": "[encoded data removed]",
      "text/plain": [
       "<Figure size 864x576 with 1 Axes>"
      ]
     },
     "metadata": {
      "needs_background": "light"
     },
     "output_type": "display_data"
    }
   ],
   "source": [
    "plt.figure(figsize=(12,8))\n",
    "plt.title(\"tp positives differences\")\n",
    "plt.hist(tp_positives_difference)\n",
    "plt.show()"
   ]
  },
  {
   "cell_type": "code",
   "execution_count": 136,
   "id": "assumed-confidentiality",
   "metadata": {},
   "outputs": [
    {
     "data": {
      "image/png": "[encoded data removed]",
      "text/plain": [
       "<Figure size 864x576 with 1 Axes>"
      ]
     },
     "metadata": {
      "needs_background": "light"
     },
     "output_type": "display_data"
    }
   ],
   "source": [
    "plt.figure(figsize=(12,8))\n",
    "plt.title(\"rh positives differences\")\n",
    "plt.hist(rh_positives_difference)\n",
    "plt.show()"
   ]
  },
  {
   "cell_type": "code",
   "execution_count": 137,
   "id": "needed-manchester",
   "metadata": {},
   "outputs": [
    {
     "data": {
      "image/png": "[encoded data removed]",
      "text/plain": [
       "<Figure size 864x576 with 1 Axes>"
      ]
     },
     "metadata": {
      "needs_background": "light"
     },
     "output_type": "display_data"
    }
   ],
   "source": [
    "plt.figure(figsize=(12,8))\n",
    "plt.title(\"d2m positives differences\")\n",
    "plt.hist(d2m_positives_difference)\n",
    "plt.show()"
   ]
  },
  {
   "cell_type": "code",
   "execution_count": 138,
   "id": "hawaiian-bottom",
   "metadata": {},
   "outputs": [
    {
     "data": {
      "image/png": "[encoded data removed]",
      "text/plain": [
       "<Figure size 864x576 with 1 Axes>"
      ]
     },
     "metadata": {
      "needs_background": "light"
     },
     "output_type": "display_data"
    }
   ],
   "source": [
    "plt.figure(figsize=(12,8))\n",
    "plt.title(\"t2m negatives differences\")\n",
    "plt.hist(t2m_negatives_difference)\n",
    "plt.show()"
   ]
  },
  {
   "cell_type": "code",
   "execution_count": 139,
   "id": "pregnant-execution",
   "metadata": {},
   "outputs": [
    {
     "data": {
      "image/png": "[encoded data removed]",
      "text/plain": [
       "<Figure size 864x576 with 1 Axes>"
      ]
     },
     "metadata": {
      "needs_background": "light"
     },
     "output_type": "display_data"
    }
   ],
   "source": [
    "plt.figure(figsize=(12,8))\n",
    "plt.title(\"wind speed negatives differences\")\n",
    "plt.hist(wind_speed_negatives_difference)\n",
    "plt.show()"
   ]
  },
  {
   "cell_type": "code",
   "execution_count": 140,
   "id": "accepted-armenia",
   "metadata": {},
   "outputs": [
    {
     "data": {
      "image/png": "[encoded data removed]",
      "text/plain": [
       "<Figure size 864x576 with 1 Axes>"
      ]
     },
     "metadata": {
      "needs_background": "light"
     },
     "output_type": "display_data"
    }
   ],
   "source": [
    "plt.figure(figsize=(12,8))\n",
    "plt.title(\"tp negatives differences\")\n",
    "plt.hist(tp_negatives_difference)\n",
    "plt.show()"
   ]
  },
  {
   "cell_type": "code",
   "execution_count": 141,
   "id": "caring-ebony",
   "metadata": {},
   "outputs": [
    {
     "data": {
      "image/png": "[encoded data removed]",
      "text/plain": [
       "<Figure size 864x576 with 1 Axes>"
      ]
     },
     "metadata": {
      "needs_background": "light"
     },
     "output_type": "display_data"
    }
   ],
   "source": [
    "plt.figure(figsize=(12,8))\n",
    "plt.title(\"rh negatives differences\")\n",
    "plt.hist(rh_negatives_difference)\n",
    "plt.show()"
   ]
  },
  {
   "cell_type": "code",
   "execution_count": 142,
   "id": "adjusted-metallic",
   "metadata": {},
   "outputs": [
    {
     "data": {
      "image/png": "[encoded data removed]",
      "text/plain": [
       "<Figure size 864x576 with 1 Axes>"
      ]
     },
     "metadata": {
      "needs_background": "light"
     },
     "output_type": "display_data"
    }
   ],
   "source": [
    "plt.figure(figsize=(12,8))\n",
    "plt.title(\"d2m negatives differences\")\n",
    "plt.hist(d2m_negatives_difference)\n",
    "plt.show()"
   ]
  },
  {
   "cell_type": "code",
   "execution_count": null,
   "id": "verified-quantity",
   "metadata": {},
   "outputs": [],
   "source": []
  },
  {
   "cell_type": "code",
   "execution_count": null,
   "id": "stable-anniversary",
   "metadata": {},
   "outputs": [],
   "source": []
  }
 ],
 "metadata": {
  "kernelspec": {
   "display_name": "meteo",
   "language": "python",
   "name": "meteo"
  },
  "language_info": {
   "codemirror_mode": {
    "name": "ipython",
    "version": 3
   },
   "file_extension": ".py",
   "mimetype": "text/x-python",
   "name": "python",
   "nbconvert_exporter": "python",
   "pygments_lexer": "ipython3",
   "version": "3.7.3"
  }
 },
 "nbformat": 4,
 "nbformat_minor": 5
}
