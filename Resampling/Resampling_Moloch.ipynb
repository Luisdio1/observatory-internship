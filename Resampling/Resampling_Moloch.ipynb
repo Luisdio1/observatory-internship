{
 "cells": [
  {
   "cell_type": "code",
   "execution_count": 1,
   "id": "periodic-quality",
   "metadata": {},
   "outputs": [
    {
     "name": "stdout",
     "output_type": "stream",
     "text": [
      "Warning: ecCodes 2.21.0 or higher is recommended. You are running version 2.16.0\n"
     ]
    }
   ],
   "source": [
    "# Import required libraries\n",
    "import xarray as xr\n",
    "from pathlib import Path\n",
    "import numpy as np\n",
    "import datetime\n",
    "import pandas as pd\n",
    "import cfgrib\n",
    "import os\n",
    "import shutil\n",
    "from datetime import datetime\n",
    "import matplotlib.pyplot as plt"
   ]
  },
  {
   "cell_type": "code",
   "execution_count": 2,
   "id": "younger-tennis",
   "metadata": {},
   "outputs": [],
   "source": [
    "moloch_cube = xr.open_dataset(Path.home() / 'hdd1/diogenis/observatory/moloch_meteo.nc')"
   ]
  },
  {
   "cell_type": "code",
   "execution_count": 3,
   "id": "wrapped-parallel",
   "metadata": {},
   "outputs": [
    {
     "data": {
      "text/html": [
       "<div><svg style=\"position: absolute; width: 0; height: 0; overflow: hidden\">\n",
       "<defs>\n",
       "<symbol id=\"icon-database\" viewBox=\"0 0 32 32\">\n",
       "<path d=\"M16 0c-8.837 0-16 2.239-16 5v4c0 2.761 7.163 5 16 5s16-2.239 16-5v-4c0-2.761-7.163-5-16-5z\"></path>\n",
       "<path d=\"M16 17c-8.837 0-16-2.239-16-5v6c0 2.761 7.163 5 16 5s16-2.239 16-5v-6c0 2.761-7.163 5-16 5z\"></path>\n",
       "<path d=\"M16 26c-8.837 0-16-2.239-16-5v6c0 2.761 7.163 5 16 5s16-2.239 16-5v-6c0 2.761-7.163 5-16 5z\"></path>\n",
       "</symbol>\n",
       "<symbol id=\"icon-file-text2\" viewBox=\"0 0 32 32\">\n",
       "<path d=\"M28.681 7.159c-0.694-0.947-1.662-2.053-2.724-3.116s-2.169-2.030-3.116-2.724c-1.612-1.182-2.393-1.319-2.841-1.319h-15.5c-1.378 0-2.5 1.121-2.5 2.5v27c0 1.378 1.122 2.5 2.5 2.5h23c1.378 0 2.5-1.122 2.5-2.5v-19.5c0-0.448-0.137-1.23-1.319-2.841zM24.543 5.457c0.959 0.959 1.712 1.825 2.268 2.543h-4.811v-4.811c0.718 0.556 1.584 1.309 2.543 2.268zM28 29.5c0 0.271-0.229 0.5-0.5 0.5h-23c-0.271 0-0.5-0.229-0.5-0.5v-27c0-0.271 0.229-0.5 0.5-0.5 0 0 15.499-0 15.5 0v7c0 0.552 0.448 1 1 1h7v19.5z\"></path>\n",
       "<path d=\"M23 26h-14c-0.552 0-1-0.448-1-1s0.448-1 1-1h14c0.552 0 1 0.448 1 1s-0.448 1-1 1z\"></path>\n",
       "<path d=\"M23 22h-14c-0.552 0-1-0.448-1-1s0.448-1 1-1h14c0.552 0 1 0.448 1 1s-0.448 1-1 1z\"></path>\n",
       "<path d=\"M23 18h-14c-0.552 0-1-0.448-1-1s0.448-1 1-1h14c0.552 0 1 0.448 1 1s-0.448 1-1 1z\"></path>\n",
       "</symbol>\n",
       "</defs>\n",
       "</svg>\n",
       "<style>/* CSS stylesheet for displaying xarray objects in jupyterlab.\n",
       " *\n",
       " */\n",
       "\n",
       ":root {\n",
       "  --xr-font-color0: var(--jp-content-font-color0, rgba(0, 0, 0, 1));\n",
       "  --xr-font-color2: var(--jp-content-font-color2, rgba(0, 0, 0, 0.54));\n",
       "  --xr-font-color3: var(--jp-content-font-color3, rgba(0, 0, 0, 0.38));\n",
       "  --xr-border-color: var(--jp-border-color2, #e0e0e0);\n",
       "  --xr-disabled-color: var(--jp-layout-color3, #bdbdbd);\n",
       "  --xr-background-color: var(--jp-layout-color0, white);\n",
       "  --xr-background-color-row-even: var(--jp-layout-color1, white);\n",
       "  --xr-background-color-row-odd: var(--jp-layout-color2, #eeeeee);\n",
       "}\n",
       "\n",
       "html[theme=dark],\n",
       "body.vscode-dark {\n",
       "  --xr-font-color0: rgba(255, 255, 255, 1);\n",
       "  --xr-font-color2: rgba(255, 255, 255, 0.54);\n",
       "  --xr-font-color3: rgba(255, 255, 255, 0.38);\n",
       "  --xr-border-color: #1F1F1F;\n",
       "  --xr-disabled-color: #515151;\n",
       "  --xr-background-color: #111111;\n",
       "  --xr-background-color-row-even: #111111;\n",
       "  --xr-background-color-row-odd: #313131;\n",
       "}\n",
       "\n",
       ".xr-wrap {\n",
       "  display: block;\n",
       "  min-width: 300px;\n",
       "  max-width: 700px;\n",
       "}\n",
       "\n",
       ".xr-text-repr-fallback {\n",
       "  /* fallback to plain text repr when CSS is not injected (untrusted notebook) */\n",
       "  display: none;\n",
       "}\n",
       "\n",
       ".xr-header {\n",
       "  padding-top: 6px;\n",
       "  padding-bottom: 6px;\n",
       "  margin-bottom: 4px;\n",
       "  border-bottom: solid 1px var(--xr-border-color);\n",
       "}\n",
       "\n",
       ".xr-header > div,\n",
       ".xr-header > ul {\n",
       "  display: inline;\n",
       "  margin-top: 0;\n",
       "  margin-bottom: 0;\n",
       "}\n",
       "\n",
       ".xr-obj-type,\n",
       ".xr-array-name {\n",
       "  margin-left: 2px;\n",
       "  margin-right: 10px;\n",
       "}\n",
       "\n",
       ".xr-obj-type {\n",
       "  color: var(--xr-font-color2);\n",
       "}\n",
       "\n",
       ".xr-sections {\n",
       "  padding-left: 0 !important;\n",
       "  display: grid;\n",
       "  grid-template-columns: 150px auto auto 1fr 20px 20px;\n",
       "}\n",
       "\n",
       ".xr-section-item {\n",
       "  display: contents;\n",
       "}\n",
       "\n",
       ".xr-section-item input {\n",
       "  display: none;\n",
       "}\n",
       "\n",
       ".xr-section-item input + label {\n",
       "  color: var(--xr-disabled-color);\n",
       "}\n",
       "\n",
       ".xr-section-item input:enabled + label {\n",
       "  cursor: pointer;\n",
       "  color: var(--xr-font-color2);\n",
       "}\n",
       "\n",
       ".xr-section-item input:enabled + label:hover {\n",
       "  color: var(--xr-font-color0);\n",
       "}\n",
       "\n",
       ".xr-section-summary {\n",
       "  grid-column: 1;\n",
       "  color: var(--xr-font-color2);\n",
       "  font-weight: 500;\n",
       "}\n",
       "\n",
       ".xr-section-summary > span {\n",
       "  display: inline-block;\n",
       "  padding-left: 0.5em;\n",
       "}\n",
       "\n",
       ".xr-section-summary-in:disabled + label {\n",
       "  color: var(--xr-font-color2);\n",
       "}\n",
       "\n",
       ".xr-section-summary-in + label:before {\n",
       "  display: inline-block;\n",
       "  content: '►';\n",
       "  font-size: 11px;\n",
       "  width: 15px;\n",
       "  text-align: center;\n",
       "}\n",
       "\n",
       ".xr-section-summary-in:disabled + label:before {\n",
       "  color: var(--xr-disabled-color);\n",
       "}\n",
       "\n",
       ".xr-section-summary-in:checked + label:before {\n",
       "  content: '▼';\n",
       "}\n",
       "\n",
       ".xr-section-summary-in:checked + label > span {\n",
       "  display: none;\n",
       "}\n",
       "\n",
       ".xr-section-summary,\n",
       ".xr-section-inline-details {\n",
       "  padding-top: 4px;\n",
       "  padding-bottom: 4px;\n",
       "}\n",
       "\n",
       ".xr-section-inline-details {\n",
       "  grid-column: 2 / -1;\n",
       "}\n",
       "\n",
       ".xr-section-details {\n",
       "  display: none;\n",
       "  grid-column: 1 / -1;\n",
       "  margin-bottom: 5px;\n",
       "}\n",
       "\n",
       ".xr-section-summary-in:checked ~ .xr-section-details {\n",
       "  display: contents;\n",
       "}\n",
       "\n",
       ".xr-array-wrap {\n",
       "  grid-column: 1 / -1;\n",
       "  display: grid;\n",
       "  grid-template-columns: 20px auto;\n",
       "}\n",
       "\n",
       ".xr-array-wrap > label {\n",
       "  grid-column: 1;\n",
       "  vertical-align: top;\n",
       "}\n",
       "\n",
       ".xr-preview {\n",
       "  color: var(--xr-font-color3);\n",
       "}\n",
       "\n",
       ".xr-array-preview,\n",
       ".xr-array-data {\n",
       "  padding: 0 5px !important;\n",
       "  grid-column: 2;\n",
       "}\n",
       "\n",
       ".xr-array-data,\n",
       ".xr-array-in:checked ~ .xr-array-preview {\n",
       "  display: none;\n",
       "}\n",
       "\n",
       ".xr-array-in:checked ~ .xr-array-data,\n",
       ".xr-array-preview {\n",
       "  display: inline-block;\n",
       "}\n",
       "\n",
       ".xr-dim-list {\n",
       "  display: inline-block !important;\n",
       "  list-style: none;\n",
       "  padding: 0 !important;\n",
       "  margin: 0;\n",
       "}\n",
       "\n",
       ".xr-dim-list li {\n",
       "  display: inline-block;\n",
       "  padding: 0;\n",
       "  margin: 0;\n",
       "}\n",
       "\n",
       ".xr-dim-list:before {\n",
       "  content: '(';\n",
       "}\n",
       "\n",
       ".xr-dim-list:after {\n",
       "  content: ')';\n",
       "}\n",
       "\n",
       ".xr-dim-list li:not(:last-child):after {\n",
       "  content: ',';\n",
       "  padding-right: 5px;\n",
       "}\n",
       "\n",
       ".xr-has-index {\n",
       "  font-weight: bold;\n",
       "}\n",
       "\n",
       ".xr-var-list,\n",
       ".xr-var-item {\n",
       "  display: contents;\n",
       "}\n",
       "\n",
       ".xr-var-item > div,\n",
       ".xr-var-item label,\n",
       ".xr-var-item > .xr-var-name span {\n",
       "  background-color: var(--xr-background-color-row-even);\n",
       "  margin-bottom: 0;\n",
       "}\n",
       "\n",
       ".xr-var-item > .xr-var-name:hover span {\n",
       "  padding-right: 5px;\n",
       "}\n",
       "\n",
       ".xr-var-list > li:nth-child(odd) > div,\n",
       ".xr-var-list > li:nth-child(odd) > label,\n",
       ".xr-var-list > li:nth-child(odd) > .xr-var-name span {\n",
       "  background-color: var(--xr-background-color-row-odd);\n",
       "}\n",
       "\n",
       ".xr-var-name {\n",
       "  grid-column: 1;\n",
       "}\n",
       "\n",
       ".xr-var-dims {\n",
       "  grid-column: 2;\n",
       "}\n",
       "\n",
       ".xr-var-dtype {\n",
       "  grid-column: 3;\n",
       "  text-align: right;\n",
       "  color: var(--xr-font-color2);\n",
       "}\n",
       "\n",
       ".xr-var-preview {\n",
       "  grid-column: 4;\n",
       "}\n",
       "\n",
       ".xr-var-name,\n",
       ".xr-var-dims,\n",
       ".xr-var-dtype,\n",
       ".xr-preview,\n",
       ".xr-attrs dt {\n",
       "  white-space: nowrap;\n",
       "  overflow: hidden;\n",
       "  text-overflow: ellipsis;\n",
       "  padding-right: 10px;\n",
       "}\n",
       "\n",
       ".xr-var-name:hover,\n",
       ".xr-var-dims:hover,\n",
       ".xr-var-dtype:hover,\n",
       ".xr-attrs dt:hover {\n",
       "  overflow: visible;\n",
       "  width: auto;\n",
       "  z-index: 1;\n",
       "}\n",
       "\n",
       ".xr-var-attrs,\n",
       ".xr-var-data {\n",
       "  display: none;\n",
       "  background-color: var(--xr-background-color) !important;\n",
       "  padding-bottom: 5px !important;\n",
       "}\n",
       "\n",
       ".xr-var-attrs-in:checked ~ .xr-var-attrs,\n",
       ".xr-var-data-in:checked ~ .xr-var-data {\n",
       "  display: block;\n",
       "}\n",
       "\n",
       ".xr-var-data > table {\n",
       "  float: right;\n",
       "}\n",
       "\n",
       ".xr-var-name span,\n",
       ".xr-var-data,\n",
       ".xr-attrs {\n",
       "  padding-left: 25px !important;\n",
       "}\n",
       "\n",
       ".xr-attrs,\n",
       ".xr-var-attrs,\n",
       ".xr-var-data {\n",
       "  grid-column: 1 / -1;\n",
       "}\n",
       "\n",
       "dl.xr-attrs {\n",
       "  padding: 0;\n",
       "  margin: 0;\n",
       "  display: grid;\n",
       "  grid-template-columns: 125px auto;\n",
       "}\n",
       "\n",
       ".xr-attrs dt,\n",
       ".xr-attrs dd {\n",
       "  padding: 0;\n",
       "  margin: 0;\n",
       "  float: left;\n",
       "  padding-right: 10px;\n",
       "  width: auto;\n",
       "}\n",
       "\n",
       ".xr-attrs dt {\n",
       "  font-weight: normal;\n",
       "  grid-column: 1;\n",
       "}\n",
       "\n",
       ".xr-attrs dt:hover span {\n",
       "  display: inline-block;\n",
       "  background: var(--xr-background-color);\n",
       "  padding-right: 10px;\n",
       "}\n",
       "\n",
       ".xr-attrs dd {\n",
       "  grid-column: 2;\n",
       "  white-space: pre-wrap;\n",
       "  word-break: break-all;\n",
       "}\n",
       "\n",
       ".xr-icon-database,\n",
       ".xr-icon-file-text2 {\n",
       "  display: inline-block;\n",
       "  vertical-align: middle;\n",
       "  width: 1em;\n",
       "  height: 1.5em !important;\n",
       "  stroke-width: 0;\n",
       "  stroke: currentColor;\n",
       "  fill: currentColor;\n",
       "}\n",
       "</style><pre class='xr-text-repr-fallback'>&lt;xarray.Dataset&gt;\n",
       "Dimensions:         (time: 182, y: 983, x: 1253)\n",
       "Coordinates:\n",
       "  * time            (time) datetime64[ns] 2021-05-01 2021-05-02 ... 2021-10-31\n",
       "  * x               (x) float64 18.7 18.71 18.72 18.73 ... 28.88 28.89 28.9\n",
       "  * y               (y) float64 42.3 42.29 42.28 42.27 ... 34.32 34.31 34.3\n",
       "Data variables:\n",
       "    max_t2m         (time, y, x) float32 ...\n",
       "    min_relhum_2m   (time, y, x) float32 ...\n",
       "    max_d2m         (time, y, x) float32 ...\n",
       "    max_wind_speed  (time, y, x) float32 ...</pre><div class='xr-wrap' hidden><div class='xr-header'><div class='xr-obj-type'>xarray.Dataset</div></div><ul class='xr-sections'><li class='xr-section-item'><input id='section-e44d67a2-b2ef-4aa5-9c62-053069e4c13e' class='xr-section-summary-in' type='checkbox' disabled ><label for='section-e44d67a2-b2ef-4aa5-9c62-053069e4c13e' class='xr-section-summary'  title='Expand/collapse section'>Dimensions:</label><div class='xr-section-inline-details'><ul class='xr-dim-list'><li><span class='xr-has-index'>time</span>: 182</li><li><span class='xr-has-index'>y</span>: 983</li><li><span class='xr-has-index'>x</span>: 1253</li></ul></div><div class='xr-section-details'></div></li><li class='xr-section-item'><input id='section-e899600a-6d08-4af4-ba46-c9169e210951' class='xr-section-summary-in' type='checkbox'  checked><label for='section-e899600a-6d08-4af4-ba46-c9169e210951' class='xr-section-summary' >Coordinates: <span>(3)</span></label><div class='xr-section-inline-details'></div><div class='xr-section-details'><ul class='xr-var-list'><li class='xr-var-item'><div class='xr-var-name'><span class='xr-has-index'>time</span></div><div class='xr-var-dims'>(time)</div><div class='xr-var-dtype'>datetime64[ns]</div><div class='xr-var-preview xr-preview'>2021-05-01 ... 2021-10-31</div><input id='attrs-a1bdc98f-1085-4d87-9348-a877c9a222a7' class='xr-var-attrs-in' type='checkbox' disabled><label for='attrs-a1bdc98f-1085-4d87-9348-a877c9a222a7' title='Show/Hide attributes'><svg class='icon xr-icon-file-text2'><use xlink:href='#icon-file-text2'></use></svg></label><input id='data-e5d92b97-29ec-466d-bf5a-62042d33b2a5' class='xr-var-data-in' type='checkbox'><label for='data-e5d92b97-29ec-466d-bf5a-62042d33b2a5' title='Show/Hide data repr'><svg class='icon xr-icon-database'><use xlink:href='#icon-database'></use></svg></label><div class='xr-var-attrs'><dl class='xr-attrs'></dl></div><div class='xr-var-data'><pre>array([&#x27;2021-05-01T00:00:00.000000000&#x27;, &#x27;2021-05-02T00:00:00.000000000&#x27;,\n",
       "       &#x27;2021-05-03T00:00:00.000000000&#x27;, &#x27;2021-05-04T00:00:00.000000000&#x27;,\n",
       "       &#x27;2021-05-05T00:00:00.000000000&#x27;, &#x27;2021-05-06T00:00:00.000000000&#x27;,\n",
       "       &#x27;2021-05-07T00:00:00.000000000&#x27;, &#x27;2021-05-08T00:00:00.000000000&#x27;,\n",
       "       &#x27;2021-05-09T00:00:00.000000000&#x27;, &#x27;2021-05-10T00:00:00.000000000&#x27;,\n",
       "       &#x27;2021-05-11T00:00:00.000000000&#x27;, &#x27;2021-05-12T00:00:00.000000000&#x27;,\n",
       "       &#x27;2021-05-13T00:00:00.000000000&#x27;, &#x27;2021-05-14T00:00:00.000000000&#x27;,\n",
       "       &#x27;2021-05-15T00:00:00.000000000&#x27;, &#x27;2021-05-16T00:00:00.000000000&#x27;,\n",
       "       &#x27;2021-05-17T00:00:00.000000000&#x27;, &#x27;2021-05-18T00:00:00.000000000&#x27;,\n",
       "       &#x27;2021-05-19T00:00:00.000000000&#x27;, &#x27;2021-05-20T00:00:00.000000000&#x27;,\n",
       "       &#x27;2021-05-21T00:00:00.000000000&#x27;, &#x27;2021-05-22T00:00:00.000000000&#x27;,\n",
       "       &#x27;2021-05-23T00:00:00.000000000&#x27;, &#x27;2021-05-24T00:00:00.000000000&#x27;,\n",
       "       &#x27;2021-05-25T00:00:00.000000000&#x27;, &#x27;2021-05-26T00:00:00.000000000&#x27;,\n",
       "       &#x27;2021-05-27T00:00:00.000000000&#x27;, &#x27;2021-05-28T00:00:00.000000000&#x27;,\n",
       "       &#x27;2021-05-29T00:00:00.000000000&#x27;, &#x27;2021-05-30T00:00:00.000000000&#x27;,\n",
       "       &#x27;2021-05-31T00:00:00.000000000&#x27;, &#x27;2021-06-01T00:00:00.000000000&#x27;,\n",
       "       &#x27;2021-06-02T00:00:00.000000000&#x27;, &#x27;2021-06-03T00:00:00.000000000&#x27;,\n",
       "       &#x27;2021-06-04T00:00:00.000000000&#x27;, &#x27;2021-06-05T00:00:00.000000000&#x27;,\n",
       "       &#x27;2021-06-06T00:00:00.000000000&#x27;, &#x27;2021-06-07T00:00:00.000000000&#x27;,\n",
       "       &#x27;2021-06-08T00:00:00.000000000&#x27;, &#x27;2021-06-09T00:00:00.000000000&#x27;,\n",
       "       &#x27;2021-06-10T00:00:00.000000000&#x27;, &#x27;2021-06-11T00:00:00.000000000&#x27;,\n",
       "       &#x27;2021-06-12T00:00:00.000000000&#x27;, &#x27;2021-06-13T00:00:00.000000000&#x27;,\n",
       "       &#x27;2021-06-14T00:00:00.000000000&#x27;, &#x27;2021-06-15T00:00:00.000000000&#x27;,\n",
       "       &#x27;2021-06-16T00:00:00.000000000&#x27;, &#x27;2021-06-17T00:00:00.000000000&#x27;,\n",
       "       &#x27;2021-06-18T00:00:00.000000000&#x27;, &#x27;2021-06-19T00:00:00.000000000&#x27;,\n",
       "       &#x27;2021-06-20T00:00:00.000000000&#x27;, &#x27;2021-06-21T00:00:00.000000000&#x27;,\n",
       "       &#x27;2021-06-22T00:00:00.000000000&#x27;, &#x27;2021-06-23T00:00:00.000000000&#x27;,\n",
       "       &#x27;2021-06-24T00:00:00.000000000&#x27;, &#x27;2021-06-25T00:00:00.000000000&#x27;,\n",
       "       &#x27;2021-06-26T00:00:00.000000000&#x27;, &#x27;2021-06-27T00:00:00.000000000&#x27;,\n",
       "       &#x27;2021-06-28T00:00:00.000000000&#x27;, &#x27;2021-06-29T00:00:00.000000000&#x27;,\n",
       "       &#x27;2021-06-30T00:00:00.000000000&#x27;, &#x27;2021-07-01T00:00:00.000000000&#x27;,\n",
       "       &#x27;2021-07-02T00:00:00.000000000&#x27;, &#x27;2021-07-03T00:00:00.000000000&#x27;,\n",
       "       &#x27;2021-07-04T00:00:00.000000000&#x27;, &#x27;2021-07-05T00:00:00.000000000&#x27;,\n",
       "       &#x27;2021-07-06T00:00:00.000000000&#x27;, &#x27;2021-07-07T00:00:00.000000000&#x27;,\n",
       "       &#x27;2021-07-08T00:00:00.000000000&#x27;, &#x27;2021-07-09T00:00:00.000000000&#x27;,\n",
       "       &#x27;2021-07-10T00:00:00.000000000&#x27;, &#x27;2021-07-11T00:00:00.000000000&#x27;,\n",
       "       &#x27;2021-07-12T00:00:00.000000000&#x27;, &#x27;2021-07-13T00:00:00.000000000&#x27;,\n",
       "       &#x27;2021-07-14T00:00:00.000000000&#x27;, &#x27;2021-07-15T00:00:00.000000000&#x27;,\n",
       "       &#x27;2021-07-16T00:00:00.000000000&#x27;, &#x27;2021-07-17T00:00:00.000000000&#x27;,\n",
       "       &#x27;2021-07-18T00:00:00.000000000&#x27;, &#x27;2021-07-19T00:00:00.000000000&#x27;,\n",
       "       &#x27;2021-07-20T00:00:00.000000000&#x27;, &#x27;2021-07-21T00:00:00.000000000&#x27;,\n",
       "       &#x27;2021-07-22T00:00:00.000000000&#x27;, &#x27;2021-07-23T00:00:00.000000000&#x27;,\n",
       "       &#x27;2021-07-24T00:00:00.000000000&#x27;, &#x27;2021-07-25T00:00:00.000000000&#x27;,\n",
       "       &#x27;2021-07-26T00:00:00.000000000&#x27;, &#x27;2021-07-27T00:00:00.000000000&#x27;,\n",
       "       &#x27;2021-07-28T00:00:00.000000000&#x27;, &#x27;2021-07-29T00:00:00.000000000&#x27;,\n",
       "       &#x27;2021-07-30T00:00:00.000000000&#x27;, &#x27;2021-07-31T00:00:00.000000000&#x27;,\n",
       "       &#x27;2021-08-01T00:00:00.000000000&#x27;, &#x27;2021-08-02T00:00:00.000000000&#x27;,\n",
       "       &#x27;2021-08-03T00:00:00.000000000&#x27;, &#x27;2021-08-04T00:00:00.000000000&#x27;,\n",
       "       &#x27;2021-08-05T00:00:00.000000000&#x27;, &#x27;2021-08-06T00:00:00.000000000&#x27;,\n",
       "       &#x27;2021-08-07T00:00:00.000000000&#x27;, &#x27;2021-08-08T00:00:00.000000000&#x27;,\n",
       "       &#x27;2021-08-09T00:00:00.000000000&#x27;, &#x27;2021-08-10T00:00:00.000000000&#x27;,\n",
       "       &#x27;2021-08-11T00:00:00.000000000&#x27;, &#x27;2021-08-12T00:00:00.000000000&#x27;,\n",
       "       &#x27;2021-08-13T00:00:00.000000000&#x27;, &#x27;2021-08-14T00:00:00.000000000&#x27;,\n",
       "       &#x27;2021-08-15T00:00:00.000000000&#x27;, &#x27;2021-08-16T00:00:00.000000000&#x27;,\n",
       "       &#x27;2021-08-17T00:00:00.000000000&#x27;, &#x27;2021-08-18T00:00:00.000000000&#x27;,\n",
       "       &#x27;2021-08-19T00:00:00.000000000&#x27;, &#x27;2021-08-20T00:00:00.000000000&#x27;,\n",
       "       &#x27;2021-08-21T00:00:00.000000000&#x27;, &#x27;2021-08-24T00:00:00.000000000&#x27;,\n",
       "       &#x27;2021-08-25T00:00:00.000000000&#x27;, &#x27;2021-08-26T00:00:00.000000000&#x27;,\n",
       "       &#x27;2021-08-27T00:00:00.000000000&#x27;, &#x27;2021-08-28T00:00:00.000000000&#x27;,\n",
       "       &#x27;2021-08-29T00:00:00.000000000&#x27;, &#x27;2021-08-30T00:00:00.000000000&#x27;,\n",
       "       &#x27;2021-08-31T00:00:00.000000000&#x27;, &#x27;2021-09-01T00:00:00.000000000&#x27;,\n",
       "       &#x27;2021-09-02T00:00:00.000000000&#x27;, &#x27;2021-09-03T00:00:00.000000000&#x27;,\n",
       "       &#x27;2021-09-04T00:00:00.000000000&#x27;, &#x27;2021-09-05T00:00:00.000000000&#x27;,\n",
       "       &#x27;2021-09-06T00:00:00.000000000&#x27;, &#x27;2021-09-07T00:00:00.000000000&#x27;,\n",
       "       &#x27;2021-09-08T00:00:00.000000000&#x27;, &#x27;2021-09-09T00:00:00.000000000&#x27;,\n",
       "       &#x27;2021-09-10T00:00:00.000000000&#x27;, &#x27;2021-09-11T00:00:00.000000000&#x27;,\n",
       "       &#x27;2021-09-12T00:00:00.000000000&#x27;, &#x27;2021-09-13T00:00:00.000000000&#x27;,\n",
       "       &#x27;2021-09-14T00:00:00.000000000&#x27;, &#x27;2021-09-15T00:00:00.000000000&#x27;,\n",
       "       &#x27;2021-09-16T00:00:00.000000000&#x27;, &#x27;2021-09-17T00:00:00.000000000&#x27;,\n",
       "       &#x27;2021-09-18T00:00:00.000000000&#x27;, &#x27;2021-09-19T00:00:00.000000000&#x27;,\n",
       "       &#x27;2021-09-20T00:00:00.000000000&#x27;, &#x27;2021-09-21T00:00:00.000000000&#x27;,\n",
       "       &#x27;2021-09-22T00:00:00.000000000&#x27;, &#x27;2021-09-23T00:00:00.000000000&#x27;,\n",
       "       &#x27;2021-09-24T00:00:00.000000000&#x27;, &#x27;2021-09-25T00:00:00.000000000&#x27;,\n",
       "       &#x27;2021-09-26T00:00:00.000000000&#x27;, &#x27;2021-09-27T00:00:00.000000000&#x27;,\n",
       "       &#x27;2021-09-28T00:00:00.000000000&#x27;, &#x27;2021-09-29T00:00:00.000000000&#x27;,\n",
       "       &#x27;2021-09-30T00:00:00.000000000&#x27;, &#x27;2021-10-01T00:00:00.000000000&#x27;,\n",
       "       &#x27;2021-10-02T00:00:00.000000000&#x27;, &#x27;2021-10-03T00:00:00.000000000&#x27;,\n",
       "       &#x27;2021-10-04T00:00:00.000000000&#x27;, &#x27;2021-10-05T00:00:00.000000000&#x27;,\n",
       "       &#x27;2021-10-06T00:00:00.000000000&#x27;, &#x27;2021-10-07T00:00:00.000000000&#x27;,\n",
       "       &#x27;2021-10-08T00:00:00.000000000&#x27;, &#x27;2021-10-09T00:00:00.000000000&#x27;,\n",
       "       &#x27;2021-10-10T00:00:00.000000000&#x27;, &#x27;2021-10-11T00:00:00.000000000&#x27;,\n",
       "       &#x27;2021-10-12T00:00:00.000000000&#x27;, &#x27;2021-10-13T00:00:00.000000000&#x27;,\n",
       "       &#x27;2021-10-14T00:00:00.000000000&#x27;, &#x27;2021-10-15T00:00:00.000000000&#x27;,\n",
       "       &#x27;2021-10-16T00:00:00.000000000&#x27;, &#x27;2021-10-17T00:00:00.000000000&#x27;,\n",
       "       &#x27;2021-10-18T00:00:00.000000000&#x27;, &#x27;2021-10-19T00:00:00.000000000&#x27;,\n",
       "       &#x27;2021-10-20T00:00:00.000000000&#x27;, &#x27;2021-10-21T00:00:00.000000000&#x27;,\n",
       "       &#x27;2021-10-22T00:00:00.000000000&#x27;, &#x27;2021-10-23T00:00:00.000000000&#x27;,\n",
       "       &#x27;2021-10-24T00:00:00.000000000&#x27;, &#x27;2021-10-25T00:00:00.000000000&#x27;,\n",
       "       &#x27;2021-10-26T00:00:00.000000000&#x27;, &#x27;2021-10-27T00:00:00.000000000&#x27;,\n",
       "       &#x27;2021-10-28T00:00:00.000000000&#x27;, &#x27;2021-10-29T00:00:00.000000000&#x27;,\n",
       "       &#x27;2021-10-30T00:00:00.000000000&#x27;, &#x27;2021-10-31T00:00:00.000000000&#x27;],\n",
       "      dtype=&#x27;datetime64[ns]&#x27;)</pre></div></li><li class='xr-var-item'><div class='xr-var-name'><span class='xr-has-index'>x</span></div><div class='xr-var-dims'>(x)</div><div class='xr-var-dtype'>float64</div><div class='xr-var-preview xr-preview'>18.7 18.71 18.72 ... 28.89 28.9</div><input id='attrs-bc61cd1b-f648-4fce-a696-fb8d58ab1c18' class='xr-var-attrs-in' type='checkbox' disabled><label for='attrs-bc61cd1b-f648-4fce-a696-fb8d58ab1c18' title='Show/Hide attributes'><svg class='icon xr-icon-file-text2'><use xlink:href='#icon-file-text2'></use></svg></label><input id='data-0ca562cf-0b9b-4a20-9174-85e05891c9c0' class='xr-var-data-in' type='checkbox'><label for='data-0ca562cf-0b9b-4a20-9174-85e05891c9c0' title='Show/Hide data repr'><svg class='icon xr-icon-database'><use xlink:href='#icon-database'></use></svg></label><div class='xr-var-attrs'><dl class='xr-attrs'></dl></div><div class='xr-var-data'><pre>array([18.702116, 18.710261, 18.718406, ..., 28.88298 , 28.891124, 28.899269])</pre></div></li><li class='xr-var-item'><div class='xr-var-name'><span class='xr-has-index'>y</span></div><div class='xr-var-dims'>(y)</div><div class='xr-var-dtype'>float64</div><div class='xr-var-preview xr-preview'>42.3 42.29 42.28 ... 34.31 34.3</div><input id='attrs-82a46007-657b-40ac-ae9e-779677e66723' class='xr-var-attrs-in' type='checkbox' disabled><label for='attrs-82a46007-657b-40ac-ae9e-779677e66723' title='Show/Hide attributes'><svg class='icon xr-icon-file-text2'><use xlink:href='#icon-file-text2'></use></svg></label><input id='data-7cc6b025-241e-403e-8d64-8e26af57d4f2' class='xr-var-data-in' type='checkbox'><label for='data-7cc6b025-241e-403e-8d64-8e26af57d4f2' title='Show/Hide data repr'><svg class='icon xr-icon-database'><use xlink:href='#icon-database'></use></svg></label><div class='xr-var-attrs'><dl class='xr-attrs'></dl></div><div class='xr-var-data'><pre>array([42.299195, 42.29105 , 42.282905, ..., 34.317398, 34.309253, 34.301109])</pre></div></li></ul></div></li><li class='xr-section-item'><input id='section-966966ef-b9e4-42c4-8254-46982bd6e540' class='xr-section-summary-in' type='checkbox'  checked><label for='section-966966ef-b9e4-42c4-8254-46982bd6e540' class='xr-section-summary' >Data variables: <span>(4)</span></label><div class='xr-section-inline-details'></div><div class='xr-section-details'><ul class='xr-var-list'><li class='xr-var-item'><div class='xr-var-name'><span>max_t2m</span></div><div class='xr-var-dims'>(time, y, x)</div><div class='xr-var-dtype'>float32</div><div class='xr-var-preview xr-preview'>...</div><input id='attrs-e87b57a9-355b-4c98-8823-f5fb2270b9d9' class='xr-var-attrs-in' type='checkbox' disabled><label for='attrs-e87b57a9-355b-4c98-8823-f5fb2270b9d9' title='Show/Hide attributes'><svg class='icon xr-icon-file-text2'><use xlink:href='#icon-file-text2'></use></svg></label><input id='data-d2662beb-d663-44b6-b973-a04fdd24abec' class='xr-var-data-in' type='checkbox'><label for='data-d2662beb-d663-44b6-b973-a04fdd24abec' title='Show/Hide data repr'><svg class='icon xr-icon-database'><use xlink:href='#icon-database'></use></svg></label><div class='xr-var-attrs'><dl class='xr-attrs'></dl></div><div class='xr-var-data'><pre>[224169218 values with dtype=float32]</pre></div></li><li class='xr-var-item'><div class='xr-var-name'><span>min_relhum_2m</span></div><div class='xr-var-dims'>(time, y, x)</div><div class='xr-var-dtype'>float32</div><div class='xr-var-preview xr-preview'>...</div><input id='attrs-d979bfa2-3782-4844-b4f3-f610d781631c' class='xr-var-attrs-in' type='checkbox' disabled><label for='attrs-d979bfa2-3782-4844-b4f3-f610d781631c' title='Show/Hide attributes'><svg class='icon xr-icon-file-text2'><use xlink:href='#icon-file-text2'></use></svg></label><input id='data-b6ed41b0-eff0-40a8-8b9e-680c7ae6cd01' class='xr-var-data-in' type='checkbox'><label for='data-b6ed41b0-eff0-40a8-8b9e-680c7ae6cd01' title='Show/Hide data repr'><svg class='icon xr-icon-database'><use xlink:href='#icon-database'></use></svg></label><div class='xr-var-attrs'><dl class='xr-attrs'></dl></div><div class='xr-var-data'><pre>[224169218 values with dtype=float32]</pre></div></li><li class='xr-var-item'><div class='xr-var-name'><span>max_d2m</span></div><div class='xr-var-dims'>(time, y, x)</div><div class='xr-var-dtype'>float32</div><div class='xr-var-preview xr-preview'>...</div><input id='attrs-aaa375bd-5427-4a79-a4b7-79abfd7e59ba' class='xr-var-attrs-in' type='checkbox' disabled><label for='attrs-aaa375bd-5427-4a79-a4b7-79abfd7e59ba' title='Show/Hide attributes'><svg class='icon xr-icon-file-text2'><use xlink:href='#icon-file-text2'></use></svg></label><input id='data-524546cf-9a07-4708-89c9-96a8648bca90' class='xr-var-data-in' type='checkbox'><label for='data-524546cf-9a07-4708-89c9-96a8648bca90' title='Show/Hide data repr'><svg class='icon xr-icon-database'><use xlink:href='#icon-database'></use></svg></label><div class='xr-var-attrs'><dl class='xr-attrs'></dl></div><div class='xr-var-data'><pre>[224169218 values with dtype=float32]</pre></div></li><li class='xr-var-item'><div class='xr-var-name'><span>max_wind_speed</span></div><div class='xr-var-dims'>(time, y, x)</div><div class='xr-var-dtype'>float32</div><div class='xr-var-preview xr-preview'>...</div><input id='attrs-7769d945-1fa1-4dfe-8630-6c74847fe19f' class='xr-var-attrs-in' type='checkbox' disabled><label for='attrs-7769d945-1fa1-4dfe-8630-6c74847fe19f' title='Show/Hide attributes'><svg class='icon xr-icon-file-text2'><use xlink:href='#icon-file-text2'></use></svg></label><input id='data-37bdbb84-ceab-4d2c-81c1-198652ea5211' class='xr-var-data-in' type='checkbox'><label for='data-37bdbb84-ceab-4d2c-81c1-198652ea5211' title='Show/Hide data repr'><svg class='icon xr-icon-database'><use xlink:href='#icon-database'></use></svg></label><div class='xr-var-attrs'><dl class='xr-attrs'></dl></div><div class='xr-var-data'><pre>[224169218 values with dtype=float32]</pre></div></li></ul></div></li><li class='xr-section-item'><input id='section-1c16036d-baf6-4b85-8210-8f94d74164ae' class='xr-section-summary-in' type='checkbox' disabled ><label for='section-1c16036d-baf6-4b85-8210-8f94d74164ae' class='xr-section-summary'  title='Expand/collapse section'>Attributes: <span>(0)</span></label><div class='xr-section-inline-details'></div><div class='xr-section-details'><dl class='xr-attrs'></dl></div></li></ul></div></div>"
      ],
      "text/plain": [
       "<xarray.Dataset>\n",
       "Dimensions:         (time: 182, y: 983, x: 1253)\n",
       "Coordinates:\n",
       "  * time            (time) datetime64[ns] 2021-05-01 2021-05-02 ... 2021-10-31\n",
       "  * x               (x) float64 18.7 18.71 18.72 18.73 ... 28.88 28.89 28.9\n",
       "  * y               (y) float64 42.3 42.29 42.28 42.27 ... 34.32 34.31 34.3\n",
       "Data variables:\n",
       "    max_t2m         (time, y, x) float32 ...\n",
       "    min_relhum_2m   (time, y, x) float32 ...\n",
       "    max_d2m         (time, y, x) float32 ...\n",
       "    max_wind_speed  (time, y, x) float32 ..."
      ]
     },
     "execution_count": 3,
     "metadata": {},
     "output_type": "execute_result"
    }
   ],
   "source": [
    "moloch_cube"
   ]
  },
  {
   "cell_type": "code",
   "execution_count": null,
   "id": "explicit-advertising",
   "metadata": {},
   "outputs": [],
   "source": [
    "def copy_files_moloch(path, label, src):\n",
    "    if src == 'moloch':\n",
    "        if label == 'positives':\n",
    "            destination_folder = Path.home() / 'hdd1/diogenis/observatory/positives_moloch'\n",
    "        else:\n",
    "            destination_folder = Path.home() / 'hdd1/diogenis/observatory/negatives_moloch'\n",
    "    else:\n",
    "        if label == 'positives':\n",
    "            destination_folder = Path.home() / 'hdd1/diogenis/observatory/positives_era5_moloch'\n",
    "        else:\n",
    "            destination_folder = Path.home() / 'hdd1/diogenis/observatory/negatives_era5_moloch'\n",
    "        \n",
    "    #For Every file\n",
    "    for file_name in os.listdir(path):\n",
    "        #Get the date from the file name\n",
    "        file_date = file_name.split('_')[0][:4] + '/' + file_name.split('_')[0][4:6] + '/' + file_name.split('_')[0][6:]\n",
    "        \n",
    "        #Convert from string to datetime\n",
    "        file_date = datetime.strptime(file_date, '%Y/%m/%d')\n",
    "        \n",
    "        #If the year is 2021\n",
    "        if file_date.year == 2021:\n",
    "            \n",
    "            #Check for the month and the day\n",
    "            if (file_date.month ==5 and file_date.day >=10) or (file_date.month >=6 and file_date.month <= 10):\n",
    "                \n",
    "                #We don't care about the mode.npy files\n",
    "                if file_name.split('_')[3] == 'static.npy' or file_name.split('_')[3] == 'dynamic.npy' or file_name.split('_')[4] == 'vec.npy':\n",
    "                    source = path / file_name\n",
    "                    destination = destination_folder / file_name\n",
    "                    if os.path.isfile(source):\n",
    "                        shutil.copy(source, destination)"
   ]
  },
  {
   "cell_type": "code",
   "execution_count": null,
   "id": "smooth-chambers",
   "metadata": {},
   "outputs": [],
   "source": [
    "path = Path.home() / 'hdd1/iprapas/uc3/datasets_v4/npy/temporal/positives'\n",
    "copy_files_moloch(path, 'positives','moloch')"
   ]
  },
  {
   "cell_type": "code",
   "execution_count": null,
   "id": "informed-uncle",
   "metadata": {},
   "outputs": [],
   "source": [
    "copy_files_moloch(path, 'positives', 'era5')"
   ]
  },
  {
   "cell_type": "code",
   "execution_count": null,
   "id": "wrong-semester",
   "metadata": {},
   "outputs": [],
   "source": [
    "path = Path.home() / 'hdd1/iprapas/uc3/datasets_v5/npy/temporal/negatives_clc'\n",
    "copy_files_moloch(path, 'negatives', 'moloch')"
   ]
  },
  {
   "cell_type": "code",
   "execution_count": null,
   "id": "monthly-boutique",
   "metadata": {},
   "outputs": [],
   "source": [
    "copy_files_moloch(path, 'negatives', 'era5')"
   ]
  },
  {
   "cell_type": "code",
   "execution_count": 33,
   "id": "proprietary-wisconsin",
   "metadata": {},
   "outputs": [],
   "source": [
    "values_t2m_era5 = []\n",
    "values_wind_speed_era5 = []\n",
    "values_rh_era5 = []\n",
    "values_d2m_era5 = []\n",
    "\n",
    "values_t2m_positives_era5 = []\n",
    "values_wind_speed_positives_era5 = []\n",
    "values_rh_positives_era5 = []\n",
    "values_d2m_positives_era5 = []\n",
    "\n",
    "values_t2m_negatives_era5 = []\n",
    "values_wind_speed_negatives_era5 = []\n",
    "values_rh_negatives_era5 = []\n",
    "values_d2m_negatives_era5 = []\n",
    "    \n",
    "values_t2m_moloch = []\n",
    "values_wind_speed_moloch = []\n",
    "values_rh_moloch = []\n",
    "values_d2m_moloch = []\n",
    "\n",
    "values_t2m_positives_moloch = []\n",
    "values_wind_speed_positives_moloch = []\n",
    "values_rh_positives_moloch = []\n",
    "values_d2m_positives_moloch = []\n",
    "\n",
    "values_t2m_negatives_moloch = []\n",
    "values_wind_speed_negatives_moloch = []\n",
    "values_rh_negatives_moloch = []\n",
    "values_d2m_negatives_moloch = []"
   ]
  },
  {
   "cell_type": "code",
   "execution_count": 34,
   "id": "romantic-thinking",
   "metadata": {},
   "outputs": [],
   "source": [
    "def change_npy_files(path):\n",
    "    #For every file\n",
    "    for file_name in os.listdir(path):\n",
    "        \n",
    "        #Only if the file is dynamic.npy\n",
    "        if file_name.split('_')[3] == 'dynamic.npy':\n",
    "            \n",
    "            #Get the date\n",
    "            file_date = file_name.split('_')[0][:4] + '/' + file_name.split('_')[0][4:6] + '/' + file_name.split('_')[0][6:]\n",
    "            file_date = datetime.strptime(file_date, '%Y/%m/%d')\n",
    "            file_date = np.datetime64(file_date)\n",
    "            \n",
    "            #Add 12 hours so it matches the dimension in our datacube\n",
    "            # file_date = file_date + np.timedelta64(12, 'h')\n",
    "            \n",
    "            #Get the lat and lon\n",
    "            x_index = file_name.split('_')[1]\n",
    "            x_index = int(x_index)\n",
    "            y_index = file_name.split('_')[2]\n",
    "            y_index = int(y_index)\n",
    "\n",
    "            #Open the file\n",
    "            test = np.load(path / file_name)\n",
    "            \n",
    "            values_t2m_era5.append(test[9][10])\n",
    "            values_wind_speed_era5.append(test[9][30])\n",
    "            values_rh_era5.append(test[9][33])\n",
    "            values_d2m_era5.append(test[9][9])\n",
    "            \n",
    "            if path.parts[-1] == 'positives_moloch':\n",
    "                values_t2m_positives_era5.append(test[9][10])\n",
    "                values_wind_speed_positives_era5.append(test[9][30])\n",
    "                values_rh_positives_era5.append(test[9][33])\n",
    "                values_d2m_positives_era5.append(test[9][9])\n",
    "            else:\n",
    "                values_t2m_negatives_era5.append(test[9][10])\n",
    "                values_wind_speed_negatives_era5.append(test[9][30])\n",
    "                values_rh_negatives_era5.append(test[9][33])\n",
    "                values_d2m_negatives_era5.append(test[9][9])\n",
    "            \n",
    "            #For every day in the file\n",
    "            for i in range(10):\n",
    "                \n",
    "                #Get the appropriate date\n",
    "                tmp = file_date - np.timedelta64(9-i,'D')\n",
    "                if tmp in (moloch_cube.time.values):\n",
    "                    #Get the values from the datacube\n",
    "                    moloch_max_t2m = moloch_cube.sel(time = tmp).isel(x = x_index, y = y_index).max_t2m.values       \n",
    "                    moloch_max_wind_speed = moloch_cube.sel(time = tmp).isel(x = x_index, y = y_index).max_wind_speed.values\n",
    "                    moloch_min_rh = moloch_cube.sel(time = tmp).isel(x = x_index, y = y_index).min_relhum_2m.values\n",
    "                    moloch_max_d2m = moloch_cube.sel(time = tmp).isel(x = x_index, y = y_index).max_d2m.values\n",
    "                else:\n",
    "                    moloch_max_t2m = test[i][10]       \n",
    "                    moloch_max_wind_speed = test[i][30]\n",
    "                    moloch_min_rh = test[i][33]\n",
    "                    moloch_max_d2m = test[i][9]\n",
    "                \n",
    "                if i == 9:\n",
    "                    values_t2m_moloch.append(moloch_max_t2m)\n",
    "                    values_wind_speed_moloch.append(moloch_max_wind_speed)\n",
    "                    values_rh_moloch.append(moloch_min_rh)\n",
    "                    values_d2m_moloch.append(moloch_max_d2m)\n",
    "                    \n",
    "                    if path.parts[-1] == 'positives_moloch':\n",
    "                        values_t2m_positives_moloch.append(moloch_max_t2m)\n",
    "                        values_wind_speed_positives_moloch.append(moloch_max_wind_speed)\n",
    "                        values_rh_positives_moloch.append(moloch_min_rh)\n",
    "                        values_d2m_positives_moloch.append(moloch_max_d2m)\n",
    "                    else:\n",
    "                        values_t2m_negatives_moloch.append(moloch_max_t2m)\n",
    "                        values_wind_speed_negatives_moloch.append(moloch_max_wind_speed)\n",
    "                        values_rh_negatives_moloch.append(moloch_min_rh)\n",
    "                        values_d2m_negatives_moloch.append(moloch_max_d2m)\n",
    "            \n",
    "                    #Change the values in the file\n",
    "                    test[i][10] = moloch_max_t2m\n",
    "                    test[i][30] = moloch_max_wind_speed\n",
    "                    test[i][33] = moloch_min_rh\n",
    "                    test[i][9] = moloch_max_d2m\n",
    "            #Save the new values to the file\n",
    "            np.save(path / file_name, test)"
   ]
  },
  {
   "cell_type": "code",
   "execution_count": 35,
   "id": "removable-jumping",
   "metadata": {},
   "outputs": [],
   "source": [
    "path = Path.home() / 'hdd1/diogenis/observatory/positives_moloch'\n",
    "change_npy_files(path)"
   ]
  },
  {
   "cell_type": "code",
   "execution_count": 36,
   "id": "alleged-tennis",
   "metadata": {},
   "outputs": [],
   "source": [
    "path = Path.home() / 'hdd1/diogenis/observatory/negatives_moloch'\n",
    "change_npy_files(path)"
   ]
  },
  {
   "cell_type": "code",
   "execution_count": 37,
   "id": "settled-defendant",
   "metadata": {},
   "outputs": [],
   "source": [
    "values_t2m_era5 = np.array(values_t2m_era5)\n",
    "values_wind_speed_era5 = np.array(values_wind_speed_era5)\n",
    "values_rh_era5 = np.array(values_rh_era5)\n",
    "values_d2m_era5 = np.array(values_d2m_era5)\n",
    "\n",
    "values_t2m_positives_era5 = np.array(values_t2m_positives_era5)\n",
    "values_wind_speed_positives_era5 = np.array(values_wind_speed_positives_era5)\n",
    "values_rh_positives_era5 = np.array(values_rh_positives_era5)\n",
    "values_d2m_positives_era5 = np.array(values_d2m_positives_era5)\n",
    "\n",
    "values_t2m_negatives_era5 = np.array(values_t2m_negatives_era5)\n",
    "values_wind_speed_negatives_era5 = np.array(values_wind_speed_negatives_era5)\n",
    "values_rh_negatives_era5 = np.array(values_rh_negatives_era5)\n",
    "values_d2m_negatives_era5 = np.array(values_d2m_negatives_era5)\n",
    "\n",
    "values_t2m_moloch = np.array(values_t2m_moloch)\n",
    "values_wind_speed_moloch = np.array(values_wind_speed_moloch)\n",
    "values_rh_moloch = np.array(values_rh_moloch)\n",
    "values_d2m_moloch = np.array(values_d2m_moloch)\n",
    "\n",
    "values_t2m_positives_moloch = np.array(values_t2m_positives_moloch)\n",
    "values_wind_speed_positives_moloch = np.array(values_wind_speed_positives_moloch)\n",
    "values_rh_positives_moloch = np.array(values_rh_positives_moloch)\n",
    "values_d2m_positives_moloch = np.array(values_d2m_positives_moloch)\n",
    "\n",
    "values_t2m_negatives_moloch = np.array(values_t2m_negatives_moloch)\n",
    "values_wind_speed_negatives_moloch = np.array(values_wind_speed_negatives_moloch)\n",
    "values_rh_negatives_moloch = np.array(values_rh_negatives_moloch)\n",
    "values_d2m_negatives_moloch = np.array(values_d2m_negatives_moloch)"
   ]
  },
  {
   "cell_type": "code",
   "execution_count": 39,
   "id": "occupational-expression",
   "metadata": {},
   "outputs": [],
   "source": [
    "t2m_difference = values_t2m_era5 - values_t2m_moloch\n",
    "wind_speed_difference = values_wind_speed_era5 - values_wind_speed_moloch\n",
    "rh_difference = values_rh_era5 - values_rh_moloch\n",
    "d2m_difference = values_d2m_era5 - values_d2m_moloch\n",
    "\n",
    "t2m_positives_difference = values_t2m_positives_era5 - values_t2m_positives_moloch\n",
    "wind_speed_positives_difference = values_wind_speed_positives_era5 - values_wind_speed_positives_moloch\n",
    "rh_positives_difference = values_rh_positives_era5 - values_rh_positives_moloch\n",
    "d2m_positives_difference = values_d2m_positives_era5 - values_d2m_positives_moloch\n",
    "\n",
    "t2m_negatives_difference = values_t2m_negatives_era5 - values_t2m_negatives_moloch\n",
    "wind_speed_negatives_difference = values_wind_speed_negatives_era5 - values_wind_speed_negatives_moloch\n",
    "rh_negatives_difference = values_rh_negatives_era5 - values_rh_negatives_moloch\n",
    "d2m_negatives_difference = values_d2m_negatives_era5 - values_d2m_negatives_moloch"
   ]
  },
  {
   "cell_type": "code",
   "execution_count": 40,
   "id": "verified-reggae",
   "metadata": {},
   "outputs": [],
   "source": [
    "def compare_stats(era5, moloch, stat):\n",
    "    era5_max = era5.max()\n",
    "    moloch_max = moloch.max()\n",
    "    print('The era5 max ' + stat + ' is: ' + str(era5_max))\n",
    "    print('The moloch max ' + stat + ' is: ' + str(moloch_max))\n",
    "    \n",
    "    era5_min = era5.min()\n",
    "    moloch_min = moloch.min()\n",
    "    print('The era5 min ' + stat + ' is: ' + str(era5_min))\n",
    "    print('The moloch min ' + stat + ' is: ' + str(moloch_min))\n",
    "    \n",
    "    era5_avg = era5.mean()\n",
    "    moloch_avg = moloch.mean()\n",
    "    print('The era5 avg ' + stat + ' is: ' + str(era5_avg))\n",
    "    print('The moloch avg ' + stat + ' is: ' + str(moloch_avg))\n",
    "    \n",
    "    era5_std = era5.std()\n",
    "    moloch_std = moloch.std()\n",
    "    print('The era5 std ' + stat + ' is: ' + str(era5_std))\n",
    "    print('The moloch std ' + stat + ' is: ' + str(moloch_std))"
   ]
  },
  {
   "cell_type": "code",
   "execution_count": 41,
   "id": "compliant-screening",
   "metadata": {},
   "outputs": [
    {
     "name": "stdout",
     "output_type": "stream",
     "text": [
      "The era5 max t2m is: 314.914\n",
      "The moloch max t2m is: 317.81976\n",
      "The era5 min t2m is: 278.28073\n",
      "The moloch min t2m is: 276.22098\n",
      "The era5 avg t2m is: 300.15372\n",
      "The moloch avg t2m is: 300.81604\n",
      "The era5 std t2m is: 6.8909235\n",
      "The moloch std t2m is: 7.3204036\n"
     ]
    }
   ],
   "source": [
    "compare_stats(values_t2m_era5, values_t2m_moloch, 't2m')"
   ]
  },
  {
   "cell_type": "code",
   "execution_count": 42,
   "id": "therapeutic-animal",
   "metadata": {},
   "outputs": [
    {
     "name": "stdout",
     "output_type": "stream",
     "text": [
      "The era5 max wind speed is: 13.134581\n",
      "The moloch max wind speed is: 18.240557\n",
      "The era5 min wind speed is: 0.5270471\n",
      "The moloch min wind speed is: 1.1133106\n",
      "The era5 avg wind speed is: 3.4763775\n",
      "The moloch avg wind speed is: 5.2651668\n",
      "The era5 std wind speed is: 1.7795994\n",
      "The moloch std wind speed is: 1.8011255\n"
     ]
    }
   ],
   "source": [
    "compare_stats(values_wind_speed_era5, values_wind_speed_moloch, 'wind speed')"
   ]
  },
  {
   "cell_type": "code",
   "execution_count": 43,
   "id": "experimental-metadata",
   "metadata": {},
   "outputs": [
    {
     "name": "stdout",
     "output_type": "stream",
     "text": [
      "The era5 max rh is: 0.87368745\n",
      "The moloch max rh is: 0.95379084\n",
      "The era5 min rh is: 0.080229394\n",
      "The moloch min rh is: 0.058445696\n",
      "The era5 avg rh is: 0.3936601\n",
      "The moloch avg rh is: 0.33604068\n",
      "The era5 std rh is: 0.1678525\n",
      "The moloch std rh is: 0.14474246\n"
     ]
    }
   ],
   "source": [
    "compare_stats(values_rh_era5, values_rh_moloch, 'rh')"
   ]
  },
  {
   "cell_type": "code",
   "execution_count": 44,
   "id": "increased-trailer",
   "metadata": {},
   "outputs": [
    {
     "name": "stdout",
     "output_type": "stream",
     "text": [
      "The era5 max d2m is: 298.0342\n",
      "The moloch max d2m is: 299.37607\n",
      "The era5 min d2m is: 272.93335\n",
      "The moloch min d2m is: 270.4586\n",
      "The era5 avg d2m is: 287.49414\n",
      "The moloch avg d2m is: 286.91513\n",
      "The era5 std d2m is: 4.0416446\n",
      "The moloch std d2m is: 4.256359\n"
     ]
    }
   ],
   "source": [
    "compare_stats(values_d2m_era5, values_d2m_moloch, 'd2m')"
   ]
  },
  {
   "cell_type": "code",
   "execution_count": 45,
   "id": "realistic-thermal",
   "metadata": {},
   "outputs": [
    {
     "name": "stdout",
     "output_type": "stream",
     "text": [
      "The era5 max t2m positives is: 314.914\n",
      "The moloch max t2m positives is: 317.81976\n",
      "The era5 min t2m positives is: 293.74472\n",
      "The moloch min t2m positives is: 291.43954\n",
      "The era5 avg t2m positives is: 308.34396\n",
      "The moloch avg t2m positives is: 309.14374\n",
      "The era5 std t2m positives is: 3.985268\n",
      "The moloch std t2m positives is: 5.1428204\n"
     ]
    }
   ],
   "source": [
    "compare_stats(values_t2m_positives_era5, values_t2m_positives_moloch, 't2m positives')"
   ]
  },
  {
   "cell_type": "code",
   "execution_count": 46,
   "id": "informative-projector",
   "metadata": {},
   "outputs": [
    {
     "name": "stdout",
     "output_type": "stream",
     "text": [
      "The era5 max wind speed positives is: 12.721206\n",
      "The moloch max wind speed positives is: 18.240557\n",
      "The era5 min wind speed positives is: 1.2105005\n",
      "The moloch min wind speed positives is: 1.5559801\n",
      "The era5 avg wind speed positives is: 4.4714346\n",
      "The moloch avg wind speed positives is: 5.3997912\n",
      "The era5 std wind speed positives is: 1.782837\n",
      "The moloch std wind speed positives is: 2.1508312\n"
     ]
    }
   ],
   "source": [
    "compare_stats(values_wind_speed_positives_era5, values_wind_speed_positives_moloch, 'wind speed positives')"
   ]
  },
  {
   "cell_type": "code",
   "execution_count": 47,
   "id": "attached-applicant",
   "metadata": {},
   "outputs": [
    {
     "name": "stdout",
     "output_type": "stream",
     "text": [
      "The era5 max rh positives is: 0.75800014\n",
      "The moloch max rh positives is: 0.6152644\n",
      "The era5 min rh positives is: 0.080229394\n",
      "The moloch min rh positives is: 0.0694846\n",
      "The era5 avg rh positives is: 0.22031657\n",
      "The moloch avg rh positives is: 0.18377876\n",
      "The era5 std rh positives is: 0.113313034\n",
      "The moloch std rh positives is: 0.083464645\n"
     ]
    }
   ],
   "source": [
    "compare_stats(values_rh_positives_era5, values_rh_positives_moloch, 'rh positives')"
   ]
  },
  {
   "cell_type": "code",
   "execution_count": 48,
   "id": "enabling-martial",
   "metadata": {},
   "outputs": [
    {
     "name": "stdout",
     "output_type": "stream",
     "text": [
      "The era5 max d2m positives is: 298.0342\n",
      "The moloch max d2m positives is: 299.37607\n",
      "The era5 min d2m positives is: 280.0141\n",
      "The moloch min d2m positives is: 278.05695\n",
      "The era5 avg d2m positives is: 288.85107\n",
      "The moloch avg d2m positives is: 288.02704\n",
      "The era5 std d2m positives is: 3.77205\n",
      "The moloch std d2m positives is: 5.248262\n"
     ]
    }
   ],
   "source": [
    "compare_stats(values_d2m_positives_era5, values_d2m_positives_moloch, 'd2m positives')"
   ]
  },
  {
   "cell_type": "code",
   "execution_count": 49,
   "id": "rural-yahoo",
   "metadata": {},
   "outputs": [
    {
     "name": "stdout",
     "output_type": "stream",
     "text": [
      "The era5 max t2m negatives is: 313.61798\n",
      "The moloch max t2m negatives is: 315.22314\n",
      "The era5 min t2m negatives is: 278.28073\n",
      "The moloch min t2m negatives is: 276.22098\n",
      "The era5 avg t2m negatives is: 297.47183\n",
      "The moloch avg t2m negatives is: 298.0892\n",
      "The era5 std t2m negatives is: 5.3549447\n",
      "The moloch std t2m negatives is: 5.686024\n"
     ]
    }
   ],
   "source": [
    "compare_stats(values_t2m_negatives_era5, values_t2m_negatives_moloch, 't2m negatives')"
   ]
  },
  {
   "cell_type": "code",
   "execution_count": 50,
   "id": "foster-sullivan",
   "metadata": {},
   "outputs": [
    {
     "name": "stdout",
     "output_type": "stream",
     "text": [
      "The era5 max wind speed negatives is: 13.134581\n",
      "The moloch max wind speed negatives is: 17.110958\n",
      "The era5 min wind speed negatives is: 0.5270471\n",
      "The moloch min wind speed negatives is: 1.1133106\n",
      "The era5 avg wind speed negatives is: 3.150551\n",
      "The moloch avg wind speed negatives is: 5.221084\n",
      "The era5 std wind speed negatives is: 1.6531239\n",
      "The moloch std wind speed negatives is: 1.6684241\n"
     ]
    }
   ],
   "source": [
    "compare_stats(values_wind_speed_negatives_era5, values_wind_speed_negatives_moloch, 'wind speed negatives')"
   ]
  },
  {
   "cell_type": "code",
   "execution_count": 51,
   "id": "going-sheet",
   "metadata": {},
   "outputs": [
    {
     "name": "stdout",
     "output_type": "stream",
     "text": [
      "The era5 max rh negatives is: 0.87368745\n",
      "The moloch max rh negatives is: 0.95379084\n",
      "The era5 min rh negatives is: 0.089775786\n",
      "The moloch min rh negatives is: 0.058445696\n",
      "The era5 avg rh negatives is: 0.45042062\n",
      "The moloch avg rh negatives is: 0.38589808\n",
      "The era5 std rh negatives is: 0.14189745\n",
      "The moloch std rh negatives is: 0.124307044\n"
     ]
    }
   ],
   "source": [
    "compare_stats(values_rh_negatives_era5, values_rh_negatives_moloch, 'rh negatives')"
   ]
  },
  {
   "cell_type": "code",
   "execution_count": 52,
   "id": "bibliographic-paste",
   "metadata": {},
   "outputs": [
    {
     "name": "stdout",
     "output_type": "stream",
     "text": [
      "The era5 max d2m negatives is: 297.8686\n",
      "The moloch max d2m negatives is: 299.2762\n",
      "The era5 min d2m negatives is: 272.93335\n",
      "The moloch min d2m negatives is: 270.4586\n",
      "The era5 avg d2m negatives is: 287.0498\n",
      "The moloch avg d2m negatives is: 286.55106\n",
      "The era5 std d2m negatives is: 4.0279427\n",
      "The moloch std d2m negatives is: 3.8068593\n"
     ]
    }
   ],
   "source": [
    "compare_stats(values_d2m_negatives_era5, values_d2m_negatives_moloch, 'd2m negatives')"
   ]
  },
  {
   "cell_type": "code",
   "execution_count": 53,
   "id": "unlimited-pharmacology",
   "metadata": {},
   "outputs": [],
   "source": [
    "def calculate_difference_stats(arr, stat):\n",
    "    print(\"The max of \" + stat + ' difference is ' + str(arr.max()))\n",
    "    print(\"The min of \" + stat + ' difference is ' + str(arr.min()))\n",
    "    print(\"The avg of \" + stat + ' difference is ' + str(arr.mean()))\n",
    "    print(\"The std of \" + stat + ' difference is ' + str(arr.std()))"
   ]
  },
  {
   "cell_type": "code",
   "execution_count": 54,
   "id": "dress-butter",
   "metadata": {},
   "outputs": [
    {
     "name": "stdout",
     "output_type": "stream",
     "text": [
      "The max of t2m difference is 11.799805\n",
      "The min of t2m difference is -12.667419\n",
      "The avg of t2m difference is -0.6623257\n",
      "The std of t2m difference is 3.1333034\n"
     ]
    }
   ],
   "source": [
    "calculate_difference_stats(t2m_difference, 't2m')"
   ]
  },
  {
   "cell_type": "code",
   "execution_count": 55,
   "id": "micro-legend",
   "metadata": {},
   "outputs": [
    {
     "name": "stdout",
     "output_type": "stream",
     "text": [
      "The max of wind speed difference is 9.110645\n",
      "The min of wind speed difference is -13.308237\n",
      "The avg of wind speed difference is -1.7887892\n",
      "The std of wind speed difference is 2.2271938\n"
     ]
    }
   ],
   "source": [
    "calculate_difference_stats(wind_speed_difference, 'wind speed')"
   ]
  },
  {
   "cell_type": "code",
   "execution_count": 56,
   "id": "special-consumption",
   "metadata": {},
   "outputs": [
    {
     "name": "stdout",
     "output_type": "stream",
     "text": [
      "The max of rh difference is 0.6621279\n",
      "The min of rh difference is -0.52940905\n",
      "The avg of rh difference is 0.05761946\n",
      "The std of rh difference is 0.12500179\n"
     ]
    }
   ],
   "source": [
    "calculate_difference_stats(rh_difference, 'rh')"
   ]
  },
  {
   "cell_type": "code",
   "execution_count": 57,
   "id": "constitutional-dinner",
   "metadata": {},
   "outputs": [
    {
     "name": "stdout",
     "output_type": "stream",
     "text": [
      "The max of d2m difference is 13.443237\n",
      "The min of d2m difference is -12.643066\n",
      "The avg of d2m difference is 0.57897466\n",
      "The std of d2m difference is 3.1572986\n"
     ]
    }
   ],
   "source": [
    "calculate_difference_stats(d2m_difference, 'd2m')"
   ]
  },
  {
   "cell_type": "code",
   "execution_count": 58,
   "id": "absent-designation",
   "metadata": {},
   "outputs": [
    {
     "name": "stdout",
     "output_type": "stream",
     "text": [
      "The max of t2m positives difference is 9.291229\n",
      "The min of t2m positives difference is -11.6922\n",
      "The avg of t2m positives difference is -0.79975873\n",
      "The std of t2m positives difference is 3.3951347\n"
     ]
    }
   ],
   "source": [
    "calculate_difference_stats(t2m_positives_difference, 't2m positives')"
   ]
  },
  {
   "cell_type": "code",
   "execution_count": 59,
   "id": "stretch-benjamin",
   "metadata": {},
   "outputs": [
    {
     "name": "stdout",
     "output_type": "stream",
     "text": [
      "The max of wind speed positives difference is 9.110645\n",
      "The min of wind speed positives difference is -8.907431\n",
      "The avg of wind speed positives difference is -0.9283572\n",
      "The std of wind speed positives difference is 2.5424604\n"
     ]
    }
   ],
   "source": [
    "calculate_difference_stats(wind_speed_positives_difference, 'wind speed positives')"
   ]
  },
  {
   "cell_type": "code",
   "execution_count": 60,
   "id": "strange-tribute",
   "metadata": {},
   "outputs": [
    {
     "name": "stdout",
     "output_type": "stream",
     "text": [
      "The max of rh positives difference is 0.45819172\n",
      "The min of rh positives difference is -0.20529133\n",
      "The avg of rh positives difference is 0.03653781\n",
      "The std of rh positives difference is 0.10462871\n"
     ]
    }
   ],
   "source": [
    "calculate_difference_stats(rh_positives_difference, 'rh positives')"
   ]
  },
  {
   "cell_type": "code",
   "execution_count": 61,
   "id": "annoying-integrity",
   "metadata": {},
   "outputs": [
    {
     "name": "stdout",
     "output_type": "stream",
     "text": [
      "The max of d2m positives difference is 13.269104\n",
      "The min of d2m positives difference is -12.643066\n",
      "The avg of d2m positives difference is 0.82402587\n",
      "The std of d2m positives difference is 4.280214\n"
     ]
    }
   ],
   "source": [
    "calculate_difference_stats(d2m_positives_difference, 'd2m positives')"
   ]
  },
  {
   "cell_type": "code",
   "execution_count": 62,
   "id": "interested-university",
   "metadata": {},
   "outputs": [
    {
     "name": "stdout",
     "output_type": "stream",
     "text": [
      "The max of t2m negatives difference is 11.799805\n",
      "The min of t2m negatives difference is -12.667419\n",
      "The avg of t2m negatives difference is -0.6173239\n",
      "The std of t2m negatives difference is 3.0413258\n"
     ]
    }
   ],
   "source": [
    "calculate_difference_stats(t2m_negatives_difference, 't2m negatives')"
   ]
  },
  {
   "cell_type": "code",
   "execution_count": 63,
   "id": "provincial-employer",
   "metadata": {},
   "outputs": [
    {
     "name": "stdout",
     "output_type": "stream",
     "text": [
      "The max of wind speed negatives difference is 8.459825\n",
      "The min of wind speed negatives difference is -13.308237\n",
      "The avg of wind speed negatives difference is -2.0705335\n",
      "The std of wind speed negatives difference is 2.0362236\n"
     ]
    }
   ],
   "source": [
    "calculate_difference_stats(wind_speed_negatives_difference, 'wind speed negatives')"
   ]
  },
  {
   "cell_type": "code",
   "execution_count": 64,
   "id": "composed-milwaukee",
   "metadata": {},
   "outputs": [
    {
     "name": "stdout",
     "output_type": "stream",
     "text": [
      "The max of rh negatives difference is 0.6621279\n",
      "The min of rh negatives difference is -0.52940905\n",
      "The avg of rh negatives difference is 0.06452254\n",
      "The std of rh negatives difference is 0.13024649\n"
     ]
    }
   ],
   "source": [
    "calculate_difference_stats(rh_negatives_difference, 'rh negatives')"
   ]
  },
  {
   "cell_type": "code",
   "execution_count": 65,
   "id": "assured-intelligence",
   "metadata": {},
   "outputs": [
    {
     "name": "stdout",
     "output_type": "stream",
     "text": [
      "The max of d2m negatives difference is 13.443237\n",
      "The min of d2m negatives difference is -11.397888\n",
      "The avg of d2m negatives difference is 0.49873388\n",
      "The std of d2m negatives difference is 2.6847177\n"
     ]
    }
   ],
   "source": [
    "calculate_difference_stats(d2m_negatives_difference, 'd2m negatives')"
   ]
  },
  {
   "cell_type": "code",
   "execution_count": 66,
   "id": "charming-panama",
   "metadata": {},
   "outputs": [
    {
     "data": {
      "image/png": "[encoded data removed]",
      "text/plain": [
       "<Figure size 864x576 with 1 Axes>"
      ]
     },
     "metadata": {
      "needs_background": "light"
     },
     "output_type": "display_data"
    }
   ],
   "source": [
    "plt.figure(figsize=(12,8))\n",
    "plt.title(\"Max t2m\")\n",
    "plt.hist([values_t2m_era5, values_t2m_moloch], label=['era5', 'moloch'])\n",
    "plt.legend(loc='upper right')\n",
    "plt.show()"
   ]
  },
  {
   "cell_type": "code",
   "execution_count": 67,
   "id": "former-occurrence",
   "metadata": {},
   "outputs": [
    {
     "data": {
      "image/png": "[encoded data removed]",
      "text/plain": [
       "<Figure size 864x576 with 1 Axes>"
      ]
     },
     "metadata": {
      "needs_background": "light"
     },
     "output_type": "display_data"
    }
   ],
   "source": [
    "plt.figure(figsize=(12,8))\n",
    "plt.title(\"Max wind speed\")\n",
    "plt.hist([values_wind_speed_era5, values_wind_speed_moloch], label=['era5', 'moloch'])\n",
    "plt.legend(loc='upper right')\n",
    "plt.show()"
   ]
  },
  {
   "cell_type": "code",
   "execution_count": 68,
   "id": "acknowledged-racing",
   "metadata": {},
   "outputs": [
    {
     "data": {
      "image/png": "[encoded data removed]",
      "text/plain": [
       "<Figure size 864x576 with 1 Axes>"
      ]
     },
     "metadata": {
      "needs_background": "light"
     },
     "output_type": "display_data"
    }
   ],
   "source": [
    "plt.figure(figsize=(12,8))\n",
    "plt.title(\"Min rh\")\n",
    "plt.hist([values_rh_era5, values_rh_moloch], label=['era5', 'moloch'])\n",
    "plt.legend(loc='upper right')\n",
    "plt.show()"
   ]
  },
  {
   "cell_type": "code",
   "execution_count": 69,
   "id": "premier-prophet",
   "metadata": {},
   "outputs": [
    {
     "data": {
      "image/png": "[encoded data removed]",
      "text/plain": [
       "<Figure size 864x576 with 1 Axes>"
      ]
     },
     "metadata": {
      "needs_background": "light"
     },
     "output_type": "display_data"
    }
   ],
   "source": [
    "plt.figure(figsize=(12,8))\n",
    "plt.title(\"Max d2m\")\n",
    "plt.hist([values_d2m_era5, values_d2m_moloch], label=['era5', 'moloch'])\n",
    "plt.legend(loc='upper right')\n",
    "plt.show()"
   ]
  },
  {
   "cell_type": "code",
   "execution_count": 70,
   "id": "renewable-offering",
   "metadata": {},
   "outputs": [
    {
     "data": {
      "image/png": "[encoded data removed]",
      "text/plain": [
       "<Figure size 864x576 with 1 Axes>"
      ]
     },
     "metadata": {
      "needs_background": "light"
     },
     "output_type": "display_data"
    }
   ],
   "source": [
    "plt.figure(figsize=(12,8))\n",
    "plt.title(\"Max t2m in positives\")\n",
    "plt.hist([values_t2m_positives_era5, values_t2m_positives_moloch], label=['era5', 'moloch'])\n",
    "plt.legend(loc='upper right')\n",
    "plt.show()"
   ]
  },
  {
   "cell_type": "code",
   "execution_count": 71,
   "id": "ruled-powell",
   "metadata": {},
   "outputs": [
    {
     "data": {
      "image/png": "[encoded data removed]",
      "text/plain": [
       "<Figure size 864x576 with 1 Axes>"
      ]
     },
     "metadata": {
      "needs_background": "light"
     },
     "output_type": "display_data"
    }
   ],
   "source": [
    "plt.figure(figsize=(12,8))\n",
    "plt.title(\"Max wind speed in positives\")\n",
    "plt.hist([values_wind_speed_positives_era5, values_wind_speed_positives_moloch], label=['era5', 'moloch'])\n",
    "plt.legend(loc='upper right')\n",
    "plt.show()"
   ]
  },
  {
   "cell_type": "code",
   "execution_count": 73,
   "id": "downtown-inspiration",
   "metadata": {},
   "outputs": [
    {
     "data": {
      "image/png": "[encoded data removed]",
      "text/plain": [
       "<Figure size 864x576 with 1 Axes>"
      ]
     },
     "metadata": {
      "needs_background": "light"
     },
     "output_type": "display_data"
    }
   ],
   "source": [
    "plt.figure(figsize=(12,8))\n",
    "plt.title(\"Min rh in positives\")\n",
    "plt.hist([values_rh_positives_era5, values_rh_positives_moloch], label=['era5', 'moloch'])\n",
    "plt.legend(loc='upper right')\n",
    "plt.show()"
   ]
  },
  {
   "cell_type": "code",
   "execution_count": 74,
   "id": "difficult-expense",
   "metadata": {},
   "outputs": [
    {
     "data": {
      "image/png": "[encoded data removed]",
      "text/plain": [
       "<Figure size 864x576 with 1 Axes>"
      ]
     },
     "metadata": {
      "needs_background": "light"
     },
     "output_type": "display_data"
    }
   ],
   "source": [
    "plt.figure(figsize=(12,8))\n",
    "plt.title(\"Max d2m in positives\")\n",
    "plt.hist([values_d2m_positives_era5, values_d2m_positives_moloch], label=['era5', 'moloch'])\n",
    "plt.legend(loc='upper right')\n",
    "plt.show()"
   ]
  },
  {
   "cell_type": "code",
   "execution_count": 75,
   "id": "moral-james",
   "metadata": {},
   "outputs": [
    {
     "data": {
      "image/png": "[encoded data removed]",
      "text/plain": [
       "<Figure size 864x576 with 1 Axes>"
      ]
     },
     "metadata": {
      "needs_background": "light"
     },
     "output_type": "display_data"
    }
   ],
   "source": [
    "plt.figure(figsize=(12,8))\n",
    "plt.title(\"Max t2m in negatives\")\n",
    "plt.hist([values_t2m_negatives_era5, values_t2m_negatives_moloch], label=['era5', 'moloch'])\n",
    "plt.legend(loc='upper right')\n",
    "plt.show()"
   ]
  },
  {
   "cell_type": "code",
   "execution_count": 76,
   "id": "neutral-fabric",
   "metadata": {},
   "outputs": [
    {
     "data": {
      "image/png": "[encoded data removed]",
      "text/plain": [
       "<Figure size 864x576 with 1 Axes>"
      ]
     },
     "metadata": {
      "needs_background": "light"
     },
     "output_type": "display_data"
    }
   ],
   "source": [
    "plt.figure(figsize=(12,8))\n",
    "plt.title(\"Max wind speed in negatives\")\n",
    "plt.hist([values_wind_speed_negatives_era5, values_wind_speed_negatives_moloch], label=['era5', 'moloch'])\n",
    "plt.legend(loc='upper right')\n",
    "plt.show()"
   ]
  },
  {
   "cell_type": "code",
   "execution_count": 77,
   "id": "friendly-english",
   "metadata": {},
   "outputs": [
    {
     "data": {
      "image/png": "[encoded data removed]",
      "text/plain": [
       "<Figure size 864x576 with 1 Axes>"
      ]
     },
     "metadata": {
      "needs_background": "light"
     },
     "output_type": "display_data"
    }
   ],
   "source": [
    "plt.figure(figsize=(12,8))\n",
    "plt.title(\"Min rh in negatives\")\n",
    "plt.hist([values_rh_negatives_era5, values_rh_negatives_moloch], label=['era5', 'moloch'])\n",
    "plt.legend(loc='upper right')\n",
    "plt.show()"
   ]
  },
  {
   "cell_type": "code",
   "execution_count": 78,
   "id": "graduate-colony",
   "metadata": {},
   "outputs": [
    {
     "data": {
      "image/png": "[encoded data removed]",
      "text/plain": [
       "<Figure size 864x576 with 1 Axes>"
      ]
     },
     "metadata": {
      "needs_background": "light"
     },
     "output_type": "display_data"
    }
   ],
   "source": [
    "plt.figure(figsize=(12,8))\n",
    "plt.title(\"Max d2m in negatives\")\n",
    "plt.hist([values_d2m_negatives_era5, values_d2m_negatives_moloch], label=['era5', 'moloch'])\n",
    "plt.legend(loc='upper right')\n",
    "plt.show()"
   ]
  },
  {
   "cell_type": "code",
   "execution_count": 79,
   "id": "diverse-sheet",
   "metadata": {},
   "outputs": [
    {
     "data": {
      "image/png": "[encoded data removed]",
      "text/plain": [
       "<Figure size 864x576 with 1 Axes>"
      ]
     },
     "metadata": {
      "needs_background": "light"
     },
     "output_type": "display_data"
    }
   ],
   "source": [
    "plt.figure(figsize=(12,8))\n",
    "plt.title(\"t2m differences\")\n",
    "plt.hist(t2m_difference)\n",
    "plt.show()"
   ]
  },
  {
   "cell_type": "code",
   "execution_count": 80,
   "id": "measured-swing",
   "metadata": {},
   "outputs": [
    {
     "data": {
      "image/png": "[encoded data removed]",
      "text/plain": [
       "<Figure size 864x576 with 1 Axes>"
      ]
     },
     "metadata": {
      "needs_background": "light"
     },
     "output_type": "display_data"
    }
   ],
   "source": [
    "plt.figure(figsize=(12,8))\n",
    "plt.title(\"wind speed differences\")\n",
    "plt.hist(wind_speed_difference)\n",
    "plt.show()"
   ]
  },
  {
   "cell_type": "code",
   "execution_count": 82,
   "id": "cross-imaging",
   "metadata": {},
   "outputs": [
    {
     "data": {
      "image/png": "[encoded data removed]",
      "text/plain": [
       "<Figure size 864x576 with 1 Axes>"
      ]
     },
     "metadata": {
      "needs_background": "light"
     },
     "output_type": "display_data"
    }
   ],
   "source": [
    "plt.figure(figsize=(12,8))\n",
    "plt.title(\"rh differences\")\n",
    "plt.hist(rh_difference)\n",
    "plt.show()"
   ]
  },
  {
   "cell_type": "code",
   "execution_count": 84,
   "id": "compound-wiring",
   "metadata": {},
   "outputs": [
    {
     "data": {
      "image/png": "[encoded data removed]",
      "text/plain": [
       "<Figure size 864x576 with 1 Axes>"
      ]
     },
     "metadata": {
      "needs_background": "light"
     },
     "output_type": "display_data"
    }
   ],
   "source": [
    "plt.figure(figsize=(12,8))\n",
    "plt.title(\"d2m differences\")\n",
    "plt.hist(d2m_difference)\n",
    "plt.show()"
   ]
  },
  {
   "cell_type": "code",
   "execution_count": 85,
   "id": "artistic-mayor",
   "metadata": {},
   "outputs": [
    {
     "data": {
      "image/png": "[encoded data removed]",
      "text/plain": [
       "<Figure size 864x576 with 1 Axes>"
      ]
     },
     "metadata": {
      "needs_background": "light"
     },
     "output_type": "display_data"
    }
   ],
   "source": [
    "plt.figure(figsize=(12,8))\n",
    "plt.title(\"t2m positives differences\")\n",
    "plt.hist(t2m_positives_difference)\n",
    "plt.show()"
   ]
  },
  {
   "cell_type": "code",
   "execution_count": 86,
   "id": "minimal-academy",
   "metadata": {},
   "outputs": [
    {
     "data": {
      "image/png": "[encoded data removed]",
      "text/plain": [
       "<Figure size 864x576 with 1 Axes>"
      ]
     },
     "metadata": {
      "needs_background": "light"
     },
     "output_type": "display_data"
    }
   ],
   "source": [
    "plt.figure(figsize=(12,8))\n",
    "plt.title(\"wind speed positives differences\")\n",
    "plt.hist(wind_speed_positives_difference)\n",
    "plt.show()"
   ]
  },
  {
   "cell_type": "code",
   "execution_count": 87,
   "id": "excessive-lucas",
   "metadata": {},
   "outputs": [
    {
     "data": {
      "image/png": "[encoded data removed]",
      "text/plain": [
       "<Figure size 864x576 with 1 Axes>"
      ]
     },
     "metadata": {
      "needs_background": "light"
     },
     "output_type": "display_data"
    }
   ],
   "source": [
    "plt.figure(figsize=(12,8))\n",
    "plt.title(\"rh positives differences\")\n",
    "plt.hist(rh_positives_difference)\n",
    "plt.show()"
   ]
  },
  {
   "cell_type": "code",
   "execution_count": 88,
   "id": "lasting-philadelphia",
   "metadata": {},
   "outputs": [
    {
     "data": {
      "image/png": "[encoded data removed]",
      "text/plain": [
       "<Figure size 864x576 with 1 Axes>"
      ]
     },
     "metadata": {
      "needs_background": "light"
     },
     "output_type": "display_data"
    }
   ],
   "source": [
    "plt.figure(figsize=(12,8))\n",
    "plt.title(\"d2m positives differences\")\n",
    "plt.hist(d2m_positives_difference)\n",
    "plt.show()"
   ]
  },
  {
   "cell_type": "code",
   "execution_count": 89,
   "id": "ideal-bosnia",
   "metadata": {},
   "outputs": [
    {
     "data": {
      "image/png": "[encoded data removed]",
      "text/plain": [
       "<Figure size 864x576 with 1 Axes>"
      ]
     },
     "metadata": {
      "needs_background": "light"
     },
     "output_type": "display_data"
    }
   ],
   "source": [
    "plt.figure(figsize=(12,8))\n",
    "plt.title(\"t2m negatives differences\")\n",
    "plt.hist(t2m_negatives_difference)\n",
    "plt.show()"
   ]
  },
  {
   "cell_type": "code",
   "execution_count": 90,
   "id": "copyrighted-canadian",
   "metadata": {},
   "outputs": [
    {
     "data": {
      "image/png": "[encoded data removed]",
      "text/plain": [
       "<Figure size 864x576 with 1 Axes>"
      ]
     },
     "metadata": {
      "needs_background": "light"
     },
     "output_type": "display_data"
    }
   ],
   "source": [
    "plt.figure(figsize=(12,8))\n",
    "plt.title(\"wind speed negatives differences\")\n",
    "plt.hist(wind_speed_negatives_difference)\n",
    "plt.show()"
   ]
  },
  {
   "cell_type": "code",
   "execution_count": 91,
   "id": "phantom-there",
   "metadata": {},
   "outputs": [
    {
     "data": {
      "image/png": "[encoded data removed]",
      "text/plain": [
       "<Figure size 864x576 with 1 Axes>"
      ]
     },
     "metadata": {
      "needs_background": "light"
     },
     "output_type": "display_data"
    }
   ],
   "source": [
    "plt.figure(figsize=(12,8))\n",
    "plt.title(\"rh negatives differences\")\n",
    "plt.hist(rh_negatives_difference)\n",
    "plt.show()"
   ]
  },
  {
   "cell_type": "code",
   "execution_count": 92,
   "id": "analyzed-illness",
   "metadata": {},
   "outputs": [
    {
     "data": {
      "image/png": "[encoded data removed]",
      "text/plain": [
       "<Figure size 864x576 with 1 Axes>"
      ]
     },
     "metadata": {
      "needs_background": "light"
     },
     "output_type": "display_data"
    }
   ],
   "source": [
    "plt.figure(figsize=(12,8))\n",
    "plt.title(\"d2m negatives differences\")\n",
    "plt.hist(d2m_negatives_difference)\n",
    "plt.show()"
   ]
  },
  {
   "cell_type": "code",
   "execution_count": null,
   "id": "double-contact",
   "metadata": {},
   "outputs": [],
   "source": []
  }
 ],
 "metadata": {
  "kernelspec": {
   "display_name": "meteo",
   "language": "python",
   "name": "meteo"
  },
  "language_info": {
   "codemirror_mode": {
    "name": "ipython",
    "version": 3
   },
   "file_extension": ".py",
   "mimetype": "text/x-python",
   "name": "python",
   "nbconvert_exporter": "python",
   "pygments_lexer": "ipython3",
   "version": "3.7.3"
  }
 },
 "nbformat": 4,
 "nbformat_minor": 5
}
