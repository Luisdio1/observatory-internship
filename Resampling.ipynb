{
 "cells": [
  {
   "cell_type": "markdown",
   "id": "handy-hygiene",
   "metadata": {},
   "source": [
    "## Sampling from the new Datacube"
   ]
  },
  {
   "cell_type": "code",
   "execution_count": 1,
   "id": "suffering-wings",
   "metadata": {},
   "outputs": [
    {
     "name": "stdout",
     "output_type": "stream",
     "text": [
      "Warning: ecCodes 2.21.0 or higher is recommended. You are running version 2.16.0\n"
     ]
    }
   ],
   "source": [
    "# Import required libraries\n",
    "import xarray as xr\n",
    "from pathlib import Path\n",
    "import numpy as np\n",
    "import datetime\n",
    "import pandas as pd\n",
    "import cfgrib\n",
    "import os\n",
    "import shutil\n",
    "from datetime import datetime\n",
    "import matplotlib.pyplot as plt"
   ]
  },
  {
   "cell_type": "code",
   "execution_count": 2,
   "id": "guided-bosnia",
   "metadata": {},
   "outputs": [],
   "source": [
    "final_cube = xr.open_dataset(Path.home() / 'hdd1/diogenis/observatory/dwd_meteo.nc')"
   ]
  },
  {
   "cell_type": "code",
   "execution_count": 3,
   "id": "controlling-aaron",
   "metadata": {},
   "outputs": [
    {
     "data": {
      "text/html": [
       "<div><svg style=\"position: absolute; width: 0; height: 0; overflow: hidden\">\n",
       "<defs>\n",
       "<symbol id=\"icon-database\" viewBox=\"0 0 32 32\">\n",
       "<path d=\"M16 0c-8.837 0-16 2.239-16 5v4c0 2.761 7.163 5 16 5s16-2.239 16-5v-4c0-2.761-7.163-5-16-5z\"></path>\n",
       "<path d=\"M16 17c-8.837 0-16-2.239-16-5v6c0 2.761 7.163 5 16 5s16-2.239 16-5v-6c0 2.761-7.163 5-16 5z\"></path>\n",
       "<path d=\"M16 26c-8.837 0-16-2.239-16-5v6c0 2.761 7.163 5 16 5s16-2.239 16-5v-6c0 2.761-7.163 5-16 5z\"></path>\n",
       "</symbol>\n",
       "<symbol id=\"icon-file-text2\" viewBox=\"0 0 32 32\">\n",
       "<path d=\"M28.681 7.159c-0.694-0.947-1.662-2.053-2.724-3.116s-2.169-2.030-3.116-2.724c-1.612-1.182-2.393-1.319-2.841-1.319h-15.5c-1.378 0-2.5 1.121-2.5 2.5v27c0 1.378 1.122 2.5 2.5 2.5h23c1.378 0 2.5-1.122 2.5-2.5v-19.5c0-0.448-0.137-1.23-1.319-2.841zM24.543 5.457c0.959 0.959 1.712 1.825 2.268 2.543h-4.811v-4.811c0.718 0.556 1.584 1.309 2.543 2.268zM28 29.5c0 0.271-0.229 0.5-0.5 0.5h-23c-0.271 0-0.5-0.229-0.5-0.5v-27c0-0.271 0.229-0.5 0.5-0.5 0 0 15.499-0 15.5 0v7c0 0.552 0.448 1 1 1h7v19.5z\"></path>\n",
       "<path d=\"M23 26h-14c-0.552 0-1-0.448-1-1s0.448-1 1-1h14c0.552 0 1 0.448 1 1s-0.448 1-1 1z\"></path>\n",
       "<path d=\"M23 22h-14c-0.552 0-1-0.448-1-1s0.448-1 1-1h14c0.552 0 1 0.448 1 1s-0.448 1-1 1z\"></path>\n",
       "<path d=\"M23 18h-14c-0.552 0-1-0.448-1-1s0.448-1 1-1h14c0.552 0 1 0.448 1 1s-0.448 1-1 1z\"></path>\n",
       "</symbol>\n",
       "</defs>\n",
       "</svg>\n",
       "<style>/* CSS stylesheet for displaying xarray objects in jupyterlab.\n",
       " *\n",
       " */\n",
       "\n",
       ":root {\n",
       "  --xr-font-color0: var(--jp-content-font-color0, rgba(0, 0, 0, 1));\n",
       "  --xr-font-color2: var(--jp-content-font-color2, rgba(0, 0, 0, 0.54));\n",
       "  --xr-font-color3: var(--jp-content-font-color3, rgba(0, 0, 0, 0.38));\n",
       "  --xr-border-color: var(--jp-border-color2, #e0e0e0);\n",
       "  --xr-disabled-color: var(--jp-layout-color3, #bdbdbd);\n",
       "  --xr-background-color: var(--jp-layout-color0, white);\n",
       "  --xr-background-color-row-even: var(--jp-layout-color1, white);\n",
       "  --xr-background-color-row-odd: var(--jp-layout-color2, #eeeeee);\n",
       "}\n",
       "\n",
       "html[theme=dark],\n",
       "body.vscode-dark {\n",
       "  --xr-font-color0: rgba(255, 255, 255, 1);\n",
       "  --xr-font-color2: rgba(255, 255, 255, 0.54);\n",
       "  --xr-font-color3: rgba(255, 255, 255, 0.38);\n",
       "  --xr-border-color: #1F1F1F;\n",
       "  --xr-disabled-color: #515151;\n",
       "  --xr-background-color: #111111;\n",
       "  --xr-background-color-row-even: #111111;\n",
       "  --xr-background-color-row-odd: #313131;\n",
       "}\n",
       "\n",
       ".xr-wrap {\n",
       "  display: block;\n",
       "  min-width: 300px;\n",
       "  max-width: 700px;\n",
       "}\n",
       "\n",
       ".xr-text-repr-fallback {\n",
       "  /* fallback to plain text repr when CSS is not injected (untrusted notebook) */\n",
       "  display: none;\n",
       "}\n",
       "\n",
       ".xr-header {\n",
       "  padding-top: 6px;\n",
       "  padding-bottom: 6px;\n",
       "  margin-bottom: 4px;\n",
       "  border-bottom: solid 1px var(--xr-border-color);\n",
       "}\n",
       "\n",
       ".xr-header > div,\n",
       ".xr-header > ul {\n",
       "  display: inline;\n",
       "  margin-top: 0;\n",
       "  margin-bottom: 0;\n",
       "}\n",
       "\n",
       ".xr-obj-type,\n",
       ".xr-array-name {\n",
       "  margin-left: 2px;\n",
       "  margin-right: 10px;\n",
       "}\n",
       "\n",
       ".xr-obj-type {\n",
       "  color: var(--xr-font-color2);\n",
       "}\n",
       "\n",
       ".xr-sections {\n",
       "  padding-left: 0 !important;\n",
       "  display: grid;\n",
       "  grid-template-columns: 150px auto auto 1fr 20px 20px;\n",
       "}\n",
       "\n",
       ".xr-section-item {\n",
       "  display: contents;\n",
       "}\n",
       "\n",
       ".xr-section-item input {\n",
       "  display: none;\n",
       "}\n",
       "\n",
       ".xr-section-item input + label {\n",
       "  color: var(--xr-disabled-color);\n",
       "}\n",
       "\n",
       ".xr-section-item input:enabled + label {\n",
       "  cursor: pointer;\n",
       "  color: var(--xr-font-color2);\n",
       "}\n",
       "\n",
       ".xr-section-item input:enabled + label:hover {\n",
       "  color: var(--xr-font-color0);\n",
       "}\n",
       "\n",
       ".xr-section-summary {\n",
       "  grid-column: 1;\n",
       "  color: var(--xr-font-color2);\n",
       "  font-weight: 500;\n",
       "}\n",
       "\n",
       ".xr-section-summary > span {\n",
       "  display: inline-block;\n",
       "  padding-left: 0.5em;\n",
       "}\n",
       "\n",
       ".xr-section-summary-in:disabled + label {\n",
       "  color: var(--xr-font-color2);\n",
       "}\n",
       "\n",
       ".xr-section-summary-in + label:before {\n",
       "  display: inline-block;\n",
       "  content: '►';\n",
       "  font-size: 11px;\n",
       "  width: 15px;\n",
       "  text-align: center;\n",
       "}\n",
       "\n",
       ".xr-section-summary-in:disabled + label:before {\n",
       "  color: var(--xr-disabled-color);\n",
       "}\n",
       "\n",
       ".xr-section-summary-in:checked + label:before {\n",
       "  content: '▼';\n",
       "}\n",
       "\n",
       ".xr-section-summary-in:checked + label > span {\n",
       "  display: none;\n",
       "}\n",
       "\n",
       ".xr-section-summary,\n",
       ".xr-section-inline-details {\n",
       "  padding-top: 4px;\n",
       "  padding-bottom: 4px;\n",
       "}\n",
       "\n",
       ".xr-section-inline-details {\n",
       "  grid-column: 2 / -1;\n",
       "}\n",
       "\n",
       ".xr-section-details {\n",
       "  display: none;\n",
       "  grid-column: 1 / -1;\n",
       "  margin-bottom: 5px;\n",
       "}\n",
       "\n",
       ".xr-section-summary-in:checked ~ .xr-section-details {\n",
       "  display: contents;\n",
       "}\n",
       "\n",
       ".xr-array-wrap {\n",
       "  grid-column: 1 / -1;\n",
       "  display: grid;\n",
       "  grid-template-columns: 20px auto;\n",
       "}\n",
       "\n",
       ".xr-array-wrap > label {\n",
       "  grid-column: 1;\n",
       "  vertical-align: top;\n",
       "}\n",
       "\n",
       ".xr-preview {\n",
       "  color: var(--xr-font-color3);\n",
       "}\n",
       "\n",
       ".xr-array-preview,\n",
       ".xr-array-data {\n",
       "  padding: 0 5px !important;\n",
       "  grid-column: 2;\n",
       "}\n",
       "\n",
       ".xr-array-data,\n",
       ".xr-array-in:checked ~ .xr-array-preview {\n",
       "  display: none;\n",
       "}\n",
       "\n",
       ".xr-array-in:checked ~ .xr-array-data,\n",
       ".xr-array-preview {\n",
       "  display: inline-block;\n",
       "}\n",
       "\n",
       ".xr-dim-list {\n",
       "  display: inline-block !important;\n",
       "  list-style: none;\n",
       "  padding: 0 !important;\n",
       "  margin: 0;\n",
       "}\n",
       "\n",
       ".xr-dim-list li {\n",
       "  display: inline-block;\n",
       "  padding: 0;\n",
       "  margin: 0;\n",
       "}\n",
       "\n",
       ".xr-dim-list:before {\n",
       "  content: '(';\n",
       "}\n",
       "\n",
       ".xr-dim-list:after {\n",
       "  content: ')';\n",
       "}\n",
       "\n",
       ".xr-dim-list li:not(:last-child):after {\n",
       "  content: ',';\n",
       "  padding-right: 5px;\n",
       "}\n",
       "\n",
       ".xr-has-index {\n",
       "  font-weight: bold;\n",
       "}\n",
       "\n",
       ".xr-var-list,\n",
       ".xr-var-item {\n",
       "  display: contents;\n",
       "}\n",
       "\n",
       ".xr-var-item > div,\n",
       ".xr-var-item label,\n",
       ".xr-var-item > .xr-var-name span {\n",
       "  background-color: var(--xr-background-color-row-even);\n",
       "  margin-bottom: 0;\n",
       "}\n",
       "\n",
       ".xr-var-item > .xr-var-name:hover span {\n",
       "  padding-right: 5px;\n",
       "}\n",
       "\n",
       ".xr-var-list > li:nth-child(odd) > div,\n",
       ".xr-var-list > li:nth-child(odd) > label,\n",
       ".xr-var-list > li:nth-child(odd) > .xr-var-name span {\n",
       "  background-color: var(--xr-background-color-row-odd);\n",
       "}\n",
       "\n",
       ".xr-var-name {\n",
       "  grid-column: 1;\n",
       "}\n",
       "\n",
       ".xr-var-dims {\n",
       "  grid-column: 2;\n",
       "}\n",
       "\n",
       ".xr-var-dtype {\n",
       "  grid-column: 3;\n",
       "  text-align: right;\n",
       "  color: var(--xr-font-color2);\n",
       "}\n",
       "\n",
       ".xr-var-preview {\n",
       "  grid-column: 4;\n",
       "}\n",
       "\n",
       ".xr-var-name,\n",
       ".xr-var-dims,\n",
       ".xr-var-dtype,\n",
       ".xr-preview,\n",
       ".xr-attrs dt {\n",
       "  white-space: nowrap;\n",
       "  overflow: hidden;\n",
       "  text-overflow: ellipsis;\n",
       "  padding-right: 10px;\n",
       "}\n",
       "\n",
       ".xr-var-name:hover,\n",
       ".xr-var-dims:hover,\n",
       ".xr-var-dtype:hover,\n",
       ".xr-attrs dt:hover {\n",
       "  overflow: visible;\n",
       "  width: auto;\n",
       "  z-index: 1;\n",
       "}\n",
       "\n",
       ".xr-var-attrs,\n",
       ".xr-var-data {\n",
       "  display: none;\n",
       "  background-color: var(--xr-background-color) !important;\n",
       "  padding-bottom: 5px !important;\n",
       "}\n",
       "\n",
       ".xr-var-attrs-in:checked ~ .xr-var-attrs,\n",
       ".xr-var-data-in:checked ~ .xr-var-data {\n",
       "  display: block;\n",
       "}\n",
       "\n",
       ".xr-var-data > table {\n",
       "  float: right;\n",
       "}\n",
       "\n",
       ".xr-var-name span,\n",
       ".xr-var-data,\n",
       ".xr-attrs {\n",
       "  padding-left: 25px !important;\n",
       "}\n",
       "\n",
       ".xr-attrs,\n",
       ".xr-var-attrs,\n",
       ".xr-var-data {\n",
       "  grid-column: 1 / -1;\n",
       "}\n",
       "\n",
       "dl.xr-attrs {\n",
       "  padding: 0;\n",
       "  margin: 0;\n",
       "  display: grid;\n",
       "  grid-template-columns: 125px auto;\n",
       "}\n",
       "\n",
       ".xr-attrs dt,\n",
       ".xr-attrs dd {\n",
       "  padding: 0;\n",
       "  margin: 0;\n",
       "  float: left;\n",
       "  padding-right: 10px;\n",
       "  width: auto;\n",
       "}\n",
       "\n",
       ".xr-attrs dt {\n",
       "  font-weight: normal;\n",
       "  grid-column: 1;\n",
       "}\n",
       "\n",
       ".xr-attrs dt:hover span {\n",
       "  display: inline-block;\n",
       "  background: var(--xr-background-color);\n",
       "  padding-right: 10px;\n",
       "}\n",
       "\n",
       ".xr-attrs dd {\n",
       "  grid-column: 2;\n",
       "  white-space: pre-wrap;\n",
       "  word-break: break-all;\n",
       "}\n",
       "\n",
       ".xr-icon-database,\n",
       ".xr-icon-file-text2 {\n",
       "  display: inline-block;\n",
       "  vertical-align: middle;\n",
       "  width: 1em;\n",
       "  height: 1.5em !important;\n",
       "  stroke-width: 0;\n",
       "  stroke: currentColor;\n",
       "  fill: currentColor;\n",
       "}\n",
       "</style><pre class='xr-text-repr-fallback'>&lt;xarray.Dataset&gt;\n",
       "Dimensions:         (time: 171, y: 983, x: 1253)\n",
       "Coordinates:\n",
       "  * time            (time) datetime64[ns] 2021-07-14T12:00:00 ... 2021-12-31T...\n",
       "  * x               (x) float64 18.7 18.71 18.72 18.73 ... 28.88 28.89 28.9\n",
       "  * y               (y) float64 42.3 42.29 42.28 42.27 ... 34.32 34.31 34.3\n",
       "Data variables: (12/15)\n",
       "    max_t2m         (time, y, x) float32 ...\n",
       "    min_t2m         (time, y, x) float32 ...\n",
       "    avg_t2m         (time, y, x) float32 ...\n",
       "    max_tp          (time, y, x) float32 ...\n",
       "    min_tp          (time, y, x) float32 ...\n",
       "    avg_tp          (time, y, x) float32 ...\n",
       "    ...              ...\n",
       "    max_v10         (time, y, x) float32 ...\n",
       "    min_v10         (time, y, x) float32 ...\n",
       "    avg_v10         (time, y, x) float32 ...\n",
       "    max_wind_speed  (time, y, x) float32 ...\n",
       "    min_wind_speed  (time, y, x) float32 ...\n",
       "    avg_wind_speed  (time, y, x) float32 ...</pre><div class='xr-wrap' hidden><div class='xr-header'><div class='xr-obj-type'>xarray.Dataset</div></div><ul class='xr-sections'><li class='xr-section-item'><input id='section-c1846813-88b6-4a04-8b9f-1701f6cf5795' class='xr-section-summary-in' type='checkbox' disabled ><label for='section-c1846813-88b6-4a04-8b9f-1701f6cf5795' class='xr-section-summary'  title='Expand/collapse section'>Dimensions:</label><div class='xr-section-inline-details'><ul class='xr-dim-list'><li><span class='xr-has-index'>time</span>: 171</li><li><span class='xr-has-index'>y</span>: 983</li><li><span class='xr-has-index'>x</span>: 1253</li></ul></div><div class='xr-section-details'></div></li><li class='xr-section-item'><input id='section-97713cbc-800f-419b-b433-9c27b2c50b93' class='xr-section-summary-in' type='checkbox'  checked><label for='section-97713cbc-800f-419b-b433-9c27b2c50b93' class='xr-section-summary' >Coordinates: <span>(3)</span></label><div class='xr-section-inline-details'></div><div class='xr-section-details'><ul class='xr-var-list'><li class='xr-var-item'><div class='xr-var-name'><span class='xr-has-index'>time</span></div><div class='xr-var-dims'>(time)</div><div class='xr-var-dtype'>datetime64[ns]</div><div class='xr-var-preview xr-preview'>2021-07-14T12:00:00 ... 2021-12-...</div><input id='attrs-0e7c52b2-7dc2-43b7-83e6-694e0fd9a56b' class='xr-var-attrs-in' type='checkbox' disabled><label for='attrs-0e7c52b2-7dc2-43b7-83e6-694e0fd9a56b' title='Show/Hide attributes'><svg class='icon xr-icon-file-text2'><use xlink:href='#icon-file-text2'></use></svg></label><input id='data-b7569a21-2e68-4268-a455-e834ab510d97' class='xr-var-data-in' type='checkbox'><label for='data-b7569a21-2e68-4268-a455-e834ab510d97' title='Show/Hide data repr'><svg class='icon xr-icon-database'><use xlink:href='#icon-database'></use></svg></label><div class='xr-var-attrs'><dl class='xr-attrs'></dl></div><div class='xr-var-data'><pre>array([&#x27;2021-07-14T12:00:00.000000000&#x27;, &#x27;2021-07-15T12:00:00.000000000&#x27;,\n",
       "       &#x27;2021-07-16T12:00:00.000000000&#x27;, &#x27;2021-07-17T12:00:00.000000000&#x27;,\n",
       "       &#x27;2021-07-18T12:00:00.000000000&#x27;, &#x27;2021-07-19T12:00:00.000000000&#x27;,\n",
       "       &#x27;2021-07-20T12:00:00.000000000&#x27;, &#x27;2021-07-21T12:00:00.000000000&#x27;,\n",
       "       &#x27;2021-07-22T12:00:00.000000000&#x27;, &#x27;2021-07-23T12:00:00.000000000&#x27;,\n",
       "       &#x27;2021-07-24T12:00:00.000000000&#x27;, &#x27;2021-07-25T12:00:00.000000000&#x27;,\n",
       "       &#x27;2021-07-26T12:00:00.000000000&#x27;, &#x27;2021-07-27T12:00:00.000000000&#x27;,\n",
       "       &#x27;2021-07-28T12:00:00.000000000&#x27;, &#x27;2021-07-29T12:00:00.000000000&#x27;,\n",
       "       &#x27;2021-07-30T12:00:00.000000000&#x27;, &#x27;2021-07-31T12:00:00.000000000&#x27;,\n",
       "       &#x27;2021-08-01T12:00:00.000000000&#x27;, &#x27;2021-08-02T12:00:00.000000000&#x27;,\n",
       "       &#x27;2021-08-03T12:00:00.000000000&#x27;, &#x27;2021-08-04T12:00:00.000000000&#x27;,\n",
       "       &#x27;2021-08-05T12:00:00.000000000&#x27;, &#x27;2021-08-06T12:00:00.000000000&#x27;,\n",
       "       &#x27;2021-08-07T12:00:00.000000000&#x27;, &#x27;2021-08-08T12:00:00.000000000&#x27;,\n",
       "       &#x27;2021-08-09T12:00:00.000000000&#x27;, &#x27;2021-08-10T12:00:00.000000000&#x27;,\n",
       "       &#x27;2021-08-11T12:00:00.000000000&#x27;, &#x27;2021-08-12T12:00:00.000000000&#x27;,\n",
       "       &#x27;2021-08-13T12:00:00.000000000&#x27;, &#x27;2021-08-14T12:00:00.000000000&#x27;,\n",
       "       &#x27;2021-08-15T12:00:00.000000000&#x27;, &#x27;2021-08-16T12:00:00.000000000&#x27;,\n",
       "       &#x27;2021-08-17T12:00:00.000000000&#x27;, &#x27;2021-08-18T12:00:00.000000000&#x27;,\n",
       "       &#x27;2021-08-19T12:00:00.000000000&#x27;, &#x27;2021-08-20T12:00:00.000000000&#x27;,\n",
       "       &#x27;2021-08-21T12:00:00.000000000&#x27;, &#x27;2021-08-22T12:00:00.000000000&#x27;,\n",
       "       &#x27;2021-08-23T12:00:00.000000000&#x27;, &#x27;2021-08-24T12:00:00.000000000&#x27;,\n",
       "       &#x27;2021-08-25T12:00:00.000000000&#x27;, &#x27;2021-08-26T12:00:00.000000000&#x27;,\n",
       "       &#x27;2021-08-27T12:00:00.000000000&#x27;, &#x27;2021-08-28T12:00:00.000000000&#x27;,\n",
       "       &#x27;2021-08-29T12:00:00.000000000&#x27;, &#x27;2021-08-30T12:00:00.000000000&#x27;,\n",
       "       &#x27;2021-08-31T12:00:00.000000000&#x27;, &#x27;2021-09-01T12:00:00.000000000&#x27;,\n",
       "       &#x27;2021-09-02T12:00:00.000000000&#x27;, &#x27;2021-09-03T12:00:00.000000000&#x27;,\n",
       "       &#x27;2021-09-04T12:00:00.000000000&#x27;, &#x27;2021-09-05T12:00:00.000000000&#x27;,\n",
       "       &#x27;2021-09-06T12:00:00.000000000&#x27;, &#x27;2021-09-07T12:00:00.000000000&#x27;,\n",
       "       &#x27;2021-09-08T12:00:00.000000000&#x27;, &#x27;2021-09-09T12:00:00.000000000&#x27;,\n",
       "       &#x27;2021-09-10T12:00:00.000000000&#x27;, &#x27;2021-09-11T12:00:00.000000000&#x27;,\n",
       "       &#x27;2021-09-12T12:00:00.000000000&#x27;, &#x27;2021-09-13T12:00:00.000000000&#x27;,\n",
       "       &#x27;2021-09-14T12:00:00.000000000&#x27;, &#x27;2021-09-15T12:00:00.000000000&#x27;,\n",
       "       &#x27;2021-09-16T12:00:00.000000000&#x27;, &#x27;2021-09-17T12:00:00.000000000&#x27;,\n",
       "       &#x27;2021-09-18T12:00:00.000000000&#x27;, &#x27;2021-09-19T12:00:00.000000000&#x27;,\n",
       "       &#x27;2021-09-20T12:00:00.000000000&#x27;, &#x27;2021-09-21T12:00:00.000000000&#x27;,\n",
       "       &#x27;2021-09-22T12:00:00.000000000&#x27;, &#x27;2021-09-23T12:00:00.000000000&#x27;,\n",
       "       &#x27;2021-09-24T12:00:00.000000000&#x27;, &#x27;2021-09-25T12:00:00.000000000&#x27;,\n",
       "       &#x27;2021-09-26T12:00:00.000000000&#x27;, &#x27;2021-09-27T12:00:00.000000000&#x27;,\n",
       "       &#x27;2021-09-28T12:00:00.000000000&#x27;, &#x27;2021-09-29T12:00:00.000000000&#x27;,\n",
       "       &#x27;2021-09-30T12:00:00.000000000&#x27;, &#x27;2021-10-01T12:00:00.000000000&#x27;,\n",
       "       &#x27;2021-10-02T12:00:00.000000000&#x27;, &#x27;2021-10-03T12:00:00.000000000&#x27;,\n",
       "       &#x27;2021-10-04T12:00:00.000000000&#x27;, &#x27;2021-10-05T12:00:00.000000000&#x27;,\n",
       "       &#x27;2021-10-06T12:00:00.000000000&#x27;, &#x27;2021-10-07T12:00:00.000000000&#x27;,\n",
       "       &#x27;2021-10-08T12:00:00.000000000&#x27;, &#x27;2021-10-09T12:00:00.000000000&#x27;,\n",
       "       &#x27;2021-10-10T12:00:00.000000000&#x27;, &#x27;2021-10-11T12:00:00.000000000&#x27;,\n",
       "       &#x27;2021-10-12T12:00:00.000000000&#x27;, &#x27;2021-10-13T12:00:00.000000000&#x27;,\n",
       "       &#x27;2021-10-14T12:00:00.000000000&#x27;, &#x27;2021-10-15T12:00:00.000000000&#x27;,\n",
       "       &#x27;2021-10-16T12:00:00.000000000&#x27;, &#x27;2021-10-17T12:00:00.000000000&#x27;,\n",
       "       &#x27;2021-10-18T12:00:00.000000000&#x27;, &#x27;2021-10-19T12:00:00.000000000&#x27;,\n",
       "       &#x27;2021-10-20T12:00:00.000000000&#x27;, &#x27;2021-10-21T12:00:00.000000000&#x27;,\n",
       "       &#x27;2021-10-22T12:00:00.000000000&#x27;, &#x27;2021-10-23T12:00:00.000000000&#x27;,\n",
       "       &#x27;2021-10-24T12:00:00.000000000&#x27;, &#x27;2021-10-25T12:00:00.000000000&#x27;,\n",
       "       &#x27;2021-10-26T12:00:00.000000000&#x27;, &#x27;2021-10-27T12:00:00.000000000&#x27;,\n",
       "       &#x27;2021-10-28T12:00:00.000000000&#x27;, &#x27;2021-10-29T12:00:00.000000000&#x27;,\n",
       "       &#x27;2021-10-30T12:00:00.000000000&#x27;, &#x27;2021-10-31T12:00:00.000000000&#x27;,\n",
       "       &#x27;2021-11-01T12:00:00.000000000&#x27;, &#x27;2021-11-02T12:00:00.000000000&#x27;,\n",
       "       &#x27;2021-11-03T12:00:00.000000000&#x27;, &#x27;2021-11-04T12:00:00.000000000&#x27;,\n",
       "       &#x27;2021-11-05T12:00:00.000000000&#x27;, &#x27;2021-11-06T12:00:00.000000000&#x27;,\n",
       "       &#x27;2021-11-07T12:00:00.000000000&#x27;, &#x27;2021-11-08T12:00:00.000000000&#x27;,\n",
       "       &#x27;2021-11-09T12:00:00.000000000&#x27;, &#x27;2021-11-10T12:00:00.000000000&#x27;,\n",
       "       &#x27;2021-11-11T12:00:00.000000000&#x27;, &#x27;2021-11-12T12:00:00.000000000&#x27;,\n",
       "       &#x27;2021-11-13T12:00:00.000000000&#x27;, &#x27;2021-11-14T12:00:00.000000000&#x27;,\n",
       "       &#x27;2021-11-15T12:00:00.000000000&#x27;, &#x27;2021-11-16T12:00:00.000000000&#x27;,\n",
       "       &#x27;2021-11-17T12:00:00.000000000&#x27;, &#x27;2021-11-18T12:00:00.000000000&#x27;,\n",
       "       &#x27;2021-11-19T12:00:00.000000000&#x27;, &#x27;2021-11-20T12:00:00.000000000&#x27;,\n",
       "       &#x27;2021-11-21T12:00:00.000000000&#x27;, &#x27;2021-11-22T12:00:00.000000000&#x27;,\n",
       "       &#x27;2021-11-23T12:00:00.000000000&#x27;, &#x27;2021-11-24T12:00:00.000000000&#x27;,\n",
       "       &#x27;2021-11-25T12:00:00.000000000&#x27;, &#x27;2021-11-26T12:00:00.000000000&#x27;,\n",
       "       &#x27;2021-11-27T12:00:00.000000000&#x27;, &#x27;2021-11-28T12:00:00.000000000&#x27;,\n",
       "       &#x27;2021-11-29T12:00:00.000000000&#x27;, &#x27;2021-11-30T12:00:00.000000000&#x27;,\n",
       "       &#x27;2021-12-01T12:00:00.000000000&#x27;, &#x27;2021-12-02T12:00:00.000000000&#x27;,\n",
       "       &#x27;2021-12-03T12:00:00.000000000&#x27;, &#x27;2021-12-04T12:00:00.000000000&#x27;,\n",
       "       &#x27;2021-12-05T12:00:00.000000000&#x27;, &#x27;2021-12-06T12:00:00.000000000&#x27;,\n",
       "       &#x27;2021-12-07T12:00:00.000000000&#x27;, &#x27;2021-12-08T12:00:00.000000000&#x27;,\n",
       "       &#x27;2021-12-09T12:00:00.000000000&#x27;, &#x27;2021-12-10T12:00:00.000000000&#x27;,\n",
       "       &#x27;2021-12-11T12:00:00.000000000&#x27;, &#x27;2021-12-12T12:00:00.000000000&#x27;,\n",
       "       &#x27;2021-12-13T12:00:00.000000000&#x27;, &#x27;2021-12-14T12:00:00.000000000&#x27;,\n",
       "       &#x27;2021-12-15T12:00:00.000000000&#x27;, &#x27;2021-12-16T12:00:00.000000000&#x27;,\n",
       "       &#x27;2021-12-17T12:00:00.000000000&#x27;, &#x27;2021-12-18T12:00:00.000000000&#x27;,\n",
       "       &#x27;2021-12-19T12:00:00.000000000&#x27;, &#x27;2021-12-20T12:00:00.000000000&#x27;,\n",
       "       &#x27;2021-12-21T12:00:00.000000000&#x27;, &#x27;2021-12-22T12:00:00.000000000&#x27;,\n",
       "       &#x27;2021-12-23T12:00:00.000000000&#x27;, &#x27;2021-12-24T12:00:00.000000000&#x27;,\n",
       "       &#x27;2021-12-25T12:00:00.000000000&#x27;, &#x27;2021-12-26T12:00:00.000000000&#x27;,\n",
       "       &#x27;2021-12-27T12:00:00.000000000&#x27;, &#x27;2021-12-28T12:00:00.000000000&#x27;,\n",
       "       &#x27;2021-12-29T12:00:00.000000000&#x27;, &#x27;2021-12-30T12:00:00.000000000&#x27;,\n",
       "       &#x27;2021-12-31T12:00:00.000000000&#x27;], dtype=&#x27;datetime64[ns]&#x27;)</pre></div></li><li class='xr-var-item'><div class='xr-var-name'><span class='xr-has-index'>x</span></div><div class='xr-var-dims'>(x)</div><div class='xr-var-dtype'>float64</div><div class='xr-var-preview xr-preview'>18.7 18.71 18.72 ... 28.89 28.9</div><input id='attrs-7dec95e7-ac38-4a27-b69b-978af11cccc7' class='xr-var-attrs-in' type='checkbox' ><label for='attrs-7dec95e7-ac38-4a27-b69b-978af11cccc7' title='Show/Hide attributes'><svg class='icon xr-icon-file-text2'><use xlink:href='#icon-file-text2'></use></svg></label><input id='data-3d27589b-cdf2-4320-aefe-c33bd8055d86' class='xr-var-data-in' type='checkbox'><label for='data-3d27589b-cdf2-4320-aefe-c33bd8055d86' title='Show/Hide data repr'><svg class='icon xr-icon-database'><use xlink:href='#icon-database'></use></svg></label><div class='xr-var-attrs'><dl class='xr-attrs'><dt><span>units :</span></dt><dd>degrees_east</dd><dt><span>standard_name :</span></dt><dd>longitude</dd><dt><span>long_name :</span></dt><dd>longitude</dd></dl></div><div class='xr-var-data'><pre>array([18.702116, 18.710261, 18.718406, ..., 28.88298 , 28.891124, 28.899269])</pre></div></li><li class='xr-var-item'><div class='xr-var-name'><span class='xr-has-index'>y</span></div><div class='xr-var-dims'>(y)</div><div class='xr-var-dtype'>float64</div><div class='xr-var-preview xr-preview'>42.3 42.29 42.28 ... 34.31 34.3</div><input id='attrs-25023902-108e-4435-968f-c603d13cf855' class='xr-var-attrs-in' type='checkbox' ><label for='attrs-25023902-108e-4435-968f-c603d13cf855' title='Show/Hide attributes'><svg class='icon xr-icon-file-text2'><use xlink:href='#icon-file-text2'></use></svg></label><input id='data-ff2543cb-c0b7-4d1f-b1f6-df7658ce379e' class='xr-var-data-in' type='checkbox'><label for='data-ff2543cb-c0b7-4d1f-b1f6-df7658ce379e' title='Show/Hide data repr'><svg class='icon xr-icon-database'><use xlink:href='#icon-database'></use></svg></label><div class='xr-var-attrs'><dl class='xr-attrs'><dt><span>units :</span></dt><dd>degrees_north</dd><dt><span>standard_name :</span></dt><dd>latitude</dd><dt><span>long_name :</span></dt><dd>latitude</dd></dl></div><div class='xr-var-data'><pre>array([42.299195, 42.29105 , 42.282905, ..., 34.317398, 34.309253, 34.301109])</pre></div></li></ul></div></li><li class='xr-section-item'><input id='section-2f9fdd30-d51b-415f-9f68-489ee2517455' class='xr-section-summary-in' type='checkbox'  ><label for='section-2f9fdd30-d51b-415f-9f68-489ee2517455' class='xr-section-summary' >Data variables: <span>(15)</span></label><div class='xr-section-inline-details'></div><div class='xr-section-details'><ul class='xr-var-list'><li class='xr-var-item'><div class='xr-var-name'><span>max_t2m</span></div><div class='xr-var-dims'>(time, y, x)</div><div class='xr-var-dtype'>float32</div><div class='xr-var-preview xr-preview'>...</div><input id='attrs-d4ba964b-c5c8-4c46-b1c4-8bfbc39ae152' class='xr-var-attrs-in' type='checkbox' disabled><label for='attrs-d4ba964b-c5c8-4c46-b1c4-8bfbc39ae152' title='Show/Hide attributes'><svg class='icon xr-icon-file-text2'><use xlink:href='#icon-file-text2'></use></svg></label><input id='data-b4eecd63-d5c9-40ec-a4e1-a697909abbb1' class='xr-var-data-in' type='checkbox'><label for='data-b4eecd63-d5c9-40ec-a4e1-a697909abbb1' title='Show/Hide data repr'><svg class='icon xr-icon-database'><use xlink:href='#icon-database'></use></svg></label><div class='xr-var-attrs'><dl class='xr-attrs'></dl></div><div class='xr-var-data'><pre>[210620529 values with dtype=float32]</pre></div></li><li class='xr-var-item'><div class='xr-var-name'><span>min_t2m</span></div><div class='xr-var-dims'>(time, y, x)</div><div class='xr-var-dtype'>float32</div><div class='xr-var-preview xr-preview'>...</div><input id='attrs-f1783339-f8c3-49c7-8c48-dc0d38048437' class='xr-var-attrs-in' type='checkbox' disabled><label for='attrs-f1783339-f8c3-49c7-8c48-dc0d38048437' title='Show/Hide attributes'><svg class='icon xr-icon-file-text2'><use xlink:href='#icon-file-text2'></use></svg></label><input id='data-f0efaba9-9c17-4050-a5aa-9a4ea6f54b36' class='xr-var-data-in' type='checkbox'><label for='data-f0efaba9-9c17-4050-a5aa-9a4ea6f54b36' title='Show/Hide data repr'><svg class='icon xr-icon-database'><use xlink:href='#icon-database'></use></svg></label><div class='xr-var-attrs'><dl class='xr-attrs'></dl></div><div class='xr-var-data'><pre>[210620529 values with dtype=float32]</pre></div></li><li class='xr-var-item'><div class='xr-var-name'><span>avg_t2m</span></div><div class='xr-var-dims'>(time, y, x)</div><div class='xr-var-dtype'>float32</div><div class='xr-var-preview xr-preview'>...</div><input id='attrs-79002e1a-fe20-491b-9144-0f8a98b0a42f' class='xr-var-attrs-in' type='checkbox' disabled><label for='attrs-79002e1a-fe20-491b-9144-0f8a98b0a42f' title='Show/Hide attributes'><svg class='icon xr-icon-file-text2'><use xlink:href='#icon-file-text2'></use></svg></label><input id='data-26ea1474-1d62-47fe-8987-a29da83fe1f9' class='xr-var-data-in' type='checkbox'><label for='data-26ea1474-1d62-47fe-8987-a29da83fe1f9' title='Show/Hide data repr'><svg class='icon xr-icon-database'><use xlink:href='#icon-database'></use></svg></label><div class='xr-var-attrs'><dl class='xr-attrs'></dl></div><div class='xr-var-data'><pre>[210620529 values with dtype=float32]</pre></div></li><li class='xr-var-item'><div class='xr-var-name'><span>max_tp</span></div><div class='xr-var-dims'>(time, y, x)</div><div class='xr-var-dtype'>float32</div><div class='xr-var-preview xr-preview'>...</div><input id='attrs-1bde8f64-c9bf-4a73-ab33-1b3a7c5ff794' class='xr-var-attrs-in' type='checkbox' disabled><label for='attrs-1bde8f64-c9bf-4a73-ab33-1b3a7c5ff794' title='Show/Hide attributes'><svg class='icon xr-icon-file-text2'><use xlink:href='#icon-file-text2'></use></svg></label><input id='data-0e3672a6-1ff5-4689-bcd6-f2ba1febfe0a' class='xr-var-data-in' type='checkbox'><label for='data-0e3672a6-1ff5-4689-bcd6-f2ba1febfe0a' title='Show/Hide data repr'><svg class='icon xr-icon-database'><use xlink:href='#icon-database'></use></svg></label><div class='xr-var-attrs'><dl class='xr-attrs'></dl></div><div class='xr-var-data'><pre>[210620529 values with dtype=float32]</pre></div></li><li class='xr-var-item'><div class='xr-var-name'><span>min_tp</span></div><div class='xr-var-dims'>(time, y, x)</div><div class='xr-var-dtype'>float32</div><div class='xr-var-preview xr-preview'>...</div><input id='attrs-f4985147-c245-44e5-8347-233236b40dcb' class='xr-var-attrs-in' type='checkbox' disabled><label for='attrs-f4985147-c245-44e5-8347-233236b40dcb' title='Show/Hide attributes'><svg class='icon xr-icon-file-text2'><use xlink:href='#icon-file-text2'></use></svg></label><input id='data-1f3f96e5-562e-4c40-9f4a-5a0e8cac1bfc' class='xr-var-data-in' type='checkbox'><label for='data-1f3f96e5-562e-4c40-9f4a-5a0e8cac1bfc' title='Show/Hide data repr'><svg class='icon xr-icon-database'><use xlink:href='#icon-database'></use></svg></label><div class='xr-var-attrs'><dl class='xr-attrs'></dl></div><div class='xr-var-data'><pre>[210620529 values with dtype=float32]</pre></div></li><li class='xr-var-item'><div class='xr-var-name'><span>avg_tp</span></div><div class='xr-var-dims'>(time, y, x)</div><div class='xr-var-dtype'>float32</div><div class='xr-var-preview xr-preview'>...</div><input id='attrs-d9e64b48-dd7e-4cb1-94bb-c178a7432968' class='xr-var-attrs-in' type='checkbox' disabled><label for='attrs-d9e64b48-dd7e-4cb1-94bb-c178a7432968' title='Show/Hide attributes'><svg class='icon xr-icon-file-text2'><use xlink:href='#icon-file-text2'></use></svg></label><input id='data-d4381629-36e2-4b39-b12c-f673a1ce49e0' class='xr-var-data-in' type='checkbox'><label for='data-d4381629-36e2-4b39-b12c-f673a1ce49e0' title='Show/Hide data repr'><svg class='icon xr-icon-database'><use xlink:href='#icon-database'></use></svg></label><div class='xr-var-attrs'><dl class='xr-attrs'></dl></div><div class='xr-var-data'><pre>[210620529 values with dtype=float32]</pre></div></li><li class='xr-var-item'><div class='xr-var-name'><span>max_u10</span></div><div class='xr-var-dims'>(time, y, x)</div><div class='xr-var-dtype'>float32</div><div class='xr-var-preview xr-preview'>...</div><input id='attrs-f582055b-12a2-4d84-83fa-0114f9d93bd9' class='xr-var-attrs-in' type='checkbox' disabled><label for='attrs-f582055b-12a2-4d84-83fa-0114f9d93bd9' title='Show/Hide attributes'><svg class='icon xr-icon-file-text2'><use xlink:href='#icon-file-text2'></use></svg></label><input id='data-ff4abc13-00f2-4c2c-8f51-519af33bea35' class='xr-var-data-in' type='checkbox'><label for='data-ff4abc13-00f2-4c2c-8f51-519af33bea35' title='Show/Hide data repr'><svg class='icon xr-icon-database'><use xlink:href='#icon-database'></use></svg></label><div class='xr-var-attrs'><dl class='xr-attrs'></dl></div><div class='xr-var-data'><pre>[210620529 values with dtype=float32]</pre></div></li><li class='xr-var-item'><div class='xr-var-name'><span>min_u10</span></div><div class='xr-var-dims'>(time, y, x)</div><div class='xr-var-dtype'>float32</div><div class='xr-var-preview xr-preview'>...</div><input id='attrs-34441c4e-4d43-42ad-afe7-16fab9352086' class='xr-var-attrs-in' type='checkbox' disabled><label for='attrs-34441c4e-4d43-42ad-afe7-16fab9352086' title='Show/Hide attributes'><svg class='icon xr-icon-file-text2'><use xlink:href='#icon-file-text2'></use></svg></label><input id='data-1b34a802-af7f-429a-aa67-e867b0518181' class='xr-var-data-in' type='checkbox'><label for='data-1b34a802-af7f-429a-aa67-e867b0518181' title='Show/Hide data repr'><svg class='icon xr-icon-database'><use xlink:href='#icon-database'></use></svg></label><div class='xr-var-attrs'><dl class='xr-attrs'></dl></div><div class='xr-var-data'><pre>[210620529 values with dtype=float32]</pre></div></li><li class='xr-var-item'><div class='xr-var-name'><span>avg_u10</span></div><div class='xr-var-dims'>(time, y, x)</div><div class='xr-var-dtype'>float32</div><div class='xr-var-preview xr-preview'>...</div><input id='attrs-e3cd7c33-46f4-4822-92d3-b3f5200c7cd0' class='xr-var-attrs-in' type='checkbox' disabled><label for='attrs-e3cd7c33-46f4-4822-92d3-b3f5200c7cd0' title='Show/Hide attributes'><svg class='icon xr-icon-file-text2'><use xlink:href='#icon-file-text2'></use></svg></label><input id='data-8ab7a919-f06b-484f-b853-98b0f7025691' class='xr-var-data-in' type='checkbox'><label for='data-8ab7a919-f06b-484f-b853-98b0f7025691' title='Show/Hide data repr'><svg class='icon xr-icon-database'><use xlink:href='#icon-database'></use></svg></label><div class='xr-var-attrs'><dl class='xr-attrs'></dl></div><div class='xr-var-data'><pre>[210620529 values with dtype=float32]</pre></div></li><li class='xr-var-item'><div class='xr-var-name'><span>max_v10</span></div><div class='xr-var-dims'>(time, y, x)</div><div class='xr-var-dtype'>float32</div><div class='xr-var-preview xr-preview'>...</div><input id='attrs-77942623-b1e4-4303-9289-6d771107910e' class='xr-var-attrs-in' type='checkbox' disabled><label for='attrs-77942623-b1e4-4303-9289-6d771107910e' title='Show/Hide attributes'><svg class='icon xr-icon-file-text2'><use xlink:href='#icon-file-text2'></use></svg></label><input id='data-182a38ee-f4f5-4343-8881-01aae1011a0d' class='xr-var-data-in' type='checkbox'><label for='data-182a38ee-f4f5-4343-8881-01aae1011a0d' title='Show/Hide data repr'><svg class='icon xr-icon-database'><use xlink:href='#icon-database'></use></svg></label><div class='xr-var-attrs'><dl class='xr-attrs'></dl></div><div class='xr-var-data'><pre>[210620529 values with dtype=float32]</pre></div></li><li class='xr-var-item'><div class='xr-var-name'><span>min_v10</span></div><div class='xr-var-dims'>(time, y, x)</div><div class='xr-var-dtype'>float32</div><div class='xr-var-preview xr-preview'>...</div><input id='attrs-c6002dcc-4bbe-449f-a91d-bd5e5d76da56' class='xr-var-attrs-in' type='checkbox' disabled><label for='attrs-c6002dcc-4bbe-449f-a91d-bd5e5d76da56' title='Show/Hide attributes'><svg class='icon xr-icon-file-text2'><use xlink:href='#icon-file-text2'></use></svg></label><input id='data-83ffb9de-c267-481e-b753-c7a0ce0aabe8' class='xr-var-data-in' type='checkbox'><label for='data-83ffb9de-c267-481e-b753-c7a0ce0aabe8' title='Show/Hide data repr'><svg class='icon xr-icon-database'><use xlink:href='#icon-database'></use></svg></label><div class='xr-var-attrs'><dl class='xr-attrs'></dl></div><div class='xr-var-data'><pre>[210620529 values with dtype=float32]</pre></div></li><li class='xr-var-item'><div class='xr-var-name'><span>avg_v10</span></div><div class='xr-var-dims'>(time, y, x)</div><div class='xr-var-dtype'>float32</div><div class='xr-var-preview xr-preview'>...</div><input id='attrs-50bf744d-fe6d-42f5-a926-0722c5a87b1d' class='xr-var-attrs-in' type='checkbox' disabled><label for='attrs-50bf744d-fe6d-42f5-a926-0722c5a87b1d' title='Show/Hide attributes'><svg class='icon xr-icon-file-text2'><use xlink:href='#icon-file-text2'></use></svg></label><input id='data-daec2c1c-9dc8-42d3-9eda-c63629802e29' class='xr-var-data-in' type='checkbox'><label for='data-daec2c1c-9dc8-42d3-9eda-c63629802e29' title='Show/Hide data repr'><svg class='icon xr-icon-database'><use xlink:href='#icon-database'></use></svg></label><div class='xr-var-attrs'><dl class='xr-attrs'></dl></div><div class='xr-var-data'><pre>[210620529 values with dtype=float32]</pre></div></li><li class='xr-var-item'><div class='xr-var-name'><span>max_wind_speed</span></div><div class='xr-var-dims'>(time, y, x)</div><div class='xr-var-dtype'>float32</div><div class='xr-var-preview xr-preview'>...</div><input id='attrs-7c03c92d-762b-46fb-b106-40ba525ba213' class='xr-var-attrs-in' type='checkbox' disabled><label for='attrs-7c03c92d-762b-46fb-b106-40ba525ba213' title='Show/Hide attributes'><svg class='icon xr-icon-file-text2'><use xlink:href='#icon-file-text2'></use></svg></label><input id='data-0671bc5e-4704-4f85-b7e6-018da915781c' class='xr-var-data-in' type='checkbox'><label for='data-0671bc5e-4704-4f85-b7e6-018da915781c' title='Show/Hide data repr'><svg class='icon xr-icon-database'><use xlink:href='#icon-database'></use></svg></label><div class='xr-var-attrs'><dl class='xr-attrs'></dl></div><div class='xr-var-data'><pre>[210620529 values with dtype=float32]</pre></div></li><li class='xr-var-item'><div class='xr-var-name'><span>min_wind_speed</span></div><div class='xr-var-dims'>(time, y, x)</div><div class='xr-var-dtype'>float32</div><div class='xr-var-preview xr-preview'>...</div><input id='attrs-c1046047-4b1b-4158-83b5-14615d00ddc4' class='xr-var-attrs-in' type='checkbox' disabled><label for='attrs-c1046047-4b1b-4158-83b5-14615d00ddc4' title='Show/Hide attributes'><svg class='icon xr-icon-file-text2'><use xlink:href='#icon-file-text2'></use></svg></label><input id='data-619dd910-b9be-4d63-89fc-856658ed489a' class='xr-var-data-in' type='checkbox'><label for='data-619dd910-b9be-4d63-89fc-856658ed489a' title='Show/Hide data repr'><svg class='icon xr-icon-database'><use xlink:href='#icon-database'></use></svg></label><div class='xr-var-attrs'><dl class='xr-attrs'></dl></div><div class='xr-var-data'><pre>[210620529 values with dtype=float32]</pre></div></li><li class='xr-var-item'><div class='xr-var-name'><span>avg_wind_speed</span></div><div class='xr-var-dims'>(time, y, x)</div><div class='xr-var-dtype'>float32</div><div class='xr-var-preview xr-preview'>...</div><input id='attrs-9b694305-e6fa-4525-9a99-222482122c5a' class='xr-var-attrs-in' type='checkbox' disabled><label for='attrs-9b694305-e6fa-4525-9a99-222482122c5a' title='Show/Hide attributes'><svg class='icon xr-icon-file-text2'><use xlink:href='#icon-file-text2'></use></svg></label><input id='data-434c0c58-1f13-4b90-96c0-883151edc1b4' class='xr-var-data-in' type='checkbox'><label for='data-434c0c58-1f13-4b90-96c0-883151edc1b4' title='Show/Hide data repr'><svg class='icon xr-icon-database'><use xlink:href='#icon-database'></use></svg></label><div class='xr-var-attrs'><dl class='xr-attrs'></dl></div><div class='xr-var-data'><pre>[210620529 values with dtype=float32]</pre></div></li></ul></div></li><li class='xr-section-item'><input id='section-bdacd462-27c7-49ad-a149-08287178c278' class='xr-section-summary-in' type='checkbox' disabled ><label for='section-bdacd462-27c7-49ad-a149-08287178c278' class='xr-section-summary'  title='Expand/collapse section'>Attributes: <span>(0)</span></label><div class='xr-section-inline-details'></div><div class='xr-section-details'><dl class='xr-attrs'></dl></div></li></ul></div></div>"
      ],
      "text/plain": [
       "<xarray.Dataset>\n",
       "Dimensions:         (time: 171, y: 983, x: 1253)\n",
       "Coordinates:\n",
       "  * time            (time) datetime64[ns] 2021-07-14T12:00:00 ... 2021-12-31T...\n",
       "  * x               (x) float64 18.7 18.71 18.72 18.73 ... 28.88 28.89 28.9\n",
       "  * y               (y) float64 42.3 42.29 42.28 42.27 ... 34.32 34.31 34.3\n",
       "Data variables: (12/15)\n",
       "    max_t2m         (time, y, x) float32 ...\n",
       "    min_t2m         (time, y, x) float32 ...\n",
       "    avg_t2m         (time, y, x) float32 ...\n",
       "    max_tp          (time, y, x) float32 ...\n",
       "    min_tp          (time, y, x) float32 ...\n",
       "    avg_tp          (time, y, x) float32 ...\n",
       "    ...              ...\n",
       "    max_v10         (time, y, x) float32 ...\n",
       "    min_v10         (time, y, x) float32 ...\n",
       "    avg_v10         (time, y, x) float32 ...\n",
       "    max_wind_speed  (time, y, x) float32 ...\n",
       "    min_wind_speed  (time, y, x) float32 ...\n",
       "    avg_wind_speed  (time, y, x) float32 ..."
      ]
     },
     "execution_count": 3,
     "metadata": {},
     "output_type": "execute_result"
    }
   ],
   "source": [
    "final_cube"
   ]
  },
  {
   "cell_type": "code",
   "execution_count": 4,
   "id": "bored-production",
   "metadata": {},
   "outputs": [],
   "source": [
    "def copy_files(path, label):\n",
    "    if label == 'positives':\n",
    "        destination_folder = Path.home() / 'hdd1/diogenis/observatory/positives'\n",
    "    else:\n",
    "        destination_folder = Path.home() / 'hdd1/diogenis/observatory/negatives'\n",
    "        \n",
    "    #For Every file\n",
    "    for file_name in os.listdir(path):\n",
    "        #Get the date from the file name\n",
    "        file_date = file_name.split('_')[0][:4] + '/' + file_name.split('_')[0][4:6] + '/' + file_name.split('_')[0][6:]\n",
    "        \n",
    "        #Convert from string to datetime\n",
    "        file_date = datetime.strptime(file_date, '%Y/%m/%d')\n",
    "        \n",
    "        #If the year is 2021\n",
    "        if file_date.year == 2021:\n",
    "            \n",
    "            #Check for the month and the day(We start from 23 couse we want to have to 10 past days)\n",
    "            if (file_date.month ==7 and file_date.day >=23) or (file_date.month >=8 and file_date.month <= 12):\n",
    "                \n",
    "                #We don't care about the mode.npy files\n",
    "                if file_name.split('_')[3] == 'static.npy' or file_name.split('_')[3] == 'dynamic.npy' or file_name.split('_')[4] == 'vec.npy':\n",
    "                    source = path / file_name\n",
    "                    destination = destination_folder / file_name\n",
    "                    if os.path.isfile(source):\n",
    "                        shutil.copy(source, destination)"
   ]
  },
  {
   "cell_type": "code",
   "execution_count": 5,
   "id": "narrative-interview",
   "metadata": {},
   "outputs": [],
   "source": [
    "path = Path.home() / 'hdd1/iprapas/uc3/datasets_v4/npy/temporal/positives'\n",
    "copy_files(path, 'positives')"
   ]
  },
  {
   "cell_type": "code",
   "execution_count": 6,
   "id": "absent-maria",
   "metadata": {},
   "outputs": [],
   "source": [
    "path = Path.home() / 'hdd1/iprapas/uc3/datasets_v5/npy/temporal/negatives_clc'\n",
    "copy_files(path, 'negatives')"
   ]
  },
  {
   "cell_type": "code",
   "execution_count": 7,
   "id": "resident-final",
   "metadata": {},
   "outputs": [],
   "source": [
    "values_t2m_era5 = []\n",
    "values_wind_speed_era5 = []\n",
    "values_tp_era5 = []\n",
    "values_t2m_positives_era5 = []\n",
    "values_wind_speed_positives_era5 = []\n",
    "values_tp_positives_era5 = []\n",
    "values_t2m_negatives_era5 = []\n",
    "values_wind_speed_negatives_era5 = []\n",
    "values_tp_negatives_era5 = []\n",
    "    \n",
    "values_t2m_dwd = []\n",
    "values_wind_speed_dwd = []\n",
    "values_tp_dwd = []\n",
    "values_t2m_positives_dwd = []\n",
    "values_wind_speed_positives_dwd = []\n",
    "values_tp_positives_dwd = []\n",
    "values_t2m_negatives_dwd = []\n",
    "values_wind_speed_negatives_dwd = []\n",
    "values_tp_negatives_dwd = []"
   ]
  },
  {
   "cell_type": "code",
   "execution_count": 8,
   "id": "veterinary-genesis",
   "metadata": {},
   "outputs": [],
   "source": [
    "def change_npy_files(path):\n",
    "    #For every file\n",
    "    for file_name in os.listdir(path):\n",
    "        \n",
    "        #Only if the file is dynamic.npy\n",
    "        if file_name.split('_')[3] == 'dynamic.npy':\n",
    "            \n",
    "            #Get the date\n",
    "            file_date = file_name.split('_')[0][:4] + '/' + file_name.split('_')[0][4:6] + '/' + file_name.split('_')[0][6:]\n",
    "            file_date = datetime.strptime(file_date, '%Y/%m/%d')\n",
    "            file_date = np.datetime64(file_date)\n",
    "            \n",
    "            #Add 12 hours so it matches the dimension in our datacube\n",
    "            file_date = file_date + np.timedelta64(12, 'h')\n",
    "            \n",
    "            #Get the lat and lon\n",
    "            x_index = file_name.split('_')[1]\n",
    "            x_index = int(x_index)\n",
    "            y_index = file_name.split('_')[2]\n",
    "            y_index = int(y_index)\n",
    "\n",
    "            #Open the file\n",
    "            test = np.load(path / file_name)\n",
    "            values_t2m_era5.append(test[9][10])\n",
    "            values_wind_speed_era5.append(test[9][30])\n",
    "            values_tp_era5.append(test[9][12])\n",
    "            if path.parts[-1] == 'positives':\n",
    "                values_t2m_positives_era5.append(test[9][10])\n",
    "                values_wind_speed_positives_era5.append(test[9][30])\n",
    "                values_tp_positives_era5.append(test[9][12])\n",
    "            else:\n",
    "                values_t2m_negatives_era5.append(test[9][10])\n",
    "                values_wind_speed_negatives_era5.append(test[9][30])\n",
    "                values_tp_negatives_era5.append(test[9][12])\n",
    "            \n",
    "            #For every day in the file\n",
    "            for i in range(10):\n",
    "                \n",
    "                #Get the appropriate date\n",
    "                tmp = file_date - np.timedelta64(9-i,'D')\n",
    "                \n",
    "                #Get the values from the datacube\n",
    "                dwd_max_u10 = final_cube.sel(time = tmp).isel(x = x_index, y = y_index).max_u10.values\n",
    "                dwd_max_v10 = final_cube.sel(time = tmp).isel(x = x_index, y = y_index).max_v10.values\n",
    "                dwd_max_t2m = final_cube.sel(time = tmp).isel(x = x_index, y = y_index).max_t2m.values\n",
    "                dwd_max_tp = final_cube.sel(time = tmp).isel(x = x_index, y = y_index).max_tp.values\n",
    "            \n",
    "                dwd_min_u10 = final_cube.sel(time = tmp).isel(x = x_index, y = y_index).min_u10.values\n",
    "                dwd_min_v10 = final_cube.sel(time = tmp).isel(x = x_index, y = y_index).min_v10.values\n",
    "                dwd_min_t2m = final_cube.sel(time = tmp).isel(x = x_index, y = y_index).min_t2m.values\n",
    "                dwd_min_tp = final_cube.sel(time = tmp).isel(x = x_index, y = y_index).min_tp.values\n",
    "            \n",
    "                dwd_avg_u10 = final_cube.sel(time = tmp).isel(x = x_index, y = y_index).avg_u10.values\n",
    "                dwd_avg_v10 = final_cube.sel(time = tmp).isel(x = x_index, y = y_index).avg_v10.values\n",
    "                dwd_avg_t2m = final_cube.sel(time = tmp).isel(x = x_index, y = y_index).avg_t2m.values\n",
    "                dwd_avg_tp = final_cube.sel(time = tmp).isel(x = x_index, y = y_index).avg_tp.values\n",
    "            \n",
    "                dwd_max_wind_speed = final_cube.sel(time = tmp).isel(x = x_index, y = y_index).max_wind_speed.values\n",
    "                \n",
    "                if i == 9:\n",
    "                    values_t2m_dwd.append(dwd_max_t2m)\n",
    "                    values_wind_speed_dwd.append(dwd_max_wind_speed)\n",
    "                    values_tp_dwd.append(dwd_max_tp)\n",
    "                    if path.parts[-1] == 'positives':\n",
    "                        values_t2m_positives_dwd.append(dwd_max_t2m)\n",
    "                        values_wind_speed_positives_dwd.append(dwd_max_wind_speed)\n",
    "                        values_tp_positives_dwd.append(dwd_max_tp)\n",
    "                    else:\n",
    "                        values_t2m_negatives_dwd.append(dwd_max_t2m)\n",
    "                        values_wind_speed_negatives_dwd.append(dwd_max_wind_speed)\n",
    "                        values_tp_negatives_dwd.append(dwd_max_tp)\n",
    "            \n",
    "                #Change the values in the file\n",
    "                test[i][7] = dwd_max_u10\n",
    "                test[i][8] = dwd_max_v10\n",
    "                test[i][10] = dwd_max_t2m\n",
    "                test[i][12] = dwd_max_tp\n",
    "                test[i][13] = dwd_min_u10\n",
    "                test[i][14] = dwd_min_v10\n",
    "                test[i][16] = dwd_min_t2m\n",
    "                test[i][18] = dwd_min_tp\n",
    "                test[i][19] = dwd_avg_u10\n",
    "                test[i][20] = dwd_avg_v10\n",
    "                test[i][22] = dwd_avg_t2m\n",
    "                test[i][24] = dwd_avg_tp\n",
    "                test[i][30] = dwd_max_wind_speed\n",
    "            \n",
    "            #Save the new values to the file\n",
    "            np.save(path / file_name, test)"
   ]
  },
  {
   "cell_type": "code",
   "execution_count": 9,
   "id": "sustained-marble",
   "metadata": {},
   "outputs": [],
   "source": [
    "path = Path.home() / 'hdd1/diogenis/observatory/positives'\n",
    "change_npy_files(path)"
   ]
  },
  {
   "cell_type": "code",
   "execution_count": 10,
   "id": "affiliated-rotation",
   "metadata": {},
   "outputs": [],
   "source": [
    "path = Path.home() / 'hdd1/diogenis/observatory/negatives'\n",
    "change_npy_files(path)"
   ]
  },
  {
   "cell_type": "code",
   "execution_count": 11,
   "id": "numerous-april",
   "metadata": {},
   "outputs": [],
   "source": [
    "values_t2m_era5 = np.array(values_t2m_era5)\n",
    "values_wind_speed_era5 = np.array(values_wind_speed_era5)\n",
    "values_tp_era5 = np.array(values_tp_era5)\n",
    "values_t2m_positives_era5 = np.array(values_t2m_positives_era5)\n",
    "values_wind_speed_positives_era5 = np.array(values_wind_speed_positives_era5)\n",
    "values_tp_positives_era5 = np.array(values_tp_positives_era5)\n",
    "values_t2m_negatives_era5 = np.array(values_t2m_negatives_era5)\n",
    "values_wind_speed_negatives_era5 = np.array(values_wind_speed_negatives_era5)\n",
    "values_tp_negatives_era5 = np.array(values_tp_negatives_era5)\n",
    "\n",
    "values_t2m_dwd = np.array(values_t2m_dwd)\n",
    "values_wind_speed_dwd = np.array(values_wind_speed_dwd)\n",
    "values_tp_dwd = np.array(values_tp_dwd)\n",
    "values_t2m_positives_dwd = np.array(values_t2m_positives_dwd)\n",
    "values_wind_speed_positives_dwd = np.array(values_wind_speed_positives_dwd)\n",
    "values_tp_positives_dwd = np.array(values_tp_positives_dwd)\n",
    "values_t2m_negatives_dwd = np.array(values_t2m_negatives_dwd)\n",
    "values_wind_speed_negatives_dwd = np.array(values_wind_speed_negatives_dwd)\n",
    "values_tp_negatives_dwd = np.array(values_tp_negatives_dwd)"
   ]
  },
  {
   "cell_type": "code",
   "execution_count": 79,
   "id": "rational-logan",
   "metadata": {},
   "outputs": [],
   "source": [
    "t2m_difference = values_t2m_era5 - values_t2m_dwd\n",
    "wind_speed_difference = values_wind_speed_era5 - values_wind_speed_dwd\n",
    "tp_difference = values_tp_era5 - values_tp_dwd\n",
    "t2m_positives_difference = values_t2m_positives_era5 - values_t2m_positives_dwd\n",
    "tp_positives_difference = values_tp_positives_era5 - values_tp_positives_dwd\n",
    "wind_speed_positives_difference = values_wind_speed_positives_era5 - values_wind_speed_positives_dwd\n",
    "t2m_negatives_difference = values_t2m_negatives_era5 - values_t2m_negatives_dwd\n",
    "tp_negatives_difference = values_tp_negatives_era5 - values_tp_negatives_dwd\n",
    "wind_speed_negatives_difference = values_wind_speed_negatives_era5 - values_wind_speed_negatives_dwd"
   ]
  },
  {
   "cell_type": "code",
   "execution_count": 13,
   "id": "angry-envelope",
   "metadata": {},
   "outputs": [],
   "source": [
    "def compare_stats(era5, dwd, stat):\n",
    "    era5_max = era5.max()\n",
    "    dwd_max = dwd.max()\n",
    "    print('The era5 max ' + stat + ' is: ' + str(era5_max))\n",
    "    print('The dwd max ' + stat + ' is: ' + str(dwd_max))\n",
    "    \n",
    "    era5_min = era5.min()\n",
    "    dwd_min = dwd.min()\n",
    "    print('The era5 min ' + stat + ' is: ' + str(era5_min))\n",
    "    print('The dwd min ' + stat + ' is: ' + str(dwd_min))\n",
    "    \n",
    "    era5_avg = era5.mean()\n",
    "    dwd_avg = dwd.mean()\n",
    "    print('The era5 avg ' + stat + ' is: ' + str(era5_avg))\n",
    "    print('The dwd avg ' + stat + ' is: ' + str(dwd_avg))\n",
    "    \n",
    "    era5_std = era5.std()\n",
    "    dwd_std = dwd.std()\n",
    "    print('The era5 std ' + stat + ' is: ' + str(era5_std))\n",
    "    print('The dwd std ' + stat + ' is: ' + str(dwd_std))"
   ]
  },
  {
   "cell_type": "code",
   "execution_count": 14,
   "id": "established-motion",
   "metadata": {},
   "outputs": [
    {
     "name": "stdout",
     "output_type": "stream",
     "text": [
      "The era5 max t2m is: 314.914\n",
      "The dwd max t2m is: 318.45392\n",
      "The era5 min t2m is: 290.84912\n",
      "The dwd min t2m is: 291.18515\n",
      "The era5 avg t2m is: 308.0186\n",
      "The dwd avg t2m is: 308.69537\n",
      "The era5 std t2m is: 4.2580404\n",
      "The dwd std t2m is: 4.7807617\n"
     ]
    }
   ],
   "source": [
    "compare_stats(values_t2m_era5, values_t2m_dwd, 't2m')"
   ]
  },
  {
   "cell_type": "code",
   "execution_count": 15,
   "id": "assisted-photographer",
   "metadata": {},
   "outputs": [
    {
     "name": "stdout",
     "output_type": "stream",
     "text": [
      "The era5 max wind speed is: 12.721206\n",
      "The dwd max wind speed is: 12.012716\n",
      "The era5 min wind speed is: 0.74049556\n",
      "The dwd min wind speed is: 1.0771751\n",
      "The era5 avg wind speed is: 4.2870603\n",
      "The dwd avg wind speed is: 5.0903873\n",
      "The era5 std wind speed is: 1.7971144\n",
      "The dwd std wind speed is: 1.8244368\n"
     ]
    }
   ],
   "source": [
    "compare_stats(values_wind_speed_era5, values_wind_speed_dwd, 'wind speed')"
   ]
  },
  {
   "cell_type": "code",
   "execution_count": 16,
   "id": "protecting-sister",
   "metadata": {},
   "outputs": [
    {
     "name": "stdout",
     "output_type": "stream",
     "text": [
      "The era5 max tp is: 0.04634493\n",
      "The dwd max tp is: 0.009263672\n",
      "The era5 min tp is: 0.0\n",
      "The dwd min tp is: 0.0\n",
      "The era5 avg tp is: 0.00032540646\n",
      "The dwd avg tp is: 6.59184e-05\n",
      "The era5 std tp is: 0.0021044337\n",
      "The dwd std tp is: 0.00042820384\n"
     ]
    }
   ],
   "source": [
    "compare_stats(values_tp_era5, values_tp_dwd, 'tp')"
   ]
  },
  {
   "cell_type": "code",
   "execution_count": 17,
   "id": "crazy-bikini",
   "metadata": {},
   "outputs": [
    {
     "name": "stdout",
     "output_type": "stream",
     "text": [
      "The era5 max t2m positives is: 314.914\n",
      "The dwd max t2m positives is: 318.45392\n",
      "The era5 min t2m positives is: 295.7981\n",
      "The dwd min t2m positives is: 298.22696\n",
      "The era5 avg t2m positives is: 309.01337\n",
      "The dwd avg t2m positives is: 309.5028\n",
      "The era5 std t2m positives is: 3.3640316\n",
      "The dwd std t2m positives is: 4.437571\n"
     ]
    }
   ],
   "source": [
    "compare_stats(values_t2m_positives_era5, values_t2m_positives_dwd, 't2m positives')"
   ]
  },
  {
   "cell_type": "code",
   "execution_count": 18,
   "id": "future-jonathan",
   "metadata": {},
   "outputs": [
    {
     "name": "stdout",
     "output_type": "stream",
     "text": [
      "The era5 max wind speed positives is: 12.721206\n",
      "The dwd max wind speed positives is: 12.012716\n",
      "The era5 min wind speed positives is: 1.2105005\n",
      "The dwd min wind speed positives is: 1.3302057\n",
      "The era5 avg wind speed positives is: 4.4549084\n",
      "The dwd avg wind speed positives is: 5.2170796\n",
      "The era5 std wind speed positives is: 1.7265954\n",
      "The dwd std wind speed positives is: 1.8622733\n"
     ]
    }
   ],
   "source": [
    "compare_stats(values_wind_speed_positives_era5, values_wind_speed_positives_dwd, 'wind speed positives')"
   ]
  },
  {
   "cell_type": "code",
   "execution_count": 19,
   "id": "interior-holocaust",
   "metadata": {},
   "outputs": [
    {
     "name": "stdout",
     "output_type": "stream",
     "text": [
      "The era5 max tp positives is: 0.003579609\n",
      "The dwd max tp positives is: 0.00038671875\n",
      "The era5 min tp positives is: 0.0\n",
      "The dwd min tp positives is: 0.0\n",
      "The era5 avg tp positives is: 3.3374057e-05\n",
      "The dwd avg tp positives is: 6.593295e-06\n",
      "The era5 std tp positives is: 0.00012769116\n",
      "The dwd std tp positives is: 3.5206365e-05\n"
     ]
    }
   ],
   "source": [
    "compare_stats(values_tp_positives_era5, values_tp_positives_dwd, 'tp positives')"
   ]
  },
  {
   "cell_type": "code",
   "execution_count": 20,
   "id": "structured-friday",
   "metadata": {},
   "outputs": [
    {
     "name": "stdout",
     "output_type": "stream",
     "text": [
      "The era5 max t2m negatives is: 312.05972\n",
      "The dwd max t2m negatives is: 311.7826\n",
      "The era5 min t2m negatives is: 290.84912\n",
      "The dwd min t2m negatives is: 291.18515\n",
      "The era5 avg t2m negatives is: 301.53278\n",
      "The dwd avg t2m negatives is: 303.43088\n",
      "The era5 std t2m negatives is: 3.7472901\n",
      "The dwd std t2m negatives is: 3.393645\n"
     ]
    }
   ],
   "source": [
    "compare_stats(values_t2m_negatives_era5, values_t2m_negatives_dwd, 't2m negatives')"
   ]
  },
  {
   "cell_type": "code",
   "execution_count": 21,
   "id": "yellow-leeds",
   "metadata": {},
   "outputs": [
    {
     "name": "stdout",
     "output_type": "stream",
     "text": [
      "The era5 max wind speed negatives is: 11.126452\n",
      "The dwd max wind speed negatives is: 8.127135\n",
      "The era5 min wind speed negatives is: 0.74049556\n",
      "The dwd min wind speed negatives is: 1.0771751\n",
      "The era5 avg wind speed negatives is: 3.1926913\n",
      "The dwd avg wind speed negatives is: 4.2643547\n",
      "The era5 std wind speed negatives is: 1.8623742\n",
      "The dwd std wind speed negatives is: 1.2775352\n"
     ]
    }
   ],
   "source": [
    "compare_stats(values_wind_speed_negatives_era5, values_wind_speed_negatives_dwd, 'wind speed negatives')"
   ]
  },
  {
   "cell_type": "code",
   "execution_count": 22,
   "id": "floral-saudi",
   "metadata": {},
   "outputs": [
    {
     "name": "stdout",
     "output_type": "stream",
     "text": [
      "The era5 max tp negatives is: 0.04634493\n",
      "The dwd max tp negatives is: 0.009263672\n",
      "The era5 min tp negatives is: 0.0\n",
      "The dwd min tp negatives is: 0.0\n",
      "The era5 avg tp negatives is: 0.002229458\n",
      "The dwd avg tp negatives is: 0.0004527181\n",
      "The era5 std tp negatives is: 0.0053866142\n",
      "The dwd std tp negatives is: 0.0010946295\n"
     ]
    }
   ],
   "source": [
    "compare_stats(values_tp_negatives_era5, values_tp_negatives_dwd, 'tp negatives')"
   ]
  },
  {
   "cell_type": "code",
   "execution_count": 23,
   "id": "aggressive-model",
   "metadata": {},
   "outputs": [],
   "source": [
    "def calculate_difference_stats(arr, stat):\n",
    "    print(\"The max of \" + stat + ' difference is ' + str(arr.max()))\n",
    "    print(\"The min of \" + stat + ' difference is ' + str(arr.min()))\n",
    "    print(\"The avg of \" + stat + ' difference is ' + str(arr.mean()))\n",
    "    print(\"The std of \" + stat + ' difference is ' + str(arr.std()))"
   ]
  },
  {
   "cell_type": "code",
   "execution_count": 80,
   "id": "bottom-springer",
   "metadata": {},
   "outputs": [
    {
     "name": "stdout",
     "output_type": "stream",
     "text": [
      "The max of t2m difference is 9.273834\n",
      "The min of t2m difference is -11.416992\n",
      "The avg of t2m difference is -0.6767905\n",
      "The std of t2m difference is 3.0778086\n"
     ]
    }
   ],
   "source": [
    "calculate_difference_stats(t2m_difference, 't2m')"
   ]
  },
  {
   "cell_type": "code",
   "execution_count": 81,
   "id": "compressed-candy",
   "metadata": {},
   "outputs": [
    {
     "name": "stdout",
     "output_type": "stream",
     "text": [
      "The max of wind speed difference is 8.950196\n",
      "The min of wind speed difference is -6.346837\n",
      "The avg of wind speed difference is -0.80332685\n",
      "The std of wind speed difference is 2.1469867\n"
     ]
    }
   ],
   "source": [
    "calculate_difference_stats(wind_speed_difference, 'wind speed')"
   ]
  },
  {
   "cell_type": "code",
   "execution_count": 82,
   "id": "engaged-niagara",
   "metadata": {},
   "outputs": [
    {
     "name": "stdout",
     "output_type": "stream",
     "text": [
      "The max of tp difference is 0.0457961\n",
      "The min of tp difference is -0.007974931\n",
      "The avg of tp difference is 0.0002594881\n",
      "The std of tp difference is 0.002003512\n"
     ]
    }
   ],
   "source": [
    "calculate_difference_stats(tp_difference, 'tp')"
   ]
  },
  {
   "cell_type": "code",
   "execution_count": 83,
   "id": "attractive-brown",
   "metadata": {},
   "outputs": [
    {
     "name": "stdout",
     "output_type": "stream",
     "text": [
      "The max of t2m positives difference is 9.273834\n",
      "The min of t2m positives difference is -11.416992\n",
      "The avg of t2m positives difference is -0.4894767\n",
      "The std of t2m positives difference is 3.0494573\n"
     ]
    }
   ],
   "source": [
    "calculate_difference_stats(t2m_positives_difference, 't2m positives')"
   ]
  },
  {
   "cell_type": "code",
   "execution_count": 84,
   "id": "chicken-thriller",
   "metadata": {},
   "outputs": [
    {
     "name": "stdout",
     "output_type": "stream",
     "text": [
      "The max of tp positives difference is 0.0035659373\n",
      "The min of tp positives difference is -0.00031578177\n",
      "The avg of tp positives difference is 2.678076e-05\n",
      "The std of tp positives difference is 0.00013126389\n"
     ]
    }
   ],
   "source": [
    "calculate_difference_stats(tp_positives_difference, 'tp positives')"
   ]
  },
  {
   "cell_type": "code",
   "execution_count": 85,
   "id": "annual-crystal",
   "metadata": {},
   "outputs": [
    {
     "name": "stdout",
     "output_type": "stream",
     "text": [
      "The max of wind speed positives difference is 6.543242\n",
      "The min of wind speed positives difference is -6.346837\n",
      "The avg of wind speed positives difference is -0.762171\n",
      "The std of wind speed positives difference is 2.1332207\n"
     ]
    }
   ],
   "source": [
    "calculate_difference_stats(wind_speed_positives_difference, 'wind speed positives')"
   ]
  },
  {
   "cell_type": "code",
   "execution_count": 86,
   "id": "foreign-title",
   "metadata": {},
   "outputs": [
    {
     "name": "stdout",
     "output_type": "stream",
     "text": [
      "The max of t2m negatives difference is 7.822693\n",
      "The min of t2m negatives difference is -10.69516\n",
      "The avg of t2m negatives difference is -1.898077\n",
      "The std of t2m negatives difference is 2.980811\n"
     ]
    }
   ],
   "source": [
    "calculate_difference_stats(t2m_negatives_difference, 't2m negatives')"
   ]
  },
  {
   "cell_type": "code",
   "execution_count": 87,
   "id": "executive-organizer",
   "metadata": {},
   "outputs": [
    {
     "name": "stdout",
     "output_type": "stream",
     "text": [
      "The max of tp negatives difference is 0.0457961\n",
      "The min of tp negatives difference is -0.007974931\n",
      "The avg of tp negatives difference is 0.0017767397\n",
      "The std of tp negatives difference is 0.0052362457\n"
     ]
    }
   ],
   "source": [
    "calculate_difference_stats(tp_negatives_difference, 'tp negatives')"
   ]
  },
  {
   "cell_type": "code",
   "execution_count": 88,
   "id": "correct-charlotte",
   "metadata": {},
   "outputs": [
    {
     "name": "stdout",
     "output_type": "stream",
     "text": [
      "The max of wind speed negatives difference is 8.950196\n",
      "The min of wind speed negatives difference is -5.5335555\n",
      "The avg of wind speed negatives difference is -1.0716631\n",
      "The std of wind speed negatives difference is 2.2160044\n"
     ]
    }
   ],
   "source": [
    "calculate_difference_stats(wind_speed_negatives_difference, 'wind speed negatives')"
   ]
  },
  {
   "cell_type": "code",
   "execution_count": 89,
   "id": "explicit-combining",
   "metadata": {},
   "outputs": [
    {
     "data": {
      "image/png": "[encoded data removed]",
      "text/plain": [
       "<Figure size 864x576 with 1 Axes>"
      ]
     },
     "metadata": {
      "needs_background": "light"
     },
     "output_type": "display_data"
    }
   ],
   "source": [
    "plt.figure(figsize=(12,8))\n",
    "plt.title(\"Max t2m\")\n",
    "plt.hist([values_t2m_era5, values_t2m_dwd], label=['era5', 't2m'])\n",
    "plt.legend(loc='upper right')\n",
    "plt.show()"
   ]
  },
  {
   "cell_type": "code",
   "execution_count": 90,
   "id": "occupied-float",
   "metadata": {},
   "outputs": [
    {
     "data": {
      "image/png": "[encoded data removed]",
      "text/plain": [
       "<Figure size 864x576 with 1 Axes>"
      ]
     },
     "metadata": {
      "needs_background": "light"
     },
     "output_type": "display_data"
    }
   ],
   "source": [
    "plt.figure(figsize=(12,8))\n",
    "plt.title(\"Max wind speed\")\n",
    "plt.hist([values_wind_speed_era5, values_wind_speed_dwd], label=['era5', 't2m'])\n",
    "plt.legend(loc='upper right')\n",
    "plt.show()"
   ]
  },
  {
   "cell_type": "code",
   "execution_count": 91,
   "id": "compatible-drama",
   "metadata": {},
   "outputs": [
    {
     "data": {
      "image/png": "[encoded data removed]",
      "text/plain": [
       "<Figure size 864x576 with 1 Axes>"
      ]
     },
     "metadata": {
      "needs_background": "light"
     },
     "output_type": "display_data"
    }
   ],
   "source": [
    "plt.figure(figsize=(12,8))\n",
    "plt.title(\"Max tp\")\n",
    "plt.hist([values_tp_era5, values_tp_dwd], label=['era5', 't2m'])\n",
    "plt.legend(loc='upper right')\n",
    "plt.show()"
   ]
  },
  {
   "cell_type": "code",
   "execution_count": 92,
   "id": "intelligent-cathedral",
   "metadata": {},
   "outputs": [
    {
     "data": {
      "image/png": "[encoded data removed]",
      "text/plain": [
       "<Figure size 864x576 with 1 Axes>"
      ]
     },
     "metadata": {
      "needs_background": "light"
     },
     "output_type": "display_data"
    }
   ],
   "source": [
    "plt.figure(figsize=(12,8))\n",
    "plt.title(\"Max t2m in positives\")\n",
    "plt.hist([values_t2m_positives_era5, values_t2m_positives_dwd], label=['era5', 't2m'])\n",
    "plt.legend(loc='upper right')\n",
    "plt.show()"
   ]
  },
  {
   "cell_type": "code",
   "execution_count": 93,
   "id": "caroline-adoption",
   "metadata": {},
   "outputs": [
    {
     "data": {
      "image/png": "[encoded data removed]",
      "text/plain": [
       "<Figure size 864x576 with 1 Axes>"
      ]
     },
     "metadata": {
      "needs_background": "light"
     },
     "output_type": "display_data"
    }
   ],
   "source": [
    "plt.figure(figsize=(12,8))\n",
    "plt.title(\"Max wind speed in positives\")\n",
    "plt.hist([values_wind_speed_positives_era5, values_wind_speed_positives_dwd], label=['era5', 't2m'])\n",
    "plt.legend(loc='upper right')\n",
    "plt.show()"
   ]
  },
  {
   "cell_type": "code",
   "execution_count": 94,
   "id": "corporate-receipt",
   "metadata": {},
   "outputs": [
    {
     "data": {
      "image/png": "[encoded data removed]",
      "text/plain": [
       "<Figure size 864x576 with 1 Axes>"
      ]
     },
     "metadata": {
      "needs_background": "light"
     },
     "output_type": "display_data"
    }
   ],
   "source": [
    "plt.figure(figsize=(12,8))\n",
    "plt.title(\"Max tp in positives\")\n",
    "plt.hist([values_tp_positives_era5, values_tp_positives_dwd], label=['era5', 't2m'])\n",
    "plt.legend(loc='upper right')\n",
    "plt.show()"
   ]
  },
  {
   "cell_type": "code",
   "execution_count": 95,
   "id": "guided-trauma",
   "metadata": {},
   "outputs": [
    {
     "data": {
      "image/png": "[encoded data removed]",
      "text/plain": [
       "<Figure size 864x576 with 1 Axes>"
      ]
     },
     "metadata": {
      "needs_background": "light"
     },
     "output_type": "display_data"
    }
   ],
   "source": [
    "plt.figure(figsize=(12,8))\n",
    "plt.title(\"Max t2m in negatives\")\n",
    "plt.hist([values_t2m_negatives_era5, values_t2m_negatives_dwd], label=['era5', 't2m'])\n",
    "plt.legend(loc='upper right')\n",
    "plt.show()"
   ]
  },
  {
   "cell_type": "code",
   "execution_count": 96,
   "id": "spectacular-tobago",
   "metadata": {},
   "outputs": [
    {
     "data": {
      "image/png": "[encoded data removed]",
      "text/plain": [
       "<Figure size 864x576 with 1 Axes>"
      ]
     },
     "metadata": {
      "needs_background": "light"
     },
     "output_type": "display_data"
    }
   ],
   "source": [
    "plt.figure(figsize=(12,8))\n",
    "plt.title(\"Max wind speed in negatives\")\n",
    "plt.hist([values_wind_speed_negatives_era5, values_wind_speed_negatives_dwd], label=['era5', 't2m'])\n",
    "plt.legend(loc='upper right')\n",
    "plt.show()"
   ]
  },
  {
   "cell_type": "code",
   "execution_count": 97,
   "id": "caring-fisher",
   "metadata": {},
   "outputs": [
    {
     "data": {
      "image/png": "[encoded data removed]",
      "text/plain": [
       "<Figure size 864x576 with 1 Axes>"
      ]
     },
     "metadata": {
      "needs_background": "light"
     },
     "output_type": "display_data"
    }
   ],
   "source": [
    "plt.figure(figsize=(12,8))\n",
    "plt.title(\"Max tp in negatives\")\n",
    "plt.hist([values_tp_negatives_era5, values_tp_negatives_dwd], label=['era5', 't2m'])\n",
    "plt.legend(loc='upper right')\n",
    "plt.show()"
   ]
  },
  {
   "cell_type": "code",
   "execution_count": 98,
   "id": "civilian-distributor",
   "metadata": {},
   "outputs": [
    {
     "data": {
      "image/png": "[encoded data removed]",
      "text/plain": [
       "<Figure size 864x576 with 1 Axes>"
      ]
     },
     "metadata": {
      "needs_background": "light"
     },
     "output_type": "display_data"
    }
   ],
   "source": [
    "plt.figure(figsize=(12,8))\n",
    "plt.title(\"t2m differences\")\n",
    "plt.hist(t2m_difference)\n",
    "plt.show()"
   ]
  },
  {
   "cell_type": "code",
   "execution_count": 99,
   "id": "facial-anatomy",
   "metadata": {},
   "outputs": [
    {
     "data": {
      "image/png": "[encoded data removed]",
      "text/plain": [
       "<Figure size 864x576 with 1 Axes>"
      ]
     },
     "metadata": {
      "needs_background": "light"
     },
     "output_type": "display_data"
    }
   ],
   "source": [
    "plt.figure(figsize=(12,8))\n",
    "plt.title(\"wind speed differences\")\n",
    "plt.hist(wind_speed_difference)\n",
    "plt.show()"
   ]
  },
  {
   "cell_type": "code",
   "execution_count": 100,
   "id": "impressive-batch",
   "metadata": {},
   "outputs": [
    {
     "data": {
      "image/png": "[encoded data removed]",
      "text/plain": [
       "<Figure size 864x576 with 1 Axes>"
      ]
     },
     "metadata": {
      "needs_background": "light"
     },
     "output_type": "display_data"
    }
   ],
   "source": [
    "plt.figure(figsize=(12,8))\n",
    "plt.title(\"tp differences\")\n",
    "plt.hist(tp_difference)\n",
    "plt.show()"
   ]
  },
  {
   "cell_type": "code",
   "execution_count": 101,
   "id": "aggregate-trailer",
   "metadata": {},
   "outputs": [
    {
     "data": {
      "image/png": "[encoded data removed]",
      "text/plain": [
       "<Figure size 864x576 with 1 Axes>"
      ]
     },
     "metadata": {
      "needs_background": "light"
     },
     "output_type": "display_data"
    }
   ],
   "source": [
    "plt.figure(figsize=(12,8))\n",
    "plt.title(\"t2m positives differences\")\n",
    "plt.hist(t2m_positives_difference)\n",
    "plt.show()"
   ]
  },
  {
   "cell_type": "code",
   "execution_count": 102,
   "id": "seven-roberts",
   "metadata": {},
   "outputs": [
    {
     "data": {
      "image/png": "[encoded data removed]",
      "text/plain": [
       "<Figure size 864x576 with 1 Axes>"
      ]
     },
     "metadata": {
      "needs_background": "light"
     },
     "output_type": "display_data"
    }
   ],
   "source": [
    "plt.figure(figsize=(12,8))\n",
    "plt.title(\"wind speed positives differences\")\n",
    "plt.hist(wind_speed_positives_difference)\n",
    "plt.show()"
   ]
  },
  {
   "cell_type": "code",
   "execution_count": 103,
   "id": "selected-ceiling",
   "metadata": {},
   "outputs": [
    {
     "data": {
      "image/png": "[encoded data removed]",
      "text/plain": [
       "<Figure size 864x576 with 1 Axes>"
      ]
     },
     "metadata": {
      "needs_background": "light"
     },
     "output_type": "display_data"
    }
   ],
   "source": [
    "plt.figure(figsize=(12,8))\n",
    "plt.title(\"tp positives differences\")\n",
    "plt.hist(tp_positives_difference)\n",
    "plt.show()"
   ]
  },
  {
   "cell_type": "code",
   "execution_count": 104,
   "id": "durable-astrology",
   "metadata": {},
   "outputs": [
    {
     "data": {
      "image/png": "[encoded data removed]",
      "text/plain": [
       "<Figure size 864x576 with 1 Axes>"
      ]
     },
     "metadata": {
      "needs_background": "light"
     },
     "output_type": "display_data"
    }
   ],
   "source": [
    "plt.figure(figsize=(12,8))\n",
    "plt.title(\"t2m negatives differences\")\n",
    "plt.hist(t2m_negatives_difference)\n",
    "plt.show()"
   ]
  },
  {
   "cell_type": "code",
   "execution_count": 105,
   "id": "listed-weapon",
   "metadata": {},
   "outputs": [
    {
     "data": {
      "image/png": "[encoded data removed]",
      "text/plain": [
       "<Figure size 864x576 with 1 Axes>"
      ]
     },
     "metadata": {
      "needs_background": "light"
     },
     "output_type": "display_data"
    }
   ],
   "source": [
    "plt.figure(figsize=(12,8))\n",
    "plt.title(\"wind speed negatives differences\")\n",
    "plt.hist(wind_speed_negatives_difference)\n",
    "plt.show()"
   ]
  },
  {
   "cell_type": "code",
   "execution_count": 106,
   "id": "rental-chorus",
   "metadata": {},
   "outputs": [
    {
     "data": {
      "image/png": "[encoded data removed]",
      "text/plain": [
       "<Figure size 864x576 with 1 Axes>"
      ]
     },
     "metadata": {
      "needs_background": "light"
     },
     "output_type": "display_data"
    }
   ],
   "source": [
    "plt.figure(figsize=(12,8))\n",
    "plt.title(\"tp negatives differences\")\n",
    "plt.hist(tp_negatives_difference)\n",
    "plt.show()"
   ]
  },
  {
   "cell_type": "code",
   "execution_count": null,
   "id": "dietary-mattress",
   "metadata": {},
   "outputs": [],
   "source": []
  }
 ],
 "metadata": {
  "kernelspec": {
   "display_name": "meteo",
   "language": "python",
   "name": "meteo"
  },
  "language_info": {
   "codemirror_mode": {
    "name": "ipython",
    "version": 3
   },
   "file_extension": ".py",
   "mimetype": "text/x-python",
   "name": "python",
   "nbconvert_exporter": "python",
   "pygments_lexer": "ipython3",
   "version": "3.7.3"
  }
 },
 "nbformat": 4,
 "nbformat_minor": 5
}
