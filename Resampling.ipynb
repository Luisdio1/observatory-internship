{
 "cells": [
  {
   "cell_type": "markdown",
   "id": "necessary-canadian",
   "metadata": {},
   "source": [
    "## Sampling from the new Datacube"
   ]
  },
  {
   "cell_type": "code",
   "execution_count": 1,
   "id": "surrounded-nursery",
   "metadata": {},
   "outputs": [
    {
     "name": "stdout",
     "output_type": "stream",
     "text": [
      "Warning: ecCodes 2.21.0 or higher is recommended. You are running version 2.16.0\n"
     ]
    }
   ],
   "source": [
    "# Import required libraries\n",
    "import xarray as xr\n",
    "from pathlib import Path\n",
    "import numpy as np\n",
    "import datetime\n",
    "import pandas as pd\n",
    "import cfgrib\n",
    "import os\n",
    "import shutil\n",
    "from datetime import datetime\n",
    "import matplotlib.pyplot as plt"
   ]
  },
  {
   "cell_type": "code",
   "execution_count": 2,
   "id": "statutory-spectrum",
   "metadata": {},
   "outputs": [],
   "source": [
    "final_cube = xr.open_dataset(Path.home() / 'hdd1/diogenis/observatory/dwd_meteo.nc')"
   ]
  },
  {
   "cell_type": "code",
   "execution_count": 3,
   "id": "contained-serial",
   "metadata": {},
   "outputs": [
    {
     "data": {
      "text/html": [
       "<div><svg style=\"position: absolute; width: 0; height: 0; overflow: hidden\">\n",
       "<defs>\n",
       "<symbol id=\"icon-database\" viewBox=\"0 0 32 32\">\n",
       "<path d=\"M16 0c-8.837 0-16 2.239-16 5v4c0 2.761 7.163 5 16 5s16-2.239 16-5v-4c0-2.761-7.163-5-16-5z\"></path>\n",
       "<path d=\"M16 17c-8.837 0-16-2.239-16-5v6c0 2.761 7.163 5 16 5s16-2.239 16-5v-6c0 2.761-7.163 5-16 5z\"></path>\n",
       "<path d=\"M16 26c-8.837 0-16-2.239-16-5v6c0 2.761 7.163 5 16 5s16-2.239 16-5v-6c0 2.761-7.163 5-16 5z\"></path>\n",
       "</symbol>\n",
       "<symbol id=\"icon-file-text2\" viewBox=\"0 0 32 32\">\n",
       "<path d=\"M28.681 7.159c-0.694-0.947-1.662-2.053-2.724-3.116s-2.169-2.030-3.116-2.724c-1.612-1.182-2.393-1.319-2.841-1.319h-15.5c-1.378 0-2.5 1.121-2.5 2.5v27c0 1.378 1.122 2.5 2.5 2.5h23c1.378 0 2.5-1.122 2.5-2.5v-19.5c0-0.448-0.137-1.23-1.319-2.841zM24.543 5.457c0.959 0.959 1.712 1.825 2.268 2.543h-4.811v-4.811c0.718 0.556 1.584 1.309 2.543 2.268zM28 29.5c0 0.271-0.229 0.5-0.5 0.5h-23c-0.271 0-0.5-0.229-0.5-0.5v-27c0-0.271 0.229-0.5 0.5-0.5 0 0 15.499-0 15.5 0v7c0 0.552 0.448 1 1 1h7v19.5z\"></path>\n",
       "<path d=\"M23 26h-14c-0.552 0-1-0.448-1-1s0.448-1 1-1h14c0.552 0 1 0.448 1 1s-0.448 1-1 1z\"></path>\n",
       "<path d=\"M23 22h-14c-0.552 0-1-0.448-1-1s0.448-1 1-1h14c0.552 0 1 0.448 1 1s-0.448 1-1 1z\"></path>\n",
       "<path d=\"M23 18h-14c-0.552 0-1-0.448-1-1s0.448-1 1-1h14c0.552 0 1 0.448 1 1s-0.448 1-1 1z\"></path>\n",
       "</symbol>\n",
       "</defs>\n",
       "</svg>\n",
       "<style>/* CSS stylesheet for displaying xarray objects in jupyterlab.\n",
       " *\n",
       " */\n",
       "\n",
       ":root {\n",
       "  --xr-font-color0: var(--jp-content-font-color0, rgba(0, 0, 0, 1));\n",
       "  --xr-font-color2: var(--jp-content-font-color2, rgba(0, 0, 0, 0.54));\n",
       "  --xr-font-color3: var(--jp-content-font-color3, rgba(0, 0, 0, 0.38));\n",
       "  --xr-border-color: var(--jp-border-color2, #e0e0e0);\n",
       "  --xr-disabled-color: var(--jp-layout-color3, #bdbdbd);\n",
       "  --xr-background-color: var(--jp-layout-color0, white);\n",
       "  --xr-background-color-row-even: var(--jp-layout-color1, white);\n",
       "  --xr-background-color-row-odd: var(--jp-layout-color2, #eeeeee);\n",
       "}\n",
       "\n",
       "html[theme=dark],\n",
       "body.vscode-dark {\n",
       "  --xr-font-color0: rgba(255, 255, 255, 1);\n",
       "  --xr-font-color2: rgba(255, 255, 255, 0.54);\n",
       "  --xr-font-color3: rgba(255, 255, 255, 0.38);\n",
       "  --xr-border-color: #1F1F1F;\n",
       "  --xr-disabled-color: #515151;\n",
       "  --xr-background-color: #111111;\n",
       "  --xr-background-color-row-even: #111111;\n",
       "  --xr-background-color-row-odd: #313131;\n",
       "}\n",
       "\n",
       ".xr-wrap {\n",
       "  display: block;\n",
       "  min-width: 300px;\n",
       "  max-width: 700px;\n",
       "}\n",
       "\n",
       ".xr-text-repr-fallback {\n",
       "  /* fallback to plain text repr when CSS is not injected (untrusted notebook) */\n",
       "  display: none;\n",
       "}\n",
       "\n",
       ".xr-header {\n",
       "  padding-top: 6px;\n",
       "  padding-bottom: 6px;\n",
       "  margin-bottom: 4px;\n",
       "  border-bottom: solid 1px var(--xr-border-color);\n",
       "}\n",
       "\n",
       ".xr-header > div,\n",
       ".xr-header > ul {\n",
       "  display: inline;\n",
       "  margin-top: 0;\n",
       "  margin-bottom: 0;\n",
       "}\n",
       "\n",
       ".xr-obj-type,\n",
       ".xr-array-name {\n",
       "  margin-left: 2px;\n",
       "  margin-right: 10px;\n",
       "}\n",
       "\n",
       ".xr-obj-type {\n",
       "  color: var(--xr-font-color2);\n",
       "}\n",
       "\n",
       ".xr-sections {\n",
       "  padding-left: 0 !important;\n",
       "  display: grid;\n",
       "  grid-template-columns: 150px auto auto 1fr 20px 20px;\n",
       "}\n",
       "\n",
       ".xr-section-item {\n",
       "  display: contents;\n",
       "}\n",
       "\n",
       ".xr-section-item input {\n",
       "  display: none;\n",
       "}\n",
       "\n",
       ".xr-section-item input + label {\n",
       "  color: var(--xr-disabled-color);\n",
       "}\n",
       "\n",
       ".xr-section-item input:enabled + label {\n",
       "  cursor: pointer;\n",
       "  color: var(--xr-font-color2);\n",
       "}\n",
       "\n",
       ".xr-section-item input:enabled + label:hover {\n",
       "  color: var(--xr-font-color0);\n",
       "}\n",
       "\n",
       ".xr-section-summary {\n",
       "  grid-column: 1;\n",
       "  color: var(--xr-font-color2);\n",
       "  font-weight: 500;\n",
       "}\n",
       "\n",
       ".xr-section-summary > span {\n",
       "  display: inline-block;\n",
       "  padding-left: 0.5em;\n",
       "}\n",
       "\n",
       ".xr-section-summary-in:disabled + label {\n",
       "  color: var(--xr-font-color2);\n",
       "}\n",
       "\n",
       ".xr-section-summary-in + label:before {\n",
       "  display: inline-block;\n",
       "  content: '►';\n",
       "  font-size: 11px;\n",
       "  width: 15px;\n",
       "  text-align: center;\n",
       "}\n",
       "\n",
       ".xr-section-summary-in:disabled + label:before {\n",
       "  color: var(--xr-disabled-color);\n",
       "}\n",
       "\n",
       ".xr-section-summary-in:checked + label:before {\n",
       "  content: '▼';\n",
       "}\n",
       "\n",
       ".xr-section-summary-in:checked + label > span {\n",
       "  display: none;\n",
       "}\n",
       "\n",
       ".xr-section-summary,\n",
       ".xr-section-inline-details {\n",
       "  padding-top: 4px;\n",
       "  padding-bottom: 4px;\n",
       "}\n",
       "\n",
       ".xr-section-inline-details {\n",
       "  grid-column: 2 / -1;\n",
       "}\n",
       "\n",
       ".xr-section-details {\n",
       "  display: none;\n",
       "  grid-column: 1 / -1;\n",
       "  margin-bottom: 5px;\n",
       "}\n",
       "\n",
       ".xr-section-summary-in:checked ~ .xr-section-details {\n",
       "  display: contents;\n",
       "}\n",
       "\n",
       ".xr-array-wrap {\n",
       "  grid-column: 1 / -1;\n",
       "  display: grid;\n",
       "  grid-template-columns: 20px auto;\n",
       "}\n",
       "\n",
       ".xr-array-wrap > label {\n",
       "  grid-column: 1;\n",
       "  vertical-align: top;\n",
       "}\n",
       "\n",
       ".xr-preview {\n",
       "  color: var(--xr-font-color3);\n",
       "}\n",
       "\n",
       ".xr-array-preview,\n",
       ".xr-array-data {\n",
       "  padding: 0 5px !important;\n",
       "  grid-column: 2;\n",
       "}\n",
       "\n",
       ".xr-array-data,\n",
       ".xr-array-in:checked ~ .xr-array-preview {\n",
       "  display: none;\n",
       "}\n",
       "\n",
       ".xr-array-in:checked ~ .xr-array-data,\n",
       ".xr-array-preview {\n",
       "  display: inline-block;\n",
       "}\n",
       "\n",
       ".xr-dim-list {\n",
       "  display: inline-block !important;\n",
       "  list-style: none;\n",
       "  padding: 0 !important;\n",
       "  margin: 0;\n",
       "}\n",
       "\n",
       ".xr-dim-list li {\n",
       "  display: inline-block;\n",
       "  padding: 0;\n",
       "  margin: 0;\n",
       "}\n",
       "\n",
       ".xr-dim-list:before {\n",
       "  content: '(';\n",
       "}\n",
       "\n",
       ".xr-dim-list:after {\n",
       "  content: ')';\n",
       "}\n",
       "\n",
       ".xr-dim-list li:not(:last-child):after {\n",
       "  content: ',';\n",
       "  padding-right: 5px;\n",
       "}\n",
       "\n",
       ".xr-has-index {\n",
       "  font-weight: bold;\n",
       "}\n",
       "\n",
       ".xr-var-list,\n",
       ".xr-var-item {\n",
       "  display: contents;\n",
       "}\n",
       "\n",
       ".xr-var-item > div,\n",
       ".xr-var-item label,\n",
       ".xr-var-item > .xr-var-name span {\n",
       "  background-color: var(--xr-background-color-row-even);\n",
       "  margin-bottom: 0;\n",
       "}\n",
       "\n",
       ".xr-var-item > .xr-var-name:hover span {\n",
       "  padding-right: 5px;\n",
       "}\n",
       "\n",
       ".xr-var-list > li:nth-child(odd) > div,\n",
       ".xr-var-list > li:nth-child(odd) > label,\n",
       ".xr-var-list > li:nth-child(odd) > .xr-var-name span {\n",
       "  background-color: var(--xr-background-color-row-odd);\n",
       "}\n",
       "\n",
       ".xr-var-name {\n",
       "  grid-column: 1;\n",
       "}\n",
       "\n",
       ".xr-var-dims {\n",
       "  grid-column: 2;\n",
       "}\n",
       "\n",
       ".xr-var-dtype {\n",
       "  grid-column: 3;\n",
       "  text-align: right;\n",
       "  color: var(--xr-font-color2);\n",
       "}\n",
       "\n",
       ".xr-var-preview {\n",
       "  grid-column: 4;\n",
       "}\n",
       "\n",
       ".xr-var-name,\n",
       ".xr-var-dims,\n",
       ".xr-var-dtype,\n",
       ".xr-preview,\n",
       ".xr-attrs dt {\n",
       "  white-space: nowrap;\n",
       "  overflow: hidden;\n",
       "  text-overflow: ellipsis;\n",
       "  padding-right: 10px;\n",
       "}\n",
       "\n",
       ".xr-var-name:hover,\n",
       ".xr-var-dims:hover,\n",
       ".xr-var-dtype:hover,\n",
       ".xr-attrs dt:hover {\n",
       "  overflow: visible;\n",
       "  width: auto;\n",
       "  z-index: 1;\n",
       "}\n",
       "\n",
       ".xr-var-attrs,\n",
       ".xr-var-data {\n",
       "  display: none;\n",
       "  background-color: var(--xr-background-color) !important;\n",
       "  padding-bottom: 5px !important;\n",
       "}\n",
       "\n",
       ".xr-var-attrs-in:checked ~ .xr-var-attrs,\n",
       ".xr-var-data-in:checked ~ .xr-var-data {\n",
       "  display: block;\n",
       "}\n",
       "\n",
       ".xr-var-data > table {\n",
       "  float: right;\n",
       "}\n",
       "\n",
       ".xr-var-name span,\n",
       ".xr-var-data,\n",
       ".xr-attrs {\n",
       "  padding-left: 25px !important;\n",
       "}\n",
       "\n",
       ".xr-attrs,\n",
       ".xr-var-attrs,\n",
       ".xr-var-data {\n",
       "  grid-column: 1 / -1;\n",
       "}\n",
       "\n",
       "dl.xr-attrs {\n",
       "  padding: 0;\n",
       "  margin: 0;\n",
       "  display: grid;\n",
       "  grid-template-columns: 125px auto;\n",
       "}\n",
       "\n",
       ".xr-attrs dt,\n",
       ".xr-attrs dd {\n",
       "  padding: 0;\n",
       "  margin: 0;\n",
       "  float: left;\n",
       "  padding-right: 10px;\n",
       "  width: auto;\n",
       "}\n",
       "\n",
       ".xr-attrs dt {\n",
       "  font-weight: normal;\n",
       "  grid-column: 1;\n",
       "}\n",
       "\n",
       ".xr-attrs dt:hover span {\n",
       "  display: inline-block;\n",
       "  background: var(--xr-background-color);\n",
       "  padding-right: 10px;\n",
       "}\n",
       "\n",
       ".xr-attrs dd {\n",
       "  grid-column: 2;\n",
       "  white-space: pre-wrap;\n",
       "  word-break: break-all;\n",
       "}\n",
       "\n",
       ".xr-icon-database,\n",
       ".xr-icon-file-text2 {\n",
       "  display: inline-block;\n",
       "  vertical-align: middle;\n",
       "  width: 1em;\n",
       "  height: 1.5em !important;\n",
       "  stroke-width: 0;\n",
       "  stroke: currentColor;\n",
       "  fill: currentColor;\n",
       "}\n",
       "</style><pre class='xr-text-repr-fallback'>&lt;xarray.Dataset&gt;\n",
       "Dimensions:         (time: 172, y: 983, x: 1253)\n",
       "Coordinates:\n",
       "  * time            (time) datetime64[ns] 2021-07-13T12:00:00 ... 2021-12-31T...\n",
       "  * x               (x) float64 18.7 18.71 18.72 18.73 ... 28.88 28.89 28.9\n",
       "  * y               (y) float64 42.3 42.29 42.28 42.27 ... 34.32 34.31 34.3\n",
       "Data variables: (12/15)\n",
       "    max_t2m         (time, y, x) float32 ...\n",
       "    min_t2m         (time, y, x) float32 ...\n",
       "    avg_t2m         (time, y, x) float32 ...\n",
       "    max_tp          (time, y, x) float32 ...\n",
       "    min_tp          (time, y, x) float32 ...\n",
       "    avg_tp          (time, y, x) float32 ...\n",
       "    ...              ...\n",
       "    max_v10         (time, y, x) float32 ...\n",
       "    min_v10         (time, y, x) float32 ...\n",
       "    avg_v10         (time, y, x) float32 ...\n",
       "    max_wind_speed  (time, y, x) float32 ...\n",
       "    min_wind_speed  (time, y, x) float32 ...\n",
       "    avg_wind_speed  (time, y, x) float32 ...</pre><div class='xr-wrap' hidden><div class='xr-header'><div class='xr-obj-type'>xarray.Dataset</div></div><ul class='xr-sections'><li class='xr-section-item'><input id='section-98da5baa-82f6-42fe-8c27-b65d61fb84a7' class='xr-section-summary-in' type='checkbox' disabled ><label for='section-98da5baa-82f6-42fe-8c27-b65d61fb84a7' class='xr-section-summary'  title='Expand/collapse section'>Dimensions:</label><div class='xr-section-inline-details'><ul class='xr-dim-list'><li><span class='xr-has-index'>time</span>: 172</li><li><span class='xr-has-index'>y</span>: 983</li><li><span class='xr-has-index'>x</span>: 1253</li></ul></div><div class='xr-section-details'></div></li><li class='xr-section-item'><input id='section-5abec250-bc9e-4861-aed8-f0bd262d7dec' class='xr-section-summary-in' type='checkbox'  checked><label for='section-5abec250-bc9e-4861-aed8-f0bd262d7dec' class='xr-section-summary' >Coordinates: <span>(3)</span></label><div class='xr-section-inline-details'></div><div class='xr-section-details'><ul class='xr-var-list'><li class='xr-var-item'><div class='xr-var-name'><span class='xr-has-index'>time</span></div><div class='xr-var-dims'>(time)</div><div class='xr-var-dtype'>datetime64[ns]</div><div class='xr-var-preview xr-preview'>2021-07-13T12:00:00 ... 2021-12-...</div><input id='attrs-53681ec3-48e7-4618-9490-aefb22967e62' class='xr-var-attrs-in' type='checkbox' disabled><label for='attrs-53681ec3-48e7-4618-9490-aefb22967e62' title='Show/Hide attributes'><svg class='icon xr-icon-file-text2'><use xlink:href='#icon-file-text2'></use></svg></label><input id='data-f0b313aa-5e2a-46cd-aa01-f7e2542c5a18' class='xr-var-data-in' type='checkbox'><label for='data-f0b313aa-5e2a-46cd-aa01-f7e2542c5a18' title='Show/Hide data repr'><svg class='icon xr-icon-database'><use xlink:href='#icon-database'></use></svg></label><div class='xr-var-attrs'><dl class='xr-attrs'></dl></div><div class='xr-var-data'><pre>array([&#x27;2021-07-13T12:00:00.000000000&#x27;, &#x27;2021-07-14T12:00:00.000000000&#x27;,\n",
       "       &#x27;2021-07-15T12:00:00.000000000&#x27;, &#x27;2021-07-16T12:00:00.000000000&#x27;,\n",
       "       &#x27;2021-07-17T12:00:00.000000000&#x27;, &#x27;2021-07-18T12:00:00.000000000&#x27;,\n",
       "       &#x27;2021-07-19T12:00:00.000000000&#x27;, &#x27;2021-07-20T12:00:00.000000000&#x27;,\n",
       "       &#x27;2021-07-21T12:00:00.000000000&#x27;, &#x27;2021-07-22T12:00:00.000000000&#x27;,\n",
       "       &#x27;2021-07-23T12:00:00.000000000&#x27;, &#x27;2021-07-24T12:00:00.000000000&#x27;,\n",
       "       &#x27;2021-07-25T12:00:00.000000000&#x27;, &#x27;2021-07-26T12:00:00.000000000&#x27;,\n",
       "       &#x27;2021-07-27T12:00:00.000000000&#x27;, &#x27;2021-07-28T12:00:00.000000000&#x27;,\n",
       "       &#x27;2021-07-29T12:00:00.000000000&#x27;, &#x27;2021-07-30T12:00:00.000000000&#x27;,\n",
       "       &#x27;2021-07-31T12:00:00.000000000&#x27;, &#x27;2021-08-01T12:00:00.000000000&#x27;,\n",
       "       &#x27;2021-08-02T12:00:00.000000000&#x27;, &#x27;2021-08-03T12:00:00.000000000&#x27;,\n",
       "       &#x27;2021-08-04T12:00:00.000000000&#x27;, &#x27;2021-08-05T12:00:00.000000000&#x27;,\n",
       "       &#x27;2021-08-06T12:00:00.000000000&#x27;, &#x27;2021-08-07T12:00:00.000000000&#x27;,\n",
       "       &#x27;2021-08-08T12:00:00.000000000&#x27;, &#x27;2021-08-09T12:00:00.000000000&#x27;,\n",
       "       &#x27;2021-08-10T12:00:00.000000000&#x27;, &#x27;2021-08-11T12:00:00.000000000&#x27;,\n",
       "       &#x27;2021-08-12T12:00:00.000000000&#x27;, &#x27;2021-08-13T12:00:00.000000000&#x27;,\n",
       "       &#x27;2021-08-14T12:00:00.000000000&#x27;, &#x27;2021-08-15T12:00:00.000000000&#x27;,\n",
       "       &#x27;2021-08-16T12:00:00.000000000&#x27;, &#x27;2021-08-17T12:00:00.000000000&#x27;,\n",
       "       &#x27;2021-08-18T12:00:00.000000000&#x27;, &#x27;2021-08-19T12:00:00.000000000&#x27;,\n",
       "       &#x27;2021-08-20T12:00:00.000000000&#x27;, &#x27;2021-08-21T12:00:00.000000000&#x27;,\n",
       "       &#x27;2021-08-22T12:00:00.000000000&#x27;, &#x27;2021-08-23T12:00:00.000000000&#x27;,\n",
       "       &#x27;2021-08-24T12:00:00.000000000&#x27;, &#x27;2021-08-25T12:00:00.000000000&#x27;,\n",
       "       &#x27;2021-08-26T12:00:00.000000000&#x27;, &#x27;2021-08-27T12:00:00.000000000&#x27;,\n",
       "       &#x27;2021-08-28T12:00:00.000000000&#x27;, &#x27;2021-08-29T12:00:00.000000000&#x27;,\n",
       "       &#x27;2021-08-30T12:00:00.000000000&#x27;, &#x27;2021-08-31T12:00:00.000000000&#x27;,\n",
       "       &#x27;2021-09-01T12:00:00.000000000&#x27;, &#x27;2021-09-02T12:00:00.000000000&#x27;,\n",
       "       &#x27;2021-09-03T12:00:00.000000000&#x27;, &#x27;2021-09-04T12:00:00.000000000&#x27;,\n",
       "       &#x27;2021-09-05T12:00:00.000000000&#x27;, &#x27;2021-09-06T12:00:00.000000000&#x27;,\n",
       "       &#x27;2021-09-07T12:00:00.000000000&#x27;, &#x27;2021-09-08T12:00:00.000000000&#x27;,\n",
       "       &#x27;2021-09-09T12:00:00.000000000&#x27;, &#x27;2021-09-10T12:00:00.000000000&#x27;,\n",
       "       &#x27;2021-09-11T12:00:00.000000000&#x27;, &#x27;2021-09-12T12:00:00.000000000&#x27;,\n",
       "       &#x27;2021-09-13T12:00:00.000000000&#x27;, &#x27;2021-09-14T12:00:00.000000000&#x27;,\n",
       "       &#x27;2021-09-15T12:00:00.000000000&#x27;, &#x27;2021-09-16T12:00:00.000000000&#x27;,\n",
       "       &#x27;2021-09-17T12:00:00.000000000&#x27;, &#x27;2021-09-18T12:00:00.000000000&#x27;,\n",
       "       &#x27;2021-09-19T12:00:00.000000000&#x27;, &#x27;2021-09-20T12:00:00.000000000&#x27;,\n",
       "       &#x27;2021-09-21T12:00:00.000000000&#x27;, &#x27;2021-09-22T12:00:00.000000000&#x27;,\n",
       "       &#x27;2021-09-23T12:00:00.000000000&#x27;, &#x27;2021-09-24T12:00:00.000000000&#x27;,\n",
       "       &#x27;2021-09-25T12:00:00.000000000&#x27;, &#x27;2021-09-26T12:00:00.000000000&#x27;,\n",
       "       &#x27;2021-09-27T12:00:00.000000000&#x27;, &#x27;2021-09-28T12:00:00.000000000&#x27;,\n",
       "       &#x27;2021-09-29T12:00:00.000000000&#x27;, &#x27;2021-09-30T12:00:00.000000000&#x27;,\n",
       "       &#x27;2021-10-01T12:00:00.000000000&#x27;, &#x27;2021-10-02T12:00:00.000000000&#x27;,\n",
       "       &#x27;2021-10-03T12:00:00.000000000&#x27;, &#x27;2021-10-04T12:00:00.000000000&#x27;,\n",
       "       &#x27;2021-10-05T12:00:00.000000000&#x27;, &#x27;2021-10-06T12:00:00.000000000&#x27;,\n",
       "       &#x27;2021-10-07T12:00:00.000000000&#x27;, &#x27;2021-10-08T12:00:00.000000000&#x27;,\n",
       "       &#x27;2021-10-09T12:00:00.000000000&#x27;, &#x27;2021-10-10T12:00:00.000000000&#x27;,\n",
       "       &#x27;2021-10-11T12:00:00.000000000&#x27;, &#x27;2021-10-12T12:00:00.000000000&#x27;,\n",
       "       &#x27;2021-10-13T12:00:00.000000000&#x27;, &#x27;2021-10-14T12:00:00.000000000&#x27;,\n",
       "       &#x27;2021-10-15T12:00:00.000000000&#x27;, &#x27;2021-10-16T12:00:00.000000000&#x27;,\n",
       "       &#x27;2021-10-17T12:00:00.000000000&#x27;, &#x27;2021-10-18T12:00:00.000000000&#x27;,\n",
       "       &#x27;2021-10-19T12:00:00.000000000&#x27;, &#x27;2021-10-20T12:00:00.000000000&#x27;,\n",
       "       &#x27;2021-10-21T12:00:00.000000000&#x27;, &#x27;2021-10-22T12:00:00.000000000&#x27;,\n",
       "       &#x27;2021-10-23T12:00:00.000000000&#x27;, &#x27;2021-10-24T12:00:00.000000000&#x27;,\n",
       "       &#x27;2021-10-25T12:00:00.000000000&#x27;, &#x27;2021-10-26T12:00:00.000000000&#x27;,\n",
       "       &#x27;2021-10-27T12:00:00.000000000&#x27;, &#x27;2021-10-28T12:00:00.000000000&#x27;,\n",
       "       &#x27;2021-10-29T12:00:00.000000000&#x27;, &#x27;2021-10-30T12:00:00.000000000&#x27;,\n",
       "       &#x27;2021-10-31T12:00:00.000000000&#x27;, &#x27;2021-11-01T12:00:00.000000000&#x27;,\n",
       "       &#x27;2021-11-02T12:00:00.000000000&#x27;, &#x27;2021-11-03T12:00:00.000000000&#x27;,\n",
       "       &#x27;2021-11-04T12:00:00.000000000&#x27;, &#x27;2021-11-05T12:00:00.000000000&#x27;,\n",
       "       &#x27;2021-11-06T12:00:00.000000000&#x27;, &#x27;2021-11-07T12:00:00.000000000&#x27;,\n",
       "       &#x27;2021-11-08T12:00:00.000000000&#x27;, &#x27;2021-11-09T12:00:00.000000000&#x27;,\n",
       "       &#x27;2021-11-10T12:00:00.000000000&#x27;, &#x27;2021-11-11T12:00:00.000000000&#x27;,\n",
       "       &#x27;2021-11-12T12:00:00.000000000&#x27;, &#x27;2021-11-13T12:00:00.000000000&#x27;,\n",
       "       &#x27;2021-11-14T12:00:00.000000000&#x27;, &#x27;2021-11-15T12:00:00.000000000&#x27;,\n",
       "       &#x27;2021-11-16T12:00:00.000000000&#x27;, &#x27;2021-11-17T12:00:00.000000000&#x27;,\n",
       "       &#x27;2021-11-18T12:00:00.000000000&#x27;, &#x27;2021-11-19T12:00:00.000000000&#x27;,\n",
       "       &#x27;2021-11-20T12:00:00.000000000&#x27;, &#x27;2021-11-21T12:00:00.000000000&#x27;,\n",
       "       &#x27;2021-11-22T12:00:00.000000000&#x27;, &#x27;2021-11-23T12:00:00.000000000&#x27;,\n",
       "       &#x27;2021-11-24T12:00:00.000000000&#x27;, &#x27;2021-11-25T12:00:00.000000000&#x27;,\n",
       "       &#x27;2021-11-26T12:00:00.000000000&#x27;, &#x27;2021-11-27T12:00:00.000000000&#x27;,\n",
       "       &#x27;2021-11-28T12:00:00.000000000&#x27;, &#x27;2021-11-29T12:00:00.000000000&#x27;,\n",
       "       &#x27;2021-11-30T12:00:00.000000000&#x27;, &#x27;2021-12-01T12:00:00.000000000&#x27;,\n",
       "       &#x27;2021-12-02T12:00:00.000000000&#x27;, &#x27;2021-12-03T12:00:00.000000000&#x27;,\n",
       "       &#x27;2021-12-04T12:00:00.000000000&#x27;, &#x27;2021-12-05T12:00:00.000000000&#x27;,\n",
       "       &#x27;2021-12-06T12:00:00.000000000&#x27;, &#x27;2021-12-07T12:00:00.000000000&#x27;,\n",
       "       &#x27;2021-12-08T12:00:00.000000000&#x27;, &#x27;2021-12-09T12:00:00.000000000&#x27;,\n",
       "       &#x27;2021-12-10T12:00:00.000000000&#x27;, &#x27;2021-12-11T12:00:00.000000000&#x27;,\n",
       "       &#x27;2021-12-12T12:00:00.000000000&#x27;, &#x27;2021-12-13T12:00:00.000000000&#x27;,\n",
       "       &#x27;2021-12-14T12:00:00.000000000&#x27;, &#x27;2021-12-15T12:00:00.000000000&#x27;,\n",
       "       &#x27;2021-12-16T12:00:00.000000000&#x27;, &#x27;2021-12-17T12:00:00.000000000&#x27;,\n",
       "       &#x27;2021-12-18T12:00:00.000000000&#x27;, &#x27;2021-12-19T12:00:00.000000000&#x27;,\n",
       "       &#x27;2021-12-20T12:00:00.000000000&#x27;, &#x27;2021-12-21T12:00:00.000000000&#x27;,\n",
       "       &#x27;2021-12-22T12:00:00.000000000&#x27;, &#x27;2021-12-23T12:00:00.000000000&#x27;,\n",
       "       &#x27;2021-12-24T12:00:00.000000000&#x27;, &#x27;2021-12-25T12:00:00.000000000&#x27;,\n",
       "       &#x27;2021-12-26T12:00:00.000000000&#x27;, &#x27;2021-12-27T12:00:00.000000000&#x27;,\n",
       "       &#x27;2021-12-28T12:00:00.000000000&#x27;, &#x27;2021-12-29T12:00:00.000000000&#x27;,\n",
       "       &#x27;2021-12-30T12:00:00.000000000&#x27;, &#x27;2021-12-31T12:00:00.000000000&#x27;],\n",
       "      dtype=&#x27;datetime64[ns]&#x27;)</pre></div></li><li class='xr-var-item'><div class='xr-var-name'><span class='xr-has-index'>x</span></div><div class='xr-var-dims'>(x)</div><div class='xr-var-dtype'>float64</div><div class='xr-var-preview xr-preview'>18.7 18.71 18.72 ... 28.89 28.9</div><input id='attrs-214415ab-e79b-4096-82ce-b15d0b2add52' class='xr-var-attrs-in' type='checkbox' ><label for='attrs-214415ab-e79b-4096-82ce-b15d0b2add52' title='Show/Hide attributes'><svg class='icon xr-icon-file-text2'><use xlink:href='#icon-file-text2'></use></svg></label><input id='data-dc01a865-f240-4297-8ec3-50afdac79486' class='xr-var-data-in' type='checkbox'><label for='data-dc01a865-f240-4297-8ec3-50afdac79486' title='Show/Hide data repr'><svg class='icon xr-icon-database'><use xlink:href='#icon-database'></use></svg></label><div class='xr-var-attrs'><dl class='xr-attrs'><dt><span>units :</span></dt><dd>degrees_east</dd><dt><span>standard_name :</span></dt><dd>longitude</dd><dt><span>long_name :</span></dt><dd>longitude</dd></dl></div><div class='xr-var-data'><pre>array([18.702116, 18.710261, 18.718406, ..., 28.88298 , 28.891124, 28.899269])</pre></div></li><li class='xr-var-item'><div class='xr-var-name'><span class='xr-has-index'>y</span></div><div class='xr-var-dims'>(y)</div><div class='xr-var-dtype'>float64</div><div class='xr-var-preview xr-preview'>42.3 42.29 42.28 ... 34.31 34.3</div><input id='attrs-e446829c-3ec6-4ffc-882b-991de3e19204' class='xr-var-attrs-in' type='checkbox' ><label for='attrs-e446829c-3ec6-4ffc-882b-991de3e19204' title='Show/Hide attributes'><svg class='icon xr-icon-file-text2'><use xlink:href='#icon-file-text2'></use></svg></label><input id='data-c62c884a-57f2-42aa-a662-320c7b07e19c' class='xr-var-data-in' type='checkbox'><label for='data-c62c884a-57f2-42aa-a662-320c7b07e19c' title='Show/Hide data repr'><svg class='icon xr-icon-database'><use xlink:href='#icon-database'></use></svg></label><div class='xr-var-attrs'><dl class='xr-attrs'><dt><span>units :</span></dt><dd>degrees_north</dd><dt><span>standard_name :</span></dt><dd>latitude</dd><dt><span>long_name :</span></dt><dd>latitude</dd></dl></div><div class='xr-var-data'><pre>array([42.299195, 42.29105 , 42.282905, ..., 34.317398, 34.309253, 34.301109])</pre></div></li></ul></div></li><li class='xr-section-item'><input id='section-ba2d0163-784b-473f-80cb-d5189f5f35a0' class='xr-section-summary-in' type='checkbox'  ><label for='section-ba2d0163-784b-473f-80cb-d5189f5f35a0' class='xr-section-summary' >Data variables: <span>(15)</span></label><div class='xr-section-inline-details'></div><div class='xr-section-details'><ul class='xr-var-list'><li class='xr-var-item'><div class='xr-var-name'><span>max_t2m</span></div><div class='xr-var-dims'>(time, y, x)</div><div class='xr-var-dtype'>float32</div><div class='xr-var-preview xr-preview'>...</div><input id='attrs-645cdfe0-8c7b-4d66-b417-7e42a1ea18a3' class='xr-var-attrs-in' type='checkbox' disabled><label for='attrs-645cdfe0-8c7b-4d66-b417-7e42a1ea18a3' title='Show/Hide attributes'><svg class='icon xr-icon-file-text2'><use xlink:href='#icon-file-text2'></use></svg></label><input id='data-140043ba-d041-4a8c-bf98-c8f23782ac8f' class='xr-var-data-in' type='checkbox'><label for='data-140043ba-d041-4a8c-bf98-c8f23782ac8f' title='Show/Hide data repr'><svg class='icon xr-icon-database'><use xlink:href='#icon-database'></use></svg></label><div class='xr-var-attrs'><dl class='xr-attrs'></dl></div><div class='xr-var-data'><pre>[211852228 values with dtype=float32]</pre></div></li><li class='xr-var-item'><div class='xr-var-name'><span>min_t2m</span></div><div class='xr-var-dims'>(time, y, x)</div><div class='xr-var-dtype'>float32</div><div class='xr-var-preview xr-preview'>...</div><input id='attrs-27109b4c-aa59-49db-a7fd-b8e6979cd88c' class='xr-var-attrs-in' type='checkbox' disabled><label for='attrs-27109b4c-aa59-49db-a7fd-b8e6979cd88c' title='Show/Hide attributes'><svg class='icon xr-icon-file-text2'><use xlink:href='#icon-file-text2'></use></svg></label><input id='data-505dca12-d93e-4468-96d5-d20ebeb8f4ee' class='xr-var-data-in' type='checkbox'><label for='data-505dca12-d93e-4468-96d5-d20ebeb8f4ee' title='Show/Hide data repr'><svg class='icon xr-icon-database'><use xlink:href='#icon-database'></use></svg></label><div class='xr-var-attrs'><dl class='xr-attrs'></dl></div><div class='xr-var-data'><pre>[211852228 values with dtype=float32]</pre></div></li><li class='xr-var-item'><div class='xr-var-name'><span>avg_t2m</span></div><div class='xr-var-dims'>(time, y, x)</div><div class='xr-var-dtype'>float32</div><div class='xr-var-preview xr-preview'>...</div><input id='attrs-cf85a965-0fe3-409f-9f86-3bb524288dcb' class='xr-var-attrs-in' type='checkbox' disabled><label for='attrs-cf85a965-0fe3-409f-9f86-3bb524288dcb' title='Show/Hide attributes'><svg class='icon xr-icon-file-text2'><use xlink:href='#icon-file-text2'></use></svg></label><input id='data-78190fdf-df4c-459d-bedb-31f32b1cbba2' class='xr-var-data-in' type='checkbox'><label for='data-78190fdf-df4c-459d-bedb-31f32b1cbba2' title='Show/Hide data repr'><svg class='icon xr-icon-database'><use xlink:href='#icon-database'></use></svg></label><div class='xr-var-attrs'><dl class='xr-attrs'></dl></div><div class='xr-var-data'><pre>[211852228 values with dtype=float32]</pre></div></li><li class='xr-var-item'><div class='xr-var-name'><span>max_tp</span></div><div class='xr-var-dims'>(time, y, x)</div><div class='xr-var-dtype'>float32</div><div class='xr-var-preview xr-preview'>...</div><input id='attrs-ab3c01e7-4da3-46c9-8934-84e3290a666e' class='xr-var-attrs-in' type='checkbox' disabled><label for='attrs-ab3c01e7-4da3-46c9-8934-84e3290a666e' title='Show/Hide attributes'><svg class='icon xr-icon-file-text2'><use xlink:href='#icon-file-text2'></use></svg></label><input id='data-da3bc5d4-aa90-459a-9a50-2641e0dafd64' class='xr-var-data-in' type='checkbox'><label for='data-da3bc5d4-aa90-459a-9a50-2641e0dafd64' title='Show/Hide data repr'><svg class='icon xr-icon-database'><use xlink:href='#icon-database'></use></svg></label><div class='xr-var-attrs'><dl class='xr-attrs'></dl></div><div class='xr-var-data'><pre>[211852228 values with dtype=float32]</pre></div></li><li class='xr-var-item'><div class='xr-var-name'><span>min_tp</span></div><div class='xr-var-dims'>(time, y, x)</div><div class='xr-var-dtype'>float32</div><div class='xr-var-preview xr-preview'>...</div><input id='attrs-d06d4618-2d13-4172-9f63-bb1f7102c6b0' class='xr-var-attrs-in' type='checkbox' disabled><label for='attrs-d06d4618-2d13-4172-9f63-bb1f7102c6b0' title='Show/Hide attributes'><svg class='icon xr-icon-file-text2'><use xlink:href='#icon-file-text2'></use></svg></label><input id='data-69fada1f-9e4a-4eab-ba89-13024cbb6b8e' class='xr-var-data-in' type='checkbox'><label for='data-69fada1f-9e4a-4eab-ba89-13024cbb6b8e' title='Show/Hide data repr'><svg class='icon xr-icon-database'><use xlink:href='#icon-database'></use></svg></label><div class='xr-var-attrs'><dl class='xr-attrs'></dl></div><div class='xr-var-data'><pre>[211852228 values with dtype=float32]</pre></div></li><li class='xr-var-item'><div class='xr-var-name'><span>avg_tp</span></div><div class='xr-var-dims'>(time, y, x)</div><div class='xr-var-dtype'>float32</div><div class='xr-var-preview xr-preview'>...</div><input id='attrs-67f74d31-5668-4510-9b6b-edfcc5b404ff' class='xr-var-attrs-in' type='checkbox' disabled><label for='attrs-67f74d31-5668-4510-9b6b-edfcc5b404ff' title='Show/Hide attributes'><svg class='icon xr-icon-file-text2'><use xlink:href='#icon-file-text2'></use></svg></label><input id='data-2e28d098-95c0-4992-b107-ca852382a7bf' class='xr-var-data-in' type='checkbox'><label for='data-2e28d098-95c0-4992-b107-ca852382a7bf' title='Show/Hide data repr'><svg class='icon xr-icon-database'><use xlink:href='#icon-database'></use></svg></label><div class='xr-var-attrs'><dl class='xr-attrs'></dl></div><div class='xr-var-data'><pre>[211852228 values with dtype=float32]</pre></div></li><li class='xr-var-item'><div class='xr-var-name'><span>max_u10</span></div><div class='xr-var-dims'>(time, y, x)</div><div class='xr-var-dtype'>float32</div><div class='xr-var-preview xr-preview'>...</div><input id='attrs-e149ae2a-98c5-4724-a001-80aba72d7cd1' class='xr-var-attrs-in' type='checkbox' disabled><label for='attrs-e149ae2a-98c5-4724-a001-80aba72d7cd1' title='Show/Hide attributes'><svg class='icon xr-icon-file-text2'><use xlink:href='#icon-file-text2'></use></svg></label><input id='data-d94d4ab2-ea49-464b-96ee-dea4bffe8813' class='xr-var-data-in' type='checkbox'><label for='data-d94d4ab2-ea49-464b-96ee-dea4bffe8813' title='Show/Hide data repr'><svg class='icon xr-icon-database'><use xlink:href='#icon-database'></use></svg></label><div class='xr-var-attrs'><dl class='xr-attrs'></dl></div><div class='xr-var-data'><pre>[211852228 values with dtype=float32]</pre></div></li><li class='xr-var-item'><div class='xr-var-name'><span>min_u10</span></div><div class='xr-var-dims'>(time, y, x)</div><div class='xr-var-dtype'>float32</div><div class='xr-var-preview xr-preview'>...</div><input id='attrs-7a12b082-dd81-425d-9ca9-66705af0f0f6' class='xr-var-attrs-in' type='checkbox' disabled><label for='attrs-7a12b082-dd81-425d-9ca9-66705af0f0f6' title='Show/Hide attributes'><svg class='icon xr-icon-file-text2'><use xlink:href='#icon-file-text2'></use></svg></label><input id='data-5aa618da-7531-46b2-8897-4b9f14516e80' class='xr-var-data-in' type='checkbox'><label for='data-5aa618da-7531-46b2-8897-4b9f14516e80' title='Show/Hide data repr'><svg class='icon xr-icon-database'><use xlink:href='#icon-database'></use></svg></label><div class='xr-var-attrs'><dl class='xr-attrs'></dl></div><div class='xr-var-data'><pre>[211852228 values with dtype=float32]</pre></div></li><li class='xr-var-item'><div class='xr-var-name'><span>avg_u10</span></div><div class='xr-var-dims'>(time, y, x)</div><div class='xr-var-dtype'>float32</div><div class='xr-var-preview xr-preview'>...</div><input id='attrs-c5c9bab6-d2c3-4885-8d63-0d4c1668037b' class='xr-var-attrs-in' type='checkbox' disabled><label for='attrs-c5c9bab6-d2c3-4885-8d63-0d4c1668037b' title='Show/Hide attributes'><svg class='icon xr-icon-file-text2'><use xlink:href='#icon-file-text2'></use></svg></label><input id='data-d1315daf-6d8d-46b5-bf0b-508cd978cc91' class='xr-var-data-in' type='checkbox'><label for='data-d1315daf-6d8d-46b5-bf0b-508cd978cc91' title='Show/Hide data repr'><svg class='icon xr-icon-database'><use xlink:href='#icon-database'></use></svg></label><div class='xr-var-attrs'><dl class='xr-attrs'></dl></div><div class='xr-var-data'><pre>[211852228 values with dtype=float32]</pre></div></li><li class='xr-var-item'><div class='xr-var-name'><span>max_v10</span></div><div class='xr-var-dims'>(time, y, x)</div><div class='xr-var-dtype'>float32</div><div class='xr-var-preview xr-preview'>...</div><input id='attrs-73886f13-64f6-408b-b393-1550189f5c35' class='xr-var-attrs-in' type='checkbox' disabled><label for='attrs-73886f13-64f6-408b-b393-1550189f5c35' title='Show/Hide attributes'><svg class='icon xr-icon-file-text2'><use xlink:href='#icon-file-text2'></use></svg></label><input id='data-be36140c-69d5-49d5-9691-d369b7645c55' class='xr-var-data-in' type='checkbox'><label for='data-be36140c-69d5-49d5-9691-d369b7645c55' title='Show/Hide data repr'><svg class='icon xr-icon-database'><use xlink:href='#icon-database'></use></svg></label><div class='xr-var-attrs'><dl class='xr-attrs'></dl></div><div class='xr-var-data'><pre>[211852228 values with dtype=float32]</pre></div></li><li class='xr-var-item'><div class='xr-var-name'><span>min_v10</span></div><div class='xr-var-dims'>(time, y, x)</div><div class='xr-var-dtype'>float32</div><div class='xr-var-preview xr-preview'>...</div><input id='attrs-8b0f4d3f-5876-4bd0-ac64-14266adeeb6e' class='xr-var-attrs-in' type='checkbox' disabled><label for='attrs-8b0f4d3f-5876-4bd0-ac64-14266adeeb6e' title='Show/Hide attributes'><svg class='icon xr-icon-file-text2'><use xlink:href='#icon-file-text2'></use></svg></label><input id='data-4b6d1c86-05fd-4ebc-8bc4-8aa8123c184a' class='xr-var-data-in' type='checkbox'><label for='data-4b6d1c86-05fd-4ebc-8bc4-8aa8123c184a' title='Show/Hide data repr'><svg class='icon xr-icon-database'><use xlink:href='#icon-database'></use></svg></label><div class='xr-var-attrs'><dl class='xr-attrs'></dl></div><div class='xr-var-data'><pre>[211852228 values with dtype=float32]</pre></div></li><li class='xr-var-item'><div class='xr-var-name'><span>avg_v10</span></div><div class='xr-var-dims'>(time, y, x)</div><div class='xr-var-dtype'>float32</div><div class='xr-var-preview xr-preview'>...</div><input id='attrs-87caa925-2a74-4c64-a777-ee5404dc4f23' class='xr-var-attrs-in' type='checkbox' disabled><label for='attrs-87caa925-2a74-4c64-a777-ee5404dc4f23' title='Show/Hide attributes'><svg class='icon xr-icon-file-text2'><use xlink:href='#icon-file-text2'></use></svg></label><input id='data-450aa6b2-b29c-46d6-bb3d-1167f9e20b22' class='xr-var-data-in' type='checkbox'><label for='data-450aa6b2-b29c-46d6-bb3d-1167f9e20b22' title='Show/Hide data repr'><svg class='icon xr-icon-database'><use xlink:href='#icon-database'></use></svg></label><div class='xr-var-attrs'><dl class='xr-attrs'></dl></div><div class='xr-var-data'><pre>[211852228 values with dtype=float32]</pre></div></li><li class='xr-var-item'><div class='xr-var-name'><span>max_wind_speed</span></div><div class='xr-var-dims'>(time, y, x)</div><div class='xr-var-dtype'>float32</div><div class='xr-var-preview xr-preview'>...</div><input id='attrs-9eed7c80-69ae-4adb-9032-713902ef166f' class='xr-var-attrs-in' type='checkbox' disabled><label for='attrs-9eed7c80-69ae-4adb-9032-713902ef166f' title='Show/Hide attributes'><svg class='icon xr-icon-file-text2'><use xlink:href='#icon-file-text2'></use></svg></label><input id='data-e9d30d8f-e9ed-4ab6-8702-0759640fb95e' class='xr-var-data-in' type='checkbox'><label for='data-e9d30d8f-e9ed-4ab6-8702-0759640fb95e' title='Show/Hide data repr'><svg class='icon xr-icon-database'><use xlink:href='#icon-database'></use></svg></label><div class='xr-var-attrs'><dl class='xr-attrs'></dl></div><div class='xr-var-data'><pre>[211852228 values with dtype=float32]</pre></div></li><li class='xr-var-item'><div class='xr-var-name'><span>min_wind_speed</span></div><div class='xr-var-dims'>(time, y, x)</div><div class='xr-var-dtype'>float32</div><div class='xr-var-preview xr-preview'>...</div><input id='attrs-a3e6d8aa-ed18-4ae2-b103-33bbc0bbc42b' class='xr-var-attrs-in' type='checkbox' disabled><label for='attrs-a3e6d8aa-ed18-4ae2-b103-33bbc0bbc42b' title='Show/Hide attributes'><svg class='icon xr-icon-file-text2'><use xlink:href='#icon-file-text2'></use></svg></label><input id='data-bcc34969-9fd2-4d86-a3b9-d0c72b70822f' class='xr-var-data-in' type='checkbox'><label for='data-bcc34969-9fd2-4d86-a3b9-d0c72b70822f' title='Show/Hide data repr'><svg class='icon xr-icon-database'><use xlink:href='#icon-database'></use></svg></label><div class='xr-var-attrs'><dl class='xr-attrs'></dl></div><div class='xr-var-data'><pre>[211852228 values with dtype=float32]</pre></div></li><li class='xr-var-item'><div class='xr-var-name'><span>avg_wind_speed</span></div><div class='xr-var-dims'>(time, y, x)</div><div class='xr-var-dtype'>float32</div><div class='xr-var-preview xr-preview'>...</div><input id='attrs-07f2c585-c30d-46d2-af97-0dd71c77073c' class='xr-var-attrs-in' type='checkbox' disabled><label for='attrs-07f2c585-c30d-46d2-af97-0dd71c77073c' title='Show/Hide attributes'><svg class='icon xr-icon-file-text2'><use xlink:href='#icon-file-text2'></use></svg></label><input id='data-38c786fe-f5b3-4387-8bbc-5d2df1b285e4' class='xr-var-data-in' type='checkbox'><label for='data-38c786fe-f5b3-4387-8bbc-5d2df1b285e4' title='Show/Hide data repr'><svg class='icon xr-icon-database'><use xlink:href='#icon-database'></use></svg></label><div class='xr-var-attrs'><dl class='xr-attrs'></dl></div><div class='xr-var-data'><pre>[211852228 values with dtype=float32]</pre></div></li></ul></div></li><li class='xr-section-item'><input id='section-09a69f5f-db97-4912-b959-417c1c6c9862' class='xr-section-summary-in' type='checkbox' disabled ><label for='section-09a69f5f-db97-4912-b959-417c1c6c9862' class='xr-section-summary'  title='Expand/collapse section'>Attributes: <span>(0)</span></label><div class='xr-section-inline-details'></div><div class='xr-section-details'><dl class='xr-attrs'></dl></div></li></ul></div></div>"
      ],
      "text/plain": [
       "<xarray.Dataset>\n",
       "Dimensions:         (time: 172, y: 983, x: 1253)\n",
       "Coordinates:\n",
       "  * time            (time) datetime64[ns] 2021-07-13T12:00:00 ... 2021-12-31T...\n",
       "  * x               (x) float64 18.7 18.71 18.72 18.73 ... 28.88 28.89 28.9\n",
       "  * y               (y) float64 42.3 42.29 42.28 42.27 ... 34.32 34.31 34.3\n",
       "Data variables: (12/15)\n",
       "    max_t2m         (time, y, x) float32 ...\n",
       "    min_t2m         (time, y, x) float32 ...\n",
       "    avg_t2m         (time, y, x) float32 ...\n",
       "    max_tp          (time, y, x) float32 ...\n",
       "    min_tp          (time, y, x) float32 ...\n",
       "    avg_tp          (time, y, x) float32 ...\n",
       "    ...              ...\n",
       "    max_v10         (time, y, x) float32 ...\n",
       "    min_v10         (time, y, x) float32 ...\n",
       "    avg_v10         (time, y, x) float32 ...\n",
       "    max_wind_speed  (time, y, x) float32 ...\n",
       "    min_wind_speed  (time, y, x) float32 ...\n",
       "    avg_wind_speed  (time, y, x) float32 ..."
      ]
     },
     "execution_count": 3,
     "metadata": {},
     "output_type": "execute_result"
    }
   ],
   "source": [
    "final_cube"
   ]
  },
  {
   "cell_type": "code",
   "execution_count": 4,
   "id": "democratic-carroll",
   "metadata": {},
   "outputs": [],
   "source": [
    "def copy_files(path, label):\n",
    "    if label == 'positives':\n",
    "        destination_folder = Path.home() / 'hdd1/diogenis/observatory/positives'\n",
    "    else:\n",
    "        destination_folder = Path.home() / 'hdd1/diogenis/observatory/negatives'\n",
    "        \n",
    "    #For Every file\n",
    "    for file_name in os.listdir(path):\n",
    "        #Get the date from the file name\n",
    "        file_date = file_name.split('_')[0][:4] + '/' + file_name.split('_')[0][4:6] + '/' + file_name.split('_')[0][6:]\n",
    "        \n",
    "        #Convert from string to datetime\n",
    "        file_date = datetime.strptime(file_date, '%Y/%m/%d')\n",
    "        \n",
    "        #If the year is 2021\n",
    "        if file_date.year == 2021:\n",
    "            \n",
    "            #Check for the month and the day(We start from 23 couse we want to have to 10 past days)\n",
    "            if (file_date.month ==7 and file_date.day >=22) or (file_date.month >=8 and file_date.month <= 12):\n",
    "                \n",
    "                #We don't care about the mode.npy files\n",
    "                if file_name.split('_')[3] == 'static.npy' or file_name.split('_')[3] == 'dynamic.npy' or file_name.split('_')[4] == 'vec.npy':\n",
    "                    source = path / file_name\n",
    "                    destination = destination_folder / file_name\n",
    "                    if os.path.isfile(source):\n",
    "                        shutil.copy(source, destination)"
   ]
  },
  {
   "cell_type": "code",
   "execution_count": 5,
   "id": "first-strategy",
   "metadata": {},
   "outputs": [],
   "source": [
    "path = Path.home() / 'hdd1/iprapas/uc3/datasets_v4/npy/temporal/positives'\n",
    "copy_files(path, 'positives')"
   ]
  },
  {
   "cell_type": "code",
   "execution_count": 6,
   "id": "imposed-bottle",
   "metadata": {},
   "outputs": [],
   "source": [
    "path = Path.home() / 'hdd1/iprapas/uc3/datasets_v5/npy/temporal/negatives_clc'\n",
    "copy_files(path, 'negatives')"
   ]
  },
  {
   "cell_type": "code",
   "execution_count": 7,
   "id": "built-affect",
   "metadata": {},
   "outputs": [],
   "source": [
    "values_t2m_era5 = []\n",
    "values_wind_speed_era5 = []\n",
    "values_tp_era5 = []\n",
    "values_t2m_positives_era5 = []\n",
    "values_wind_speed_positives_era5 = []\n",
    "values_tp_positives_era5 = []\n",
    "values_t2m_negatives_era5 = []\n",
    "values_wind_speed_negatives_era5 = []\n",
    "values_tp_negatives_era5 = []\n",
    "    \n",
    "values_t2m_dwd = []\n",
    "values_wind_speed_dwd = []\n",
    "values_tp_dwd = []\n",
    "values_t2m_positives_dwd = []\n",
    "values_wind_speed_positives_dwd = []\n",
    "values_tp_positives_dwd = []\n",
    "values_t2m_negatives_dwd = []\n",
    "values_wind_speed_negatives_dwd = []\n",
    "values_tp_negatives_dwd = []"
   ]
  },
  {
   "cell_type": "code",
   "execution_count": 8,
   "id": "powered-highlight",
   "metadata": {},
   "outputs": [],
   "source": [
    "def change_npy_files(path):\n",
    "    #For every file\n",
    "    for file_name in os.listdir(path):\n",
    "        \n",
    "        #Only if the file is dynamic.npy\n",
    "        if file_name.split('_')[3] == 'dynamic.npy':\n",
    "            \n",
    "            #Get the date\n",
    "            file_date = file_name.split('_')[0][:4] + '/' + file_name.split('_')[0][4:6] + '/' + file_name.split('_')[0][6:]\n",
    "            file_date = datetime.strptime(file_date, '%Y/%m/%d')\n",
    "            file_date = np.datetime64(file_date)\n",
    "            \n",
    "            #Add 12 hours so it matches the dimension in our datacube\n",
    "            file_date = file_date + np.timedelta64(12, 'h')\n",
    "            \n",
    "            #Get the lat and lon\n",
    "            x_index = file_name.split('_')[1]\n",
    "            x_index = int(x_index)\n",
    "            y_index = file_name.split('_')[2]\n",
    "            y_index = int(y_index)\n",
    "\n",
    "            #Open the file\n",
    "            test = np.load(path / file_name)\n",
    "            values_t2m_era5.append(test[9][10])\n",
    "            values_wind_speed_era5.append(test[9][30])\n",
    "            values_tp_era5.append(test[9][12])\n",
    "            if path.parts[-1] == 'positives':\n",
    "                values_t2m_positives_era5.append(test[9][10])\n",
    "                values_wind_speed_positives_era5.append(test[9][30])\n",
    "                values_tp_positives_era5.append(test[9][12])\n",
    "            else:\n",
    "                values_t2m_negatives_era5.append(test[9][10])\n",
    "                values_wind_speed_negatives_era5.append(test[9][30])\n",
    "                values_tp_negatives_era5.append(test[9][12])\n",
    "            \n",
    "            #For every day in the file\n",
    "            for i in range(10):\n",
    "                \n",
    "                #Get the appropriate date\n",
    "                tmp = file_date - np.timedelta64(9-i,'D')\n",
    "                \n",
    "                #Get the values from the datacube\n",
    "                dwd_max_u10 = final_cube.sel(time = tmp).isel(x = x_index, y = y_index).max_u10.values\n",
    "                dwd_max_v10 = final_cube.sel(time = tmp).isel(x = x_index, y = y_index).max_v10.values\n",
    "                dwd_max_t2m = final_cube.sel(time = tmp).isel(x = x_index, y = y_index).max_t2m.values\n",
    "                dwd_max_tp = final_cube.sel(time = tmp).isel(x = x_index, y = y_index).max_tp.values\n",
    "            \n",
    "                dwd_min_u10 = final_cube.sel(time = tmp).isel(x = x_index, y = y_index).min_u10.values\n",
    "                dwd_min_v10 = final_cube.sel(time = tmp).isel(x = x_index, y = y_index).min_v10.values\n",
    "                dwd_min_t2m = final_cube.sel(time = tmp).isel(x = x_index, y = y_index).min_t2m.values\n",
    "                dwd_min_tp = final_cube.sel(time = tmp).isel(x = x_index, y = y_index).min_tp.values\n",
    "            \n",
    "                dwd_avg_u10 = final_cube.sel(time = tmp).isel(x = x_index, y = y_index).avg_u10.values\n",
    "                dwd_avg_v10 = final_cube.sel(time = tmp).isel(x = x_index, y = y_index).avg_v10.values\n",
    "                dwd_avg_t2m = final_cube.sel(time = tmp).isel(x = x_index, y = y_index).avg_t2m.values\n",
    "                dwd_avg_tp = final_cube.sel(time = tmp).isel(x = x_index, y = y_index).avg_tp.values\n",
    "            \n",
    "                dwd_max_wind_speed = final_cube.sel(time = tmp).isel(x = x_index, y = y_index).max_wind_speed.values\n",
    "                \n",
    "                if i == 9:\n",
    "                    values_t2m_dwd.append(dwd_max_t2m)\n",
    "                    values_wind_speed_dwd.append(dwd_max_wind_speed)\n",
    "                    values_tp_dwd.append(dwd_max_tp)\n",
    "                    if path.parts[-1] == 'positives':\n",
    "                        values_t2m_positives_dwd.append(dwd_max_t2m)\n",
    "                        values_wind_speed_positives_dwd.append(dwd_max_wind_speed)\n",
    "                        values_tp_positives_dwd.append(dwd_max_tp)\n",
    "                    else:\n",
    "                        values_t2m_negatives_dwd.append(dwd_max_t2m)\n",
    "                        values_wind_speed_negatives_dwd.append(dwd_max_wind_speed)\n",
    "                        values_tp_negatives_dwd.append(dwd_max_tp)\n",
    "            \n",
    "                #Change the values in the file\n",
    "                test[i][7] = dwd_max_u10\n",
    "                test[i][8] = dwd_max_v10\n",
    "                test[i][10] = dwd_max_t2m\n",
    "                test[i][12] = dwd_max_tp\n",
    "                test[i][13] = dwd_min_u10\n",
    "                test[i][14] = dwd_min_v10\n",
    "                test[i][16] = dwd_min_t2m\n",
    "                test[i][18] = dwd_min_tp\n",
    "                test[i][19] = dwd_avg_u10\n",
    "                test[i][20] = dwd_avg_v10\n",
    "                test[i][22] = dwd_avg_t2m\n",
    "                test[i][24] = dwd_avg_tp\n",
    "                test[i][30] = dwd_max_wind_speed\n",
    "            \n",
    "            #Save the new values to the file\n",
    "            np.save(path / file_name, test)"
   ]
  },
  {
   "cell_type": "code",
   "execution_count": 9,
   "id": "mounted-monday",
   "metadata": {},
   "outputs": [],
   "source": [
    "path = Path.home() / 'hdd1/diogenis/observatory/positives'\n",
    "change_npy_files(path)"
   ]
  },
  {
   "cell_type": "code",
   "execution_count": 10,
   "id": "funny-necessity",
   "metadata": {},
   "outputs": [],
   "source": [
    "path = Path.home() / 'hdd1/diogenis/observatory/negatives'\n",
    "change_npy_files(path)"
   ]
  },
  {
   "cell_type": "code",
   "execution_count": 11,
   "id": "labeled-rachel",
   "metadata": {},
   "outputs": [],
   "source": [
    "values_t2m_era5 = np.array(values_t2m_era5)\n",
    "values_wind_speed_era5 = np.array(values_wind_speed_era5)\n",
    "values_tp_era5 = np.array(values_tp_era5)\n",
    "values_t2m_positives_era5 = np.array(values_t2m_positives_era5)\n",
    "values_wind_speed_positives_era5 = np.array(values_wind_speed_positives_era5)\n",
    "values_tp_positives_era5 = np.array(values_tp_positives_era5)\n",
    "values_t2m_negatives_era5 = np.array(values_t2m_negatives_era5)\n",
    "values_wind_speed_negatives_era5 = np.array(values_wind_speed_negatives_era5)\n",
    "values_tp_negatives_era5 = np.array(values_tp_negatives_era5)\n",
    "\n",
    "values_t2m_dwd = np.array(values_t2m_dwd)\n",
    "values_wind_speed_dwd = np.array(values_wind_speed_dwd)\n",
    "values_tp_dwd = np.array(values_tp_dwd)\n",
    "values_t2m_positives_dwd = np.array(values_t2m_positives_dwd)\n",
    "values_wind_speed_positives_dwd = np.array(values_wind_speed_positives_dwd)\n",
    "values_tp_positives_dwd = np.array(values_tp_positives_dwd)\n",
    "values_t2m_negatives_dwd = np.array(values_t2m_negatives_dwd)\n",
    "values_wind_speed_negatives_dwd = np.array(values_wind_speed_negatives_dwd)\n",
    "values_tp_negatives_dwd = np.array(values_tp_negatives_dwd)"
   ]
  },
  {
   "cell_type": "code",
   "execution_count": 12,
   "id": "dangerous-cooper",
   "metadata": {},
   "outputs": [],
   "source": [
    "t2m_difference = values_t2m_era5 - values_t2m_dwd\n",
    "wind_speed_difference = values_wind_speed_era5 - values_wind_speed_dwd\n",
    "tp_difference = values_tp_era5 - values_tp_dwd\n",
    "t2m_positives_difference = values_t2m_positives_era5 - values_t2m_positives_dwd\n",
    "tp_positives_difference = values_tp_positives_era5 - values_tp_positives_dwd\n",
    "wind_speed_positives_difference = values_wind_speed_positives_era5 - values_wind_speed_positives_dwd\n",
    "t2m_negatives_difference = values_t2m_negatives_era5 - values_t2m_negatives_dwd\n",
    "tp_negatives_difference = values_tp_negatives_era5 - values_tp_negatives_dwd\n",
    "wind_speed_negatives_difference = values_wind_speed_negatives_era5 - values_wind_speed_negatives_dwd"
   ]
  },
  {
   "cell_type": "code",
   "execution_count": 13,
   "id": "characteristic-montgomery",
   "metadata": {},
   "outputs": [],
   "source": [
    "def compare_stats(era5, dwd, stat):\n",
    "    era5_max = era5.max()\n",
    "    dwd_max = dwd.max()\n",
    "    print('The era5 max ' + stat + ' is: ' + str(era5_max))\n",
    "    print('The dwd max ' + stat + ' is: ' + str(dwd_max))\n",
    "    \n",
    "    era5_min = era5.min()\n",
    "    dwd_min = dwd.min()\n",
    "    print('The era5 min ' + stat + ' is: ' + str(era5_min))\n",
    "    print('The dwd min ' + stat + ' is: ' + str(dwd_min))\n",
    "    \n",
    "    era5_avg = era5.mean()\n",
    "    dwd_avg = dwd.mean()\n",
    "    print('The era5 avg ' + stat + ' is: ' + str(era5_avg))\n",
    "    print('The dwd avg ' + stat + ' is: ' + str(dwd_avg))\n",
    "    \n",
    "    era5_std = era5.std()\n",
    "    dwd_std = dwd.std()\n",
    "    print('The era5 std ' + stat + ' is: ' + str(era5_std))\n",
    "    print('The dwd std ' + stat + ' is: ' + str(dwd_std))"
   ]
  },
  {
   "cell_type": "code",
   "execution_count": 14,
   "id": "knowing-pendant",
   "metadata": {},
   "outputs": [
    {
     "name": "stdout",
     "output_type": "stream",
     "text": [
      "The era5 max t2m is: 314.914\n",
      "The dwd max t2m is: 317.35217\n",
      "The era5 min t2m is: 290.84912\n",
      "The dwd min t2m is: 288.9895\n",
      "The era5 avg t2m is: 307.9903\n",
      "The dwd avg t2m is: 309.40182\n",
      "The era5 std t2m is: 4.270157\n",
      "The dwd std t2m is: 5.2756066\n"
     ]
    }
   ],
   "source": [
    "compare_stats(values_t2m_era5, values_t2m_dwd, 't2m')"
   ]
  },
  {
   "cell_type": "code",
   "execution_count": 15,
   "id": "conservative-origin",
   "metadata": {},
   "outputs": [
    {
     "name": "stdout",
     "output_type": "stream",
     "text": [
      "The era5 max wind speed is: 12.721206\n",
      "The dwd max wind speed is: 11.271001\n",
      "The era5 min wind speed is: 0.74049556\n",
      "The dwd min wind speed is: 0.97629046\n",
      "The era5 avg wind speed is: 4.284084\n",
      "The dwd avg wind speed is: 5.0259604\n",
      "The era5 std wind speed is: 1.7937676\n",
      "The dwd std wind speed is: 1.9416236\n"
     ]
    }
   ],
   "source": [
    "compare_stats(values_wind_speed_era5, values_wind_speed_dwd, 'wind speed')"
   ]
  },
  {
   "cell_type": "code",
   "execution_count": 16,
   "id": "cooked-answer",
   "metadata": {},
   "outputs": [
    {
     "name": "stdout",
     "output_type": "stream",
     "text": [
      "The era5 max tp is: 0.04634493\n",
      "The dwd max tp is: 0.024033204\n",
      "The era5 min tp is: 0.0\n",
      "The dwd min tp is: 0.0\n",
      "The era5 avg tp is: 0.00032398105\n",
      "The dwd avg tp is: 0.00015855567\n",
      "The era5 std tp is: 0.002099894\n",
      "The dwd std tp is: 0.0012301025\n"
     ]
    }
   ],
   "source": [
    "compare_stats(values_tp_era5, values_tp_dwd, 'tp')"
   ]
  },
  {
   "cell_type": "code",
   "execution_count": 17,
   "id": "consolidated-migration",
   "metadata": {},
   "outputs": [
    {
     "name": "stdout",
     "output_type": "stream",
     "text": [
      "The era5 max t2m positives is: 314.914\n",
      "The dwd max t2m positives is: 317.35217\n",
      "The era5 min t2m positives is: 295.7981\n",
      "The dwd min t2m positives is: 298.5094\n",
      "The era5 avg t2m positives is: 308.97565\n",
      "The dwd avg t2m positives is: 310.547\n",
      "The era5 std t2m positives is: 3.3970466\n",
      "The dwd std t2m positives is: 4.39506\n"
     ]
    }
   ],
   "source": [
    "compare_stats(values_t2m_positives_era5, values_t2m_positives_dwd, 't2m positives')"
   ]
  },
  {
   "cell_type": "code",
   "execution_count": 18,
   "id": "choice-sending",
   "metadata": {},
   "outputs": [
    {
     "name": "stdout",
     "output_type": "stream",
     "text": [
      "The era5 max wind speed positives is: 12.721206\n",
      "The dwd max wind speed positives is: 11.271001\n",
      "The era5 min wind speed positives is: 1.2105005\n",
      "The dwd min wind speed positives is: 1.792283\n",
      "The era5 avg wind speed positives is: 4.450624\n",
      "The dwd avg wind speed positives is: 5.1308603\n",
      "The era5 std wind speed positives is: 1.7233194\n",
      "The dwd std wind speed positives is: 1.9570065\n"
     ]
    }
   ],
   "source": [
    "compare_stats(values_wind_speed_positives_era5, values_wind_speed_positives_dwd, 'wind speed positives')"
   ]
  },
  {
   "cell_type": "code",
   "execution_count": 19,
   "id": "obvious-titanium",
   "metadata": {},
   "outputs": [
    {
     "name": "stdout",
     "output_type": "stream",
     "text": [
      "The era5 max tp positives is: 0.003579609\n",
      "The dwd max tp positives is: 0.008996094\n",
      "The era5 min tp positives is: 0.0\n",
      "The dwd min tp positives is: 0.0\n",
      "The era5 avg tp positives is: 3.321654e-05\n",
      "The dwd avg tp positives is: 1.3147829e-05\n",
      "The era5 std tp positives is: 0.00012738511\n",
      "The dwd std tp positives is: 0.00021703528\n"
     ]
    }
   ],
   "source": [
    "compare_stats(values_tp_positives_era5, values_tp_positives_dwd, 'tp positives')"
   ]
  },
  {
   "cell_type": "code",
   "execution_count": 20,
   "id": "cooperative-printer",
   "metadata": {},
   "outputs": [
    {
     "name": "stdout",
     "output_type": "stream",
     "text": [
      "The era5 max t2m negatives is: 312.05972\n",
      "The dwd max t2m negatives is: 311.75113\n",
      "The era5 min t2m negatives is: 290.84912\n",
      "The dwd min t2m negatives is: 288.9895\n",
      "The era5 avg t2m negatives is: 301.53278\n",
      "The dwd avg t2m negatives is: 301.8974\n",
      "The era5 std t2m negatives is: 3.7472901\n",
      "The dwd std t2m negatives is: 4.3273787\n"
     ]
    }
   ],
   "source": [
    "compare_stats(values_t2m_negatives_era5, values_t2m_negatives_dwd, 't2m negatives')"
   ]
  },
  {
   "cell_type": "code",
   "execution_count": 21,
   "id": "returning-burton",
   "metadata": {},
   "outputs": [
    {
     "name": "stdout",
     "output_type": "stream",
     "text": [
      "The era5 max wind speed negatives is: 11.126452\n",
      "The dwd max wind speed negatives is: 10.93111\n",
      "The era5 min wind speed negatives is: 0.74049556\n",
      "The dwd min wind speed negatives is: 0.97629046\n",
      "The era5 avg wind speed negatives is: 3.1926913\n",
      "The dwd avg wind speed negatives is: 4.338512\n",
      "The era5 std wind speed negatives is: 1.8623742\n",
      "The dwd std wind speed negatives is: 1.6829104\n"
     ]
    }
   ],
   "source": [
    "compare_stats(values_wind_speed_negatives_era5, values_wind_speed_negatives_dwd, 'wind speed negatives')"
   ]
  },
  {
   "cell_type": "code",
   "execution_count": 22,
   "id": "emerging-strike",
   "metadata": {},
   "outputs": [
    {
     "name": "stdout",
     "output_type": "stream",
     "text": [
      "The era5 max tp negatives is: 0.04634493\n",
      "The dwd max tp negatives is: 0.024033204\n",
      "The era5 min tp negatives is: 0.0\n",
      "The dwd min tp negatives is: 0.0\n",
      "The era5 avg tp negatives is: 0.002229458\n",
      "The dwd avg tp negatives is: 0.0011114617\n",
      "The era5 std tp negatives is: 0.0053866142\n",
      "The dwd std tp negatives is: 0.0031739664\n"
     ]
    }
   ],
   "source": [
    "compare_stats(values_tp_negatives_era5, values_tp_negatives_dwd, 'tp negatives')"
   ]
  },
  {
   "cell_type": "code",
   "execution_count": 23,
   "id": "acting-sleeve",
   "metadata": {},
   "outputs": [],
   "source": [
    "def calculate_difference_stats(arr, stat):\n",
    "    print(\"The max of \" + stat + ' difference is ' + str(arr.max()))\n",
    "    print(\"The min of \" + stat + ' difference is ' + str(arr.min()))\n",
    "    print(\"The avg of \" + stat + ' difference is ' + str(arr.mean()))\n",
    "    print(\"The std of \" + stat + ' difference is ' + str(arr.std()))"
   ]
  },
  {
   "cell_type": "code",
   "execution_count": 24,
   "id": "czech-bunch",
   "metadata": {},
   "outputs": [
    {
     "name": "stdout",
     "output_type": "stream",
     "text": [
      "The max of t2m difference is 7.4163513\n",
      "The min of t2m difference is -11.46756\n",
      "The avg of t2m difference is -1.4115715\n",
      "The std of t2m difference is 2.869561\n"
     ]
    }
   ],
   "source": [
    "calculate_difference_stats(t2m_difference, 't2m')"
   ]
  },
  {
   "cell_type": "code",
   "execution_count": 25,
   "id": "russian-heaven",
   "metadata": {},
   "outputs": [
    {
     "name": "stdout",
     "output_type": "stream",
     "text": [
      "The max of wind speed difference is 8.840739\n",
      "The min of wind speed difference is -5.775268\n",
      "The avg of wind speed difference is -0.74187624\n",
      "The std of wind speed difference is 2.1902664\n"
     ]
    }
   ],
   "source": [
    "calculate_difference_stats(wind_speed_difference, 'wind speed')"
   ]
  },
  {
   "cell_type": "code",
   "execution_count": 26,
   "id": "superb-isolation",
   "metadata": {},
   "outputs": [
    {
     "name": "stdout",
     "output_type": "stream",
     "text": [
      "The max of tp difference is 0.03002071\n",
      "The min of tp difference is -0.015572326\n",
      "The avg of tp difference is 0.00016542539\n",
      "The std of tp difference is 0.0014382062\n"
     ]
    }
   ],
   "source": [
    "calculate_difference_stats(tp_difference, 'tp')"
   ]
  },
  {
   "cell_type": "code",
   "execution_count": 27,
   "id": "corporate-environment",
   "metadata": {},
   "outputs": [
    {
     "name": "stdout",
     "output_type": "stream",
     "text": [
      "The max of t2m positives difference is 7.4163513\n",
      "The min of t2m positives difference is -11.46756\n",
      "The avg of t2m positives difference is -1.5713344\n",
      "The std of t2m positives difference is 2.902588\n"
     ]
    }
   ],
   "source": [
    "calculate_difference_stats(t2m_positives_difference, 't2m positives')"
   ]
  },
  {
   "cell_type": "code",
   "execution_count": 28,
   "id": "emotional-processor",
   "metadata": {},
   "outputs": [
    {
     "name": "stdout",
     "output_type": "stream",
     "text": [
      "The max of tp positives difference is 0.002274938\n",
      "The min of tp positives difference is -0.0054164845\n",
      "The avg of tp positives difference is 2.0068712e-05\n",
      "The std of tp positives difference is 0.00017049932\n"
     ]
    }
   ],
   "source": [
    "calculate_difference_stats(tp_positives_difference, 'tp positives')"
   ]
  },
  {
   "cell_type": "code",
   "execution_count": 29,
   "id": "alpine-atlas",
   "metadata": {},
   "outputs": [
    {
     "name": "stdout",
     "output_type": "stream",
     "text": [
      "The max of wind speed positives difference is 7.3114696\n",
      "The min of wind speed positives difference is -5.3615417\n",
      "The avg of wind speed positives difference is -0.68023664\n",
      "The std of wind speed positives difference is 2.2227187\n"
     ]
    }
   ],
   "source": [
    "calculate_difference_stats(wind_speed_positives_difference, 'wind speed positives')"
   ]
  },
  {
   "cell_type": "code",
   "execution_count": 30,
   "id": "independent-action",
   "metadata": {},
   "outputs": [
    {
     "name": "stdout",
     "output_type": "stream",
     "text": [
      "The max of t2m negatives difference is 5.896454\n",
      "The min of t2m negatives difference is -8.217407\n",
      "The avg of t2m negatives difference is -0.36459243\n",
      "The std of t2m negatives difference is 2.3919952\n"
     ]
    }
   ],
   "source": [
    "calculate_difference_stats(t2m_negatives_difference, 't2m negatives')"
   ]
  },
  {
   "cell_type": "code",
   "execution_count": 31,
   "id": "pretty-personality",
   "metadata": {},
   "outputs": [
    {
     "name": "stdout",
     "output_type": "stream",
     "text": [
      "The max of tp negatives difference is 0.03002071\n",
      "The min of tp negatives difference is -0.015572326\n",
      "The avg of tp negatives difference is 0.0011179963\n",
      "The std of tp negatives difference is 0.0037930508\n"
     ]
    }
   ],
   "source": [
    "calculate_difference_stats(tp_negatives_difference, 'tp negatives')"
   ]
  },
  {
   "cell_type": "code",
   "execution_count": 32,
   "id": "engaged-nutrition",
   "metadata": {},
   "outputs": [
    {
     "name": "stdout",
     "output_type": "stream",
     "text": [
      "The max of wind speed negatives difference is 8.840739\n",
      "The min of wind speed negatives difference is -5.775268\n",
      "The avg of wind speed negatives difference is -1.145821\n",
      "The std of wind speed negatives difference is 1.9159012\n"
     ]
    }
   ],
   "source": [
    "calculate_difference_stats(wind_speed_negatives_difference, 'wind speed negatives')"
   ]
  },
  {
   "cell_type": "code",
   "execution_count": 51,
   "id": "premier-bouquet",
   "metadata": {},
   "outputs": [
    {
     "data": {
      "image/png": "[encoded data removed]",
      "text/plain": [
       "<Figure size 864x576 with 1 Axes>"
      ]
     },
     "metadata": {
      "needs_background": "light"
     },
     "output_type": "display_data"
    }
   ],
   "source": [
    "plt.figure(figsize=(12,8))\n",
    "plt.title(\"Max t2m\")\n",
    "plt.hist([values_t2m_era5, values_t2m_dwd], label=['era5', 'dwd'])\n",
    "plt.legend(loc='upper right')\n",
    "plt.show()"
   ]
  },
  {
   "cell_type": "code",
   "execution_count": 52,
   "id": "vocational-ready",
   "metadata": {},
   "outputs": [
    {
     "data": {
      "image/png": "[encoded data removed]",
      "text/plain": [
       "<Figure size 864x576 with 1 Axes>"
      ]
     },
     "metadata": {
      "needs_background": "light"
     },
     "output_type": "display_data"
    }
   ],
   "source": [
    "plt.figure(figsize=(12,8))\n",
    "plt.title(\"Max wind speed\")\n",
    "plt.hist([values_wind_speed_era5, values_wind_speed_dwd], label=['era5', 'dwd'])\n",
    "plt.legend(loc='upper right')\n",
    "plt.show()"
   ]
  },
  {
   "cell_type": "code",
   "execution_count": 53,
   "id": "north-procedure",
   "metadata": {},
   "outputs": [
    {
     "data": {
      "image/png": "[encoded data removed]",
      "text/plain": [
       "<Figure size 864x576 with 1 Axes>"
      ]
     },
     "metadata": {
      "needs_background": "light"
     },
     "output_type": "display_data"
    }
   ],
   "source": [
    "plt.figure(figsize=(12,8))\n",
    "plt.title(\"Max tp\")\n",
    "plt.hist([values_tp_era5, values_tp_dwd], label=['era5', 'dwd'])\n",
    "plt.legend(loc='upper right')\n",
    "plt.show()"
   ]
  },
  {
   "cell_type": "code",
   "execution_count": 54,
   "id": "finnish-ribbon",
   "metadata": {},
   "outputs": [
    {
     "data": {
      "image/png": "[encoded data removed]",
      "text/plain": [
       "<Figure size 864x576 with 1 Axes>"
      ]
     },
     "metadata": {
      "needs_background": "light"
     },
     "output_type": "display_data"
    }
   ],
   "source": [
    "plt.figure(figsize=(12,8))\n",
    "plt.title(\"Max t2m in positives\")\n",
    "plt.hist([values_t2m_positives_era5, values_t2m_positives_dwd], label=['era5', 'dwd'])\n",
    "plt.legend(loc='upper right')\n",
    "plt.show()"
   ]
  },
  {
   "cell_type": "code",
   "execution_count": 55,
   "id": "floating-services",
   "metadata": {},
   "outputs": [
    {
     "data": {
      "image/png": "[encoded data removed]",
      "text/plain": [
       "<Figure size 864x576 with 1 Axes>"
      ]
     },
     "metadata": {
      "needs_background": "light"
     },
     "output_type": "display_data"
    }
   ],
   "source": [
    "plt.figure(figsize=(12,8))\n",
    "plt.title(\"Max wind speed in positives\")\n",
    "plt.hist([values_wind_speed_positives_era5, values_wind_speed_positives_dwd], label=['era5', 'dwd'])\n",
    "plt.legend(loc='upper right')\n",
    "plt.show()"
   ]
  },
  {
   "cell_type": "code",
   "execution_count": 56,
   "id": "aggregate-budapest",
   "metadata": {},
   "outputs": [
    {
     "data": {
      "image/png": "[encoded data removed]",
      "text/plain": [
       "<Figure size 864x576 with 1 Axes>"
      ]
     },
     "metadata": {
      "needs_background": "light"
     },
     "output_type": "display_data"
    }
   ],
   "source": [
    "plt.figure(figsize=(12,8))\n",
    "plt.title(\"Max tp in positives\")\n",
    "plt.hist([values_tp_positives_era5, values_tp_positives_dwd], label=['era5', 'dwd'])\n",
    "plt.legend(loc='upper right')\n",
    "plt.show()"
   ]
  },
  {
   "cell_type": "code",
   "execution_count": 57,
   "id": "ancient-litigation",
   "metadata": {},
   "outputs": [
    {
     "data": {
      "image/png": "[encoded data removed]",
      "text/plain": [
       "<Figure size 864x576 with 1 Axes>"
      ]
     },
     "metadata": {
      "needs_background": "light"
     },
     "output_type": "display_data"
    }
   ],
   "source": [
    "plt.figure(figsize=(12,8))\n",
    "plt.title(\"Max t2m in negatives\")\n",
    "plt.hist([values_t2m_negatives_era5, values_t2m_negatives_dwd], label=['era5', 'dwd'])\n",
    "plt.legend(loc='upper right')\n",
    "plt.show()"
   ]
  },
  {
   "cell_type": "code",
   "execution_count": 58,
   "id": "placed-suspension",
   "metadata": {},
   "outputs": [
    {
     "data": {
      "image/png": "[encoded data removed]",
      "text/plain": [
       "<Figure size 864x576 with 1 Axes>"
      ]
     },
     "metadata": {
      "needs_background": "light"
     },
     "output_type": "display_data"
    }
   ],
   "source": [
    "plt.figure(figsize=(12,8))\n",
    "plt.title(\"Max wind speed in negatives\")\n",
    "plt.hist([values_wind_speed_negatives_era5, values_wind_speed_negatives_dwd], label=['era5', 'dwd'])\n",
    "plt.legend(loc='upper right')\n",
    "plt.show()"
   ]
  },
  {
   "cell_type": "code",
   "execution_count": 59,
   "id": "expanded-wyoming",
   "metadata": {},
   "outputs": [
    {
     "data": {
      "image/png": "[encoded data removed]",
      "text/plain": [
       "<Figure size 864x576 with 1 Axes>"
      ]
     },
     "metadata": {
      "needs_background": "light"
     },
     "output_type": "display_data"
    }
   ],
   "source": [
    "plt.figure(figsize=(12,8))\n",
    "plt.title(\"Max tp in negatives\")\n",
    "plt.hist([values_tp_negatives_era5, values_tp_negatives_dwd], label=['era5', 'dwd'])\n",
    "plt.legend(loc='upper right')\n",
    "plt.show()"
   ]
  },
  {
   "cell_type": "code",
   "execution_count": 42,
   "id": "concrete-bachelor",
   "metadata": {},
   "outputs": [
    {
     "data": {
      "image/png": "[encoded data removed]",
      "text/plain": [
       "<Figure size 864x576 with 1 Axes>"
      ]
     },
     "metadata": {
      "needs_background": "light"
     },
     "output_type": "display_data"
    }
   ],
   "source": [
    "plt.figure(figsize=(12,8))\n",
    "plt.title(\"t2m differences\")\n",
    "plt.hist(t2m_difference)\n",
    "plt.show()"
   ]
  },
  {
   "cell_type": "code",
   "execution_count": 43,
   "id": "global-mercury",
   "metadata": {},
   "outputs": [
    {
     "data": {
      "image/png": "[encoded data removed]",
      "text/plain": [
       "<Figure size 864x576 with 1 Axes>"
      ]
     },
     "metadata": {
      "needs_background": "light"
     },
     "output_type": "display_data"
    }
   ],
   "source": [
    "plt.figure(figsize=(12,8))\n",
    "plt.title(\"wind speed differences\")\n",
    "plt.hist(wind_speed_difference)\n",
    "plt.show()"
   ]
  },
  {
   "cell_type": "code",
   "execution_count": 44,
   "id": "economic-element",
   "metadata": {},
   "outputs": [
    {
     "data": {
      "image/png": "[encoded data removed]",
      "text/plain": [
       "<Figure size 864x576 with 1 Axes>"
      ]
     },
     "metadata": {
      "needs_background": "light"
     },
     "output_type": "display_data"
    }
   ],
   "source": [
    "plt.figure(figsize=(12,8))\n",
    "plt.title(\"tp differences\")\n",
    "plt.hist(tp_difference)\n",
    "plt.show()"
   ]
  },
  {
   "cell_type": "code",
   "execution_count": 45,
   "id": "dental-steps",
   "metadata": {},
   "outputs": [
    {
     "data": {
      "image/png": "[encoded data removed]",
      "text/plain": [
       "<Figure size 864x576 with 1 Axes>"
      ]
     },
     "metadata": {
      "needs_background": "light"
     },
     "output_type": "display_data"
    }
   ],
   "source": [
    "plt.figure(figsize=(12,8))\n",
    "plt.title(\"t2m positives differences\")\n",
    "plt.hist(t2m_positives_difference)\n",
    "plt.show()"
   ]
  },
  {
   "cell_type": "code",
   "execution_count": 46,
   "id": "fourth-cancer",
   "metadata": {},
   "outputs": [
    {
     "data": {
      "image/png": "[encoded data removed]",
      "text/plain": [
       "<Figure size 864x576 with 1 Axes>"
      ]
     },
     "metadata": {
      "needs_background": "light"
     },
     "output_type": "display_data"
    }
   ],
   "source": [
    "plt.figure(figsize=(12,8))\n",
    "plt.title(\"wind speed positives differences\")\n",
    "plt.hist(wind_speed_positives_difference)\n",
    "plt.show()"
   ]
  },
  {
   "cell_type": "code",
   "execution_count": 47,
   "id": "forbidden-richards",
   "metadata": {},
   "outputs": [
    {
     "data": {
      "image/png": "[encoded data removed]",
      "text/plain": [
       "<Figure size 864x576 with 1 Axes>"
      ]
     },
     "metadata": {
      "needs_background": "light"
     },
     "output_type": "display_data"
    }
   ],
   "source": [
    "plt.figure(figsize=(12,8))\n",
    "plt.title(\"tp positives differences\")\n",
    "plt.hist(tp_positives_difference)\n",
    "plt.show()"
   ]
  },
  {
   "cell_type": "code",
   "execution_count": 48,
   "id": "covered-nirvana",
   "metadata": {},
   "outputs": [
    {
     "data": {
      "image/png": "[encoded data removed]",
      "text/plain": [
       "<Figure size 864x576 with 1 Axes>"
      ]
     },
     "metadata": {
      "needs_background": "light"
     },
     "output_type": "display_data"
    }
   ],
   "source": [
    "plt.figure(figsize=(12,8))\n",
    "plt.title(\"t2m negatives differences\")\n",
    "plt.hist(t2m_negatives_difference)\n",
    "plt.show()"
   ]
  },
  {
   "cell_type": "code",
   "execution_count": 49,
   "id": "elementary-estate",
   "metadata": {},
   "outputs": [
    {
     "data": {
      "image/png": "[encoded data removed]",
      "text/plain": [
       "<Figure size 864x576 with 1 Axes>"
      ]
     },
     "metadata": {
      "needs_background": "light"
     },
     "output_type": "display_data"
    }
   ],
   "source": [
    "plt.figure(figsize=(12,8))\n",
    "plt.title(\"wind speed negatives differences\")\n",
    "plt.hist(wind_speed_negatives_difference)\n",
    "plt.show()"
   ]
  },
  {
   "cell_type": "code",
   "execution_count": 50,
   "id": "regulation-controversy",
   "metadata": {},
   "outputs": [
    {
     "data": {
      "image/png": "[encoded data removed]",
      "text/plain": [
       "<Figure size 864x576 with 1 Axes>"
      ]
     },
     "metadata": {
      "needs_background": "light"
     },
     "output_type": "display_data"
    }
   ],
   "source": [
    "plt.figure(figsize=(12,8))\n",
    "plt.title(\"tp negatives differences\")\n",
    "plt.hist(tp_negatives_difference)\n",
    "plt.show()"
   ]
  },
  {
   "cell_type": "code",
   "execution_count": null,
   "id": "prompt-migration",
   "metadata": {},
   "outputs": [],
   "source": []
  }
 ],
 "metadata": {
  "kernelspec": {
   "display_name": "meteo",
   "language": "python",
   "name": "meteo"
  },
  "language_info": {
   "codemirror_mode": {
    "name": "ipython",
    "version": 3
   },
   "file_extension": ".py",
   "mimetype": "text/x-python",
   "name": "python",
   "nbconvert_exporter": "python",
   "pygments_lexer": "ipython3",
   "version": "3.7.3"
  }
 },
 "nbformat": 4,
 "nbformat_minor": 5
}
